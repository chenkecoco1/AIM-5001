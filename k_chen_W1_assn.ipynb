{
 "cells": [
  {
   "cell_type": "markdown",
   "metadata": {},
   "source": [
    " \n",
    " "
   ]
  },
  {
   "cell_type": "markdown",
   "metadata": {},
   "source": [
    "# AIM-5001 WEEK 1 Assignment\n",
    "\n"
   ]
  },
  {
   "cell_type": "markdown",
   "metadata": {},
   "source": [
    "## Dataset Links\n",
    "\n",
    "- The GitHub copy of dataset link is\n",
    "https://github.com/chenkecoco1/AIM-5001/blob/master/datasets_1007_1814_Tesla.csv%20-%20Tesla.csv.csv\n",
    "    \n",
    "- The dataset original location is https://www.kaggle.com/rpaguirre/tesla-stock-price\n",
    "\n"
   ]
  },
  {
   "cell_type": "markdown",
   "metadata": {},
   "source": [
    "## Purpose of dataset selection\n",
    "\n",
    "Currently I am holding Tesla in my stock account. In the past few months, Tesla increased sharply. The stock price high enough to split 1 share to 5 shares. However, last week, all Hi-Tech stocks suffered a dramatically jumping down. Therefore, I would like to know the stock price trend in the past few years of Tesla to get a better understanding of this stock on the surface of data.\n",
    "\n",
    "\n",
    "## Questions\n",
    "\n",
    "1. When was the highest price of Tesla during the time period in the dataset provided? What was the price?\n",
    "2. What was the average price of Tesla in the most recent year the dateset provided? \n",
    "3. What was the average daily quote change of the stock price of the most recent year the dateset provided? \n",
    "etc..."
   ]
  },
  {
   "cell_type": "markdown",
   "metadata": {},
   "source": [
    "\n",
    "\n"
   ]
  },
  {
   "cell_type": "code",
   "execution_count": null,
   "metadata": {},
   "outputs": [],
   "source": []
  }
 ],
 "metadata": {
  "kernelspec": {
   "display_name": "Python 3",
   "language": "python",
   "name": "python3"
  },
  "language_info": {
   "codemirror_mode": {
    "name": "ipython",
    "version": 3
   },
   "file_extension": ".py",
   "mimetype": "text/x-python",
   "name": "python",
   "nbconvert_exporter": "python",
   "pygments_lexer": "ipython3",
   "version": "3.7.6"
  }
 },
 "nbformat": 4,
 "nbformat_minor": 4
}
