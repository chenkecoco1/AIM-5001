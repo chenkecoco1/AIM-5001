{
 "cells": [
  {
   "cell_type": "markdown",
   "metadata": {},
   "source": [
    "# AIM-5001 WEEK 2 Assignment"
   ]
  },
  {
   "cell_type": "markdown",
   "metadata": {},
   "source": [
    "## Prework-Import the Data\n"
   ]
  },
  {
   "cell_type": "code",
   "execution_count": 4,
   "metadata": {},
   "outputs": [
    {
     "name": "stdout",
     "output_type": "stream",
     "text": [
      "['high', 'high', '2', '4', 'med', 'low', 'unacc']\n",
      "['high', 'high', '4', 'more', 'small', 'high', 'acc']\n",
      "['high', 'high', '4', 'more', 'big', 'low', 'unacc']\n",
      "['high', 'low', '2', 'more', 'big', 'high', 'acc']\n",
      "['vhigh', 'low', '3', '2', 'med', 'med', 'unacc']\n",
      "['low', 'high', '2', '2', 'small', 'low', 'unacc']\n",
      "['med', 'med', '4', 'more', 'med', 'high', 'vgood']\n",
      "['low', 'low', '3', '2', 'big', 'med', 'unacc']\n",
      "['vhigh', 'low', '2', '2', 'small', 'low', 'unacc']\n",
      "['vhigh', 'high', '4', '4', 'med', 'low', 'unacc']\n",
      "['low', 'low', '2', '2', 'med', 'med', 'unacc']\n",
      "['vhigh', 'low', '4', 'more', 'small', 'high', 'acc']\n",
      "['high', 'low', '2', '4', 'big', 'med', 'acc']\n",
      "['low', 'vhigh', '3', 'more', 'big', 'low', 'unacc']\n",
      "['high', 'low', '5more', '2', 'big', 'med', 'unacc']\n",
      "['vhigh', 'high', '2', 'more', 'med', 'high', 'unacc']\n",
      "['med', 'med', '2', '2', 'small', 'low', 'unacc']\n",
      "['high', 'low', '5more', '4', 'med', 'high', 'acc']\n",
      "['low', 'low', '3', 'more', 'med', 'high', 'vgood']\n",
      "['low', 'low', '2', '2', 'big', 'med', 'unacc']\n",
      "['med', 'high', '4', '2', 'big', 'high', 'unacc']\n",
      "['low', 'low', '2', '2', 'small', 'high', 'unacc']\n",
      "['vhigh', 'high', '5more', '4', 'med', 'med', 'unacc']\n",
      "['med', 'vhigh', '2', '2', 'big', 'low', 'unacc']\n",
      "['low', 'vhigh', '4', '4', 'big', 'low', 'unacc']\n",
      "['vhigh', 'low', '3', 'more', 'big', 'low', 'unacc']\n",
      "['med', 'vhigh', '3', '4', 'small', 'low', 'unacc']\n",
      "['high', 'high', '3', '4', 'med', 'med', 'unacc']\n",
      "['low', 'high', '5more', '2', 'big', 'low', 'unacc']\n",
      "['med', 'high', '5more', '2', 'med', 'med', 'unacc']\n",
      "['high', 'low', '3', '4', 'med', 'high', 'acc']\n",
      "['high', 'vhigh', '5more', '4', 'med', 'med', 'unacc']\n",
      "['low', 'low', '5more', '2', 'med', 'low', 'unacc']\n",
      "['vhigh', 'vhigh', '4', '2', 'big', 'high', 'unacc']\n",
      "['high', 'low', '3', '2', 'big', 'high', 'unacc']\n"
     ]
    }
   ],
   "source": [
    "import csv\n",
    "# be sure to update the path below to reflect your own environment!!\n",
    "# also be sure that the code is properly indented after you paste it!\n",
    "with open('F:/YESHIVAUNIVERSITY/Data Aquisition and Management/WEEK2/cars-sample35.txt') as csvfile:\n",
    "    readCSV = csv.reader(csvfile)\n",
    "    for row in readCSV:\n",
    "# print each row as read by the csv.reader function\n",
    "        print(row)"
   ]
  },
  {
   "cell_type": "markdown",
   "metadata": {},
   "source": [
    "## Assignment Questions\n",
    "### Q1. \n",
    "(5 Points) Your first task is to read the file again and extract these seven attributes from each line of the file and create seven distinct Python list objects comprised solely of the values you extracted for a given attribute. In other words, you should have lists of prices, maintenance costs, number of doors, etc. For example, the first five \"luggage\" values should be as follows:\n",
    "['med', 'small', 'big', 'big', 'med']\n",
    "One way to complete this task would be to use the code snippet from above as a starting point: you could replace the “print(row)” statement with whatever Python code you feel is necessary to create the seven required list objects."
   ]
  },
  {
   "cell_type": "code",
   "execution_count": 6,
   "metadata": {},
   "outputs": [
    {
     "name": "stdout",
     "output_type": "stream",
     "text": [
      "['high', 'high', 'high', 'high', 'vhigh', 'low', 'med', 'low', 'vhigh', 'vhigh', 'low', 'vhigh', 'high', 'low', 'high', 'vhigh', 'med', 'high', 'low', 'low', 'med', 'low', 'vhigh', 'med', 'low', 'vhigh', 'med', 'high', 'low', 'med', 'high', 'high', 'low', 'vhigh', 'high']\n",
      "['high', 'high', 'high', 'low', 'low', 'high', 'med', 'low', 'low', 'high', 'low', 'low', 'low', 'vhigh', 'low', 'high', 'med', 'low', 'low', 'low', 'high', 'low', 'high', 'vhigh', 'vhigh', 'low', 'vhigh', 'high', 'high', 'high', 'low', 'vhigh', 'low', 'vhigh', 'low']\n",
      "['2', '4', '4', '2', '3', '2', '4', '3', '2', '4', '2', '4', '2', '3', '5more', '2', '2', '5more', '3', '2', '4', '2', '5more', '2', '4', '3', '3', '3', '5more', '5more', '3', '5more', '5more', '4', '3']\n",
      "['4', 'more', 'more', 'more', '2', '2', 'more', '2', '2', '4', '2', 'more', '4', 'more', '2', 'more', '2', '4', 'more', '2', '2', '2', '4', '2', '4', 'more', '4', '4', '2', '2', '4', '4', '2', '2', '2']\n",
      "['med', 'small', 'big', 'big', 'med', 'small', 'med', 'big', 'small', 'med', 'med', 'small', 'big', 'big', 'big', 'med', 'small', 'med', 'med', 'big', 'big', 'small', 'med', 'big', 'big', 'big', 'small', 'med', 'big', 'med', 'med', 'med', 'med', 'big', 'big']\n",
      "['low', 'high', 'low', 'high', 'med', 'low', 'high', 'med', 'low', 'low', 'med', 'high', 'med', 'low', 'med', 'high', 'low', 'high', 'high', 'med', 'high', 'high', 'med', 'low', 'low', 'low', 'low', 'med', 'low', 'med', 'high', 'med', 'low', 'high', 'high']\n",
      "['unacc', 'acc', 'unacc', 'acc', 'unacc', 'unacc', 'vgood', 'unacc', 'unacc', 'unacc', 'unacc', 'acc', 'acc', 'unacc', 'unacc', 'unacc', 'unacc', 'acc', 'vgood', 'unacc', 'unacc', 'unacc', 'unacc', 'unacc', 'unacc', 'unacc', 'unacc', 'unacc', 'unacc', 'unacc', 'acc', 'unacc', 'unacc', 'unacc', 'unacc']\n"
     ]
    }
   ],
   "source": [
    "#use the code snippet from assignment instruction\n",
    "import csv\n",
    "with open('F:/YESHIVAUNIVERSITY/Data Aquisition and Management/WEEK2/cars-sample35.txt') as csvfile:\n",
    "    readCSV = csv.reader(csvfile)\n",
    "    \n",
    "#create 7 empty lists for distinct values\n",
    "    Price=[]\n",
    "    Maintenance_cost=[]\n",
    "    Number_of_doors=[]\n",
    "    Number_of_passengers=[]\n",
    "    Luggage_capacity=[]\n",
    "    Safety_rating=[]\n",
    "    Classification_of_vehicle=[]\n",
    "    \n",
    "#put distinct values in a list ready for printing\n",
    "    lists=[Price,Maintenance_cost,Number_of_doors,Number_of_passengers,Luggage_capacity,Safety_rating, Classification_of_vehicle]\n",
    "    \n",
    "#read each line with for loop, inside with another for loop to read elements to 7 lists\n",
    "    for row in readCSV:\n",
    "        for i in range(len(lists)):\n",
    "            lists[i].append(row[i])\n",
    "            \n",
    "#print 7 lists of distinct values as Q1\n",
    "    for Q1 in lists:\n",
    "        print(Q1)"
   ]
  },
  {
   "cell_type": "markdown",
   "metadata": {},
   "source": [
    "### Q2. \n",
    "(5 Points) Your second task is to find the list index values of each automobile having a “price” rating of \"med\". Create a new list object with your result. HINT: you can accomplish this task by searching the list of price values you created earlier. Be sure to print your results."
   ]
  },
  {
   "cell_type": "code",
   "execution_count": 7,
   "metadata": {},
   "outputs": [
    {
     "name": "stdout",
     "output_type": "stream",
     "text": [
      "[6, 16, 20, 23, 26, 29]\n"
     ]
    }
   ],
   "source": [
    "#create a list Q2 to store the list index values for condition of \"price\" requested\n",
    "Q2=[]\n",
    "\n",
    "#use for loop to filter the Price list created earlier, j indicates the index of Price list\n",
    "for j in range(len(Price)):\n",
    "    if Price[j]=='med':\n",
    "        Q2.append(j)\n",
    "print (Q2)"
   ]
  },
  {
   "cell_type": "markdown",
   "metadata": {},
   "source": [
    "### Q3.\n",
    "(5 Points) Your third task is to find the \"number of passengers\" value for each auto having a \"price\" value of \"med\". Create a new list to store your findings and be sure to print your results."
   ]
  },
  {
   "cell_type": "code",
   "execution_count": 8,
   "metadata": {},
   "outputs": [
    {
     "name": "stdout",
     "output_type": "stream",
     "text": [
      "['more', '2', '2', '2', '4', '2']\n"
     ]
    }
   ],
   "source": [
    "#create a list Q3 to store the value of given condition of \"number of passengers\" \n",
    "Q3=[]\n",
    "\n",
    "#use for loop to reach the value of the index of result Q2 , k indicates the index of Q2\n",
    "for k in Q2:\n",
    "    Q3.append(Number_of_passengers[k])\n",
    "print(Q3)"
   ]
  },
  {
   "cell_type": "markdown",
   "metadata": {},
   "source": [
    "### Q4. \n",
    "(5 Points) Your fourth task is to find the index value for each automobile having a “price” value of \"high\" and a “maintenance” value that is not \"low\". Create a new list to store your findings and be sure to print your results."
   ]
  },
  {
   "cell_type": "code",
   "execution_count": 16,
   "metadata": {},
   "outputs": [
    {
     "name": "stdout",
     "output_type": "stream",
     "text": [
      "[0, 1, 2, 27, 31]\n"
     ]
    }
   ],
   "source": [
    "#create Q4a list to store the index of for each automobile having a “price” value of \"high\"\n",
    "#Q4 list is for the final result after filtering “maintenance”\n",
    "Q4a=[]\n",
    "Q4=[]\n",
    "\n",
    "#1st round filter index for \"price\" value of \"high\"\n",
    "for l in range(len(Price)):\n",
    "    if Price[l]=='high':\n",
    "        Q4a.append(l)\n",
    "        \n",
    "#2nd round filter index for \"maintenance\" of IS NOT \"low\" with the Q4a list\n",
    "for m in Q4a:\n",
    "    if Maintenance_cost[m] !='low':\n",
    "        Q4.append(m)\n",
    "print (Q4)"
   ]
  },
  {
   "cell_type": "markdown",
   "metadata": {},
   "source": [
    "### Q5. \n",
    "(5 Points) Your fifth task is to find the index value for each auto having 2 doors and a luggage value of \"big\". Create a new list to store your findings and be sure to print your results."
   ]
  },
  {
   "cell_type": "code",
   "execution_count": 17,
   "metadata": {},
   "outputs": [
    {
     "name": "stdout",
     "output_type": "stream",
     "text": [
      "[3, 12, 19, 23]\n"
     ]
    }
   ],
   "source": [
    "#create Q5a list to store the index of for each automobile having 2 doors\n",
    "#Q5 list is for the final result after filtering “luggage”\n",
    "Q5a=[]\n",
    "Q5=[]\n",
    "\n",
    "#1st round filter index for automobile having 2 doors\n",
    "for n in range(len(Number_of_doors)):\n",
    "    if Number_of_doors[n]=='2':\n",
    "        Q5a.append(n)\n",
    "        \n",
    "#2nd round filter index for \"luggage\" of values \"big\" with the Q5a list\n",
    "for p in Q5a:\n",
    "    if Luggage_capacity[p] =='big':\n",
    "        Q5.append(p)\n",
    "print (Q5)"
   ]
  },
  {
   "cell_type": "markdown",
   "metadata": {},
   "source": [
    "### Q6. \n",
    "(5 Points) Finally, create a new list containing the only the integer equivalents of the doors values. Keep in mind that the lists you have created thus far are composed solely of strings. If you find any values of '5more' in your list, convert them to a '5'. After converting the '5more' values to '5', convert all of the items in your list to their numeric equivalent and calculate the average number of doors across all 35 autos using whichever of Python's built in functions you require. Print your result."
   ]
  },
  {
   "cell_type": "code",
   "execution_count": 18,
   "metadata": {},
   "outputs": [
    {
     "name": "stdout",
     "output_type": "stream",
     "text": [
      "3.31\n"
     ]
    }
   ],
   "source": [
    "#create empty list for Q6 contaning integer of doors values\n",
    "Q6=[]\n",
    "\n",
    "#use s loop Number_of_doors\n",
    "#if value is \"5more\", convert it to integer 5, other values convert them to integer\n",
    "for s in Number_of_doors:\n",
    "    Q6.append(int('5')) if s=='5more' else Q6.append(int(s))\n",
    "    \n",
    "#print average number of doors, result keeps 2 decimals\n",
    "print (round(sum(Q6)/len(Q6),2) )          "
   ]
  },
  {
   "cell_type": "code",
   "execution_count": null,
   "metadata": {},
   "outputs": [],
   "source": []
  }
 ],
 "metadata": {
  "kernelspec": {
   "display_name": "Python 3",
   "language": "python",
   "name": "python3"
  },
  "language_info": {
   "codemirror_mode": {
    "name": "ipython",
    "version": 3
   },
   "file_extension": ".py",
   "mimetype": "text/x-python",
   "name": "python",
   "nbconvert_exporter": "python",
   "pygments_lexer": "ipython3",
   "version": "3.7.6"
  }
 },
 "nbformat": 4,
 "nbformat_minor": 4
}
