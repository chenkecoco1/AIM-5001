{
 "cells": [
  {
   "cell_type": "markdown",
   "metadata": {},
   "source": [
    "# AIM-5001 WEEK 3 Assignment"
   ]
  },
  {
   "cell_type": "markdown",
   "metadata": {},
   "source": [
    "## Prework-Create Seven Lists"
   ]
  },
  {
   "cell_type": "code",
   "execution_count": 1,
   "metadata": {},
   "outputs": [
    {
     "name": "stdout",
     "output_type": "stream",
     "text": [
      "['high', 'high', 'high', 'high', 'vhigh', 'low', 'med', 'low', 'vhigh', 'vhigh', 'low', 'vhigh', 'high', 'low', 'high', 'vhigh', 'med', 'high', 'low', 'low', 'med', 'low', 'vhigh', 'med', 'low', 'vhigh', 'med', 'high', 'low', 'med', 'high', 'high', 'low', 'vhigh', 'high']\n",
      "['high', 'high', 'high', 'low', 'low', 'high', 'med', 'low', 'low', 'high', 'low', 'low', 'low', 'vhigh', 'low', 'high', 'med', 'low', 'low', 'low', 'high', 'low', 'high', 'vhigh', 'vhigh', 'low', 'vhigh', 'high', 'high', 'high', 'low', 'vhigh', 'low', 'vhigh', 'low']\n",
      "['2', '4', '4', '2', '3', '2', '4', '3', '2', '4', '2', '4', '2', '3', '5more', '2', '2', '5more', '3', '2', '4', '2', '5more', '2', '4', '3', '3', '3', '5more', '5more', '3', '5more', '5more', '4', '3']\n",
      "['4', 'more', 'more', 'more', '2', '2', 'more', '2', '2', '4', '2', 'more', '4', 'more', '2', 'more', '2', '4', 'more', '2', '2', '2', '4', '2', '4', 'more', '4', '4', '2', '2', '4', '4', '2', '2', '2']\n",
      "['med', 'small', 'big', 'big', 'med', 'small', 'med', 'big', 'small', 'med', 'med', 'small', 'big', 'big', 'big', 'med', 'small', 'med', 'med', 'big', 'big', 'small', 'med', 'big', 'big', 'big', 'small', 'med', 'big', 'med', 'med', 'med', 'med', 'big', 'big']\n",
      "['low', 'high', 'low', 'high', 'med', 'low', 'high', 'med', 'low', 'low', 'med', 'high', 'med', 'low', 'med', 'high', 'low', 'high', 'high', 'med', 'high', 'high', 'med', 'low', 'low', 'low', 'low', 'med', 'low', 'med', 'high', 'med', 'low', 'high', 'high']\n",
      "['unacc', 'acc', 'unacc', 'acc', 'unacc', 'unacc', 'vgood', 'unacc', 'unacc', 'unacc', 'unacc', 'acc', 'acc', 'unacc', 'unacc', 'unacc', 'unacc', 'acc', 'vgood', 'unacc', 'unacc', 'unacc', 'unacc', 'unacc', 'unacc', 'unacc', 'unacc', 'unacc', 'unacc', 'unacc', 'acc', 'unacc', 'unacc', 'unacc', 'unacc']\n"
     ]
    }
   ],
   "source": [
    "#use the code snippet from assignment instruction\n",
    "import csv\n",
    "with open('F:/YESHIVAUNIVERSITY/Data Aquisition and Management/WEEK2/cars-sample35.txt') as csvfile:\n",
    "    readCSV = csv.reader(csvfile)\n",
    "    \n",
    "#create 7 empty lists for distinct values\n",
    "    Price=[]\n",
    "    Maintenance_cost=[]\n",
    "    Number_of_doors=[]\n",
    "    Number_of_passengers=[]\n",
    "    Luggage_capacity=[]\n",
    "    Safety_rating=[]\n",
    "    Classification_of_vehicle=[]\n",
    "    \n",
    "#put distinct values in a list ready for printing\n",
    "    lists=[Price,Maintenance_cost,Number_of_doors,Number_of_passengers,Luggage_capacity,Safety_rating, Classification_of_vehicle]\n",
    "    \n",
    "#read each line with for loop, inside with another for loop to read elements to 7 lists\n",
    "    for row in readCSV:\n",
    "        for i in range(len(lists)):\n",
    "            lists[i].append(row[i])\n",
    "            \n",
    "#print 7 lists of distinct values as Prework\n",
    "    for Prework in lists:\n",
    "        print(Prework)"
   ]
  },
  {
   "cell_type": "markdown",
   "metadata": {},
   "source": [
    "## Assignment Questions\n",
    "### Q1. \n",
    "(5 Points) Your first task is to find the list index values of each automobile having a price rating of \"med\". However, you are required to do this using a list comprehension instead of a basic for or while loop. The list comprehension should create a new list containing your result. Be sure to print your results to the screen."
   ]
  },
  {
   "cell_type": "markdown",
   "metadata": {},
   "source": [
    " $\\bullet$ Take the for loop in a list comprehension instead of the for loop block and append items in the empty list."
   ]
  },
  {
   "cell_type": "code",
   "execution_count": 2,
   "metadata": {},
   "outputs": [
    {
     "name": "stdout",
     "output_type": "stream",
     "text": [
      "[6, 16, 20, 23, 26, 29]\n"
     ]
    }
   ],
   "source": [
    "#filter i with the follwing for loop comprehension, store result list q1\n",
    "\n",
    "q1=[i for i in range(len(Price)) if Price[i]==\"med\"]\n",
    "print(q1)"
   ]
  },
  {
   "cell_type": "markdown",
   "metadata": {},
   "source": [
    "### Q2. \n",
    "(5 Points) Your second task is to find the \"number of passengers\" value for each auto having a \"price\" value of \"med\" using a list comprehension instead of a basic for or while loop. The list comprehension should create a new list containing your findings. Be sure to print your results to the screen."
   ]
  },
  {
   "cell_type": "markdown",
   "metadata": {},
   "source": [
    " $\\bullet$ Take the for loop in a list comprehension instead of the for loop block and append items in the empty list as Question1."
   ]
  },
  {
   "cell_type": "code",
   "execution_count": 3,
   "metadata": {},
   "outputs": [
    {
     "name": "stdout",
     "output_type": "stream",
     "text": [
      "['more', '2', '2', '2', '4', '2']\n"
     ]
    }
   ],
   "source": [
    "#with the follwing for loop comprehension, store index k values of Number_of_passengers to list q2\n",
    "\n",
    "q2=[Number_of_passengers[k] for k in q1]\n",
    "print(q2)"
   ]
  },
  {
   "cell_type": "markdown",
   "metadata": {},
   "source": [
    "### Q3.\n",
    "(5 Points) Your third task is to find the index value for each automobile having a price value of \"high\" and a maintenance value that is not \"low\" using a list comprehension. The list comprehension should create a new list containing your findings. Be sure to print your results to the screen."
   ]
  },
  {
   "cell_type": "markdown",
   "metadata": {},
   "source": [
    " $\\bullet$ Take the for loop in a list comprehension instead of the for loop block and append items in the empty list. In the week 2 assignment, this result was implemented by 2 for loops. In this week, it can be accomplished by only 1 for loop with an \"and\" to set 2 conditions together.\n",
    " "
   ]
  },
  {
   "cell_type": "code",
   "execution_count": 4,
   "metadata": {},
   "outputs": [
    {
     "name": "stdout",
     "output_type": "stream",
     "text": [
      "[0, 1, 2, 27, 31]\n"
     ]
    }
   ],
   "source": [
    "#filter m with the follwing for loop comprehension, store result list q3\n",
    "\n",
    "q3=[m for m in range(len(Price)) if Price[m]==\"high\" and Maintenance_cost[m]!=\"low\"]\n",
    "print(q3)"
   ]
  },
  {
   "cell_type": "markdown",
   "metadata": {},
   "source": [
    "### Q4. \n",
    "(5 Points) For your fourth task, implement this same logic using a list comprehension. Apply your list comprehension to the nlist list of lists shown above. Be sure to print your newly created list to the screen."
   ]
  },
  {
   "cell_type": "markdown",
   "metadata": {},
   "source": [
    "$\\bullet$ Take the 2 layers of for loops in a list comprehension. Loop the outer layer then inner layer of the list. Use ele to loop the outer layer of nlist, use t to loop the list of each nlist elements which is ele, then store t in the flist."
   ]
  },
  {
   "cell_type": "code",
   "execution_count": 15,
   "metadata": {},
   "outputs": [
    {
     "name": "stdout",
     "output_type": "stream",
     "text": [
      "[1, 2, 3, 'A', 'B', 'C', 4, 5, 'D', 'E']\n"
     ]
    }
   ],
   "source": [
    "nlist = [[1,2,3], ['A','B','C'], [4,5], ['D','E']]\n",
    "\n",
    "#loop the outer and inner layer of each elements in 1 comprehension\n",
    "flist=[t for ele in nlist for t in ele ]\n",
    "print(flist)"
   ]
  },
  {
   "cell_type": "markdown",
   "metadata": {},
   "source": [
    "### Q5. \n",
    "(5 Points) Your fifth task is to create a user defined function that accepts as input one of the seven automobile attribute lists as well as an integer value and returns a Python dict object. Remember: a Python dict object is comprised of ‘key/value’ pairs. The integer value accepted as a parameter by your function will represent the exact number of items you are to use from the list for purposes of creating the new dict object."
   ]
  },
  {
   "cell_type": "markdown",
   "metadata": {},
   "source": [
    "$\\bullet$ Define the makedict function: looping x times of mylist. For each loop, take 'A'+current index as the KEY, and the value of current index as the VALUE, then store the key/value pair to newdict. Check if the integer exceeds the length of the list or not first to determine if the funtion can be excuted."
   ]
  },
  {
   "cell_type": "code",
   "execution_count": 12,
   "metadata": {},
   "outputs": [],
   "source": [
    "#makedict function has 2 parameters, a list and an integer. Loop key/value pairs to newdict.\n",
    "def makedict(mylist, x):\n",
    "    newdict = {}\n",
    "    \n",
    "    for w in range(x):\n",
    "        #check if x exceeds length of mylist, yes, raise error, no, excute.\n",
    "        if x>len(mylist):\n",
    "            raise ValueError('the given integer exceeds the length of the list')\n",
    "        else:\n",
    "             newdict['A'+str(w)]=mylist[w]   \n",
    "    return(newdict)"
   ]
  },
  {
   "cell_type": "markdown",
   "metadata": {},
   "source": [
    "### Q6. \n",
    "(5 Points) Now that you have your reusable user-defined function, use it to create two new dict objects containing the first seven elements of the ‘Price’ and ‘Luggage’ lists, respectively. Then, use these dict objects to tell us the price and luggage capacity of the auto identified by the ‘A4’ key value."
   ]
  },
  {
   "cell_type": "markdown",
   "metadata": {},
   "source": [
    "$\\bullet$ Simply apply the makedict function to Price and Luggage_capacity. Apply Price and Luggage_capacity as the first parameter and 7 as the second parameter."
   ]
  },
  {
   "cell_type": "code",
   "execution_count": 13,
   "metadata": {},
   "outputs": [
    {
     "name": "stdout",
     "output_type": "stream",
     "text": [
      "{'A0': 'high', 'A1': 'high', 'A2': 'high', 'A3': 'high', 'A4': 'vhigh', 'A5': 'low', 'A6': 'med'}\n",
      "{'A0': 'med', 'A1': 'small', 'A2': 'big', 'A3': 'big', 'A4': 'med', 'A5': 'small', 'A6': 'med'}\n"
     ]
    }
   ],
   "source": [
    "#apply makedict to Price\n",
    "pricepair=makedict(Price, 7)\n",
    "\n",
    "#apply makedict to Luggage_capacity\n",
    "lugcappair=makedict(Luggage_capacity, 7)\n",
    "\n",
    "print(pricepair)\n",
    "print(lugcappair)"
   ]
  },
  {
   "cell_type": "markdown",
   "metadata": {},
   "source": [
    "The 'A4' price is 'vhigh' and luggage capacity is 'med'."
   ]
  },
  {
   "cell_type": "code",
   "execution_count": null,
   "metadata": {},
   "outputs": [],
   "source": []
  }
 ],
 "metadata": {
  "kernelspec": {
   "display_name": "Python 3",
   "language": "python",
   "name": "python3"
  },
  "language_info": {
   "codemirror_mode": {
    "name": "ipython",
    "version": 3
   },
   "file_extension": ".py",
   "mimetype": "text/x-python",
   "name": "python",
   "nbconvert_exporter": "python",
   "pygments_lexer": "ipython3",
   "version": "3.7.6"
  }
 },
 "nbformat": 4,
 "nbformat_minor": 4
}
