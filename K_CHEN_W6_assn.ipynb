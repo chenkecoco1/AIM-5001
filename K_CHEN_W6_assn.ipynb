{
 "cells": [
  {
   "cell_type": "markdown",
   "metadata": {},
   "source": [
    "# AIM-5001 WEEK 6 Assignment"
   ]
  },
  {
   "cell_type": "markdown",
   "metadata": {},
   "source": [
    "## Importing Data"
   ]
  },
  {
   "cell_type": "code",
   "execution_count": 1,
   "metadata": {},
   "outputs": [
    {
     "data": {
      "text/html": [
       "<div>\n",
       "<style scoped>\n",
       "    .dataframe tbody tr th:only-of-type {\n",
       "        vertical-align: middle;\n",
       "    }\n",
       "\n",
       "    .dataframe tbody tr th {\n",
       "        vertical-align: top;\n",
       "    }\n",
       "\n",
       "    .dataframe thead th {\n",
       "        text-align: right;\n",
       "    }\n",
       "</style>\n",
       "<table border=\"1\" class=\"dataframe\">\n",
       "  <thead>\n",
       "    <tr style=\"text-align: right;\">\n",
       "      <th></th>\n",
       "      <th>carat</th>\n",
       "      <th>cut</th>\n",
       "      <th>color</th>\n",
       "      <th>clarity</th>\n",
       "      <th>depth</th>\n",
       "      <th>table</th>\n",
       "      <th>price</th>\n",
       "      <th>x</th>\n",
       "      <th>y</th>\n",
       "      <th>z</th>\n",
       "    </tr>\n",
       "  </thead>\n",
       "  <tbody>\n",
       "    <tr>\n",
       "      <th>0</th>\n",
       "      <td>0.23</td>\n",
       "      <td>Ideal</td>\n",
       "      <td>E</td>\n",
       "      <td>SI2</td>\n",
       "      <td>61.5</td>\n",
       "      <td>55.0</td>\n",
       "      <td>326</td>\n",
       "      <td>3.95</td>\n",
       "      <td>3.98</td>\n",
       "      <td>2.43</td>\n",
       "    </tr>\n",
       "    <tr>\n",
       "      <th>1</th>\n",
       "      <td>0.21</td>\n",
       "      <td>Premium</td>\n",
       "      <td>E</td>\n",
       "      <td>SI1</td>\n",
       "      <td>59.8</td>\n",
       "      <td>61.0</td>\n",
       "      <td>326</td>\n",
       "      <td>3.89</td>\n",
       "      <td>3.84</td>\n",
       "      <td>2.31</td>\n",
       "    </tr>\n",
       "    <tr>\n",
       "      <th>2</th>\n",
       "      <td>0.23</td>\n",
       "      <td>Good</td>\n",
       "      <td>E</td>\n",
       "      <td>VS1</td>\n",
       "      <td>56.9</td>\n",
       "      <td>65.0</td>\n",
       "      <td>327</td>\n",
       "      <td>4.05</td>\n",
       "      <td>4.07</td>\n",
       "      <td>2.31</td>\n",
       "    </tr>\n",
       "    <tr>\n",
       "      <th>3</th>\n",
       "      <td>0.29</td>\n",
       "      <td>Premium</td>\n",
       "      <td>I</td>\n",
       "      <td>VS2</td>\n",
       "      <td>62.4</td>\n",
       "      <td>58.0</td>\n",
       "      <td>334</td>\n",
       "      <td>4.20</td>\n",
       "      <td>4.23</td>\n",
       "      <td>2.63</td>\n",
       "    </tr>\n",
       "    <tr>\n",
       "      <th>4</th>\n",
       "      <td>0.31</td>\n",
       "      <td>Good</td>\n",
       "      <td>J</td>\n",
       "      <td>SI2</td>\n",
       "      <td>63.3</td>\n",
       "      <td>58.0</td>\n",
       "      <td>335</td>\n",
       "      <td>4.34</td>\n",
       "      <td>4.35</td>\n",
       "      <td>2.75</td>\n",
       "    </tr>\n",
       "  </tbody>\n",
       "</table>\n",
       "</div>"
      ],
      "text/plain": [
       "   carat      cut color clarity  depth  table  price     x     y     z\n",
       "0   0.23    Ideal     E     SI2   61.5   55.0    326  3.95  3.98  2.43\n",
       "1   0.21  Premium     E     SI1   59.8   61.0    326  3.89  3.84  2.31\n",
       "2   0.23     Good     E     VS1   56.9   65.0    327  4.05  4.07  2.31\n",
       "3   0.29  Premium     I     VS2   62.4   58.0    334  4.20  4.23  2.63\n",
       "4   0.31     Good     J     SI2   63.3   58.0    335  4.34  4.35  2.75"
      ]
     },
     "execution_count": 1,
     "metadata": {},
     "output_type": "execute_result"
    }
   ],
   "source": [
    "# load the pandas library and read the csv file as dataframe diamonds_df\n",
    "\n",
    "import pandas as pd\n",
    "diamonds_df= pd.read_csv('https://raw.githubusercontent.com/chenkecoco1/AIM-5001/master/diamonds.csv')\n",
    "\n",
    "# check the dataset loaded successfully\n",
    "diamonds_df.head()"
   ]
  },
  {
   "cell_type": "code",
   "execution_count": 2,
   "metadata": {},
   "outputs": [
    {
     "data": {
      "text/plain": [
       "carat      0\n",
       "cut        0\n",
       "color      0\n",
       "clarity    0\n",
       "depth      0\n",
       "table      0\n",
       "price      0\n",
       "x          0\n",
       "y          0\n",
       "z          0\n",
       "dtype: int64"
      ]
     },
     "execution_count": 2,
     "metadata": {},
     "output_type": "execute_result"
    }
   ],
   "source": [
    "# check if there is null values\n",
    "diamonds_df.isnull().sum()"
   ]
  },
  {
   "cell_type": "markdown",
   "metadata": {},
   "source": [
    "No missing value found."
   ]
  },
  {
   "cell_type": "markdown",
   "metadata": {},
   "source": [
    "## Questions"
   ]
  },
  {
   "cell_type": "markdown",
   "metadata": {},
   "source": [
    "1. (3 Points) What proportion of diamonds are between .30 and 1.08 carats?"
   ]
  },
  {
   "cell_type": "markdown",
   "metadata": {},
   "source": [
    "* Carats values between 0.30 and 1.08 is the condition. Use the condition to filter out required rows and count the rows with .shape[0]. Calculate the proportion by divided by the totoal rows. "
   ]
  },
  {
   "cell_type": "code",
   "execution_count": 3,
   "metadata": {},
   "outputs": [
    {
     "name": "stdout",
     "output_type": "stream",
     "text": [
      "69.4% diamonds are between .30 and 1.08 carats.\n"
     ]
    }
   ],
   "source": [
    "# filter out diamonds between 0.30 and 1.08 carats and count the numbers as x\n",
    "x=diamonds_df[(diamonds_df['carat']>0.30) & (diamonds_df['carat']<1.08)].shape[0]\n",
    "\n",
    "# count the the total rows of dataset and calculate proportion as q1\n",
    "y=diamonds_df.shape[0]\n",
    "q1=round(x/y*100,2)\n",
    "\n",
    "print (str(q1)+'% diamonds are between .30 and 1.08 carats.')"
   ]
  },
  {
   "cell_type": "markdown",
   "metadata": {},
   "source": [
    "2. (3 Points) How many of the diamonds have equal x and y dimensions?"
   ]
  },
  {
   "cell_type": "markdown",
   "metadata": {},
   "source": [
    "* The required condition is x and y values need to be equal. Use required condition to filter out the row, and count number by .shape[0]."
   ]
  },
  {
   "cell_type": "code",
   "execution_count": 4,
   "metadata": {},
   "outputs": [
    {
     "name": "stdout",
     "output_type": "stream",
     "text": [
      "17 diamonds have equal x and y dimensions.\n"
     ]
    }
   ],
   "source": [
    "# use diamonds_df['x']==diamonds_df['y'] as condition to filter out the result q2\n",
    "q2=diamonds_df[diamonds_df['x']==diamonds_df['y']].shape[0]\n",
    "\n",
    "print (str(q2)+' diamonds have equal x and y dimensions.')"
   ]
  },
  {
   "cell_type": "markdown",
   "metadata": {},
   "source": [
    "3. (3 Points) How many of the diamonds have a carat less than the mean carat value?"
   ]
  },
  {
   "cell_type": "markdown",
   "metadata": {},
   "source": [
    "* Use .mean() method to get the mean value of 'carat' column. Use the comparison of carat value and mean value as condition to filter out the rows required, count the rows."
   ]
  },
  {
   "cell_type": "code",
   "execution_count": 5,
   "metadata": {},
   "outputs": [
    {
     "name": "stdout",
     "output_type": "stream",
     "text": [
      "31127 diamonds have a carat less than the mean carat value.\n"
     ]
    }
   ],
   "source": [
    "# calculate the mean value of 'carat' column as mean_carat\n",
    "mean_carat=diamonds_df['carat'].mean()\n",
    "\n",
    "# filter out rows fulfill condition diamonds_df['carat']<mean_carat, count rows\n",
    "q3=diamonds_df[diamonds_df['carat']<mean_carat].shape[0]\n",
    "\n",
    "print (str(q3)+' diamonds have a carat less than the mean carat value.')"
   ]
  },
  {
   "cell_type": "markdown",
   "metadata": {},
   "source": [
    "4. (3 Points) How many diamonds have a Premium cut or better? Note that the possible values for the quality of a\n",
    "cut are ranked in ascending order as follows: Fair / Good / Very Good / Premium / Ideal"
   ]
  },
  {
   "cell_type": "markdown",
   "metadata": {},
   "source": [
    "* Acorrding to the standard, the required rows are the diammonds have Premium cut and Idea cut. Count Premium cut numbers as p, count Ideal cut numbers as i, sum tp and i."
   ]
  },
  {
   "cell_type": "code",
   "execution_count": 6,
   "metadata": {},
   "outputs": [
    {
     "name": "stdout",
     "output_type": "stream",
     "text": [
      "35342 diamonds have a Premium cut or better.\n"
     ]
    }
   ],
   "source": [
    "# Use diamonds_df['cut']=='Premium' to filter out Premium cut diamonds\n",
    "p=diamonds_df[diamonds_df['cut']=='Premium'].shape[0]\n",
    "\n",
    "# Use diamonds_df['cut']=='Ideal' to filter out Premium cut diamonds\n",
    "i=diamonds_df[diamonds_df['cut']=='Ideal'].shape[0]\n",
    "\n",
    "q4=p+i\n",
    "print (str(q4)+' diamonds have a Premium cut or better.')"
   ]
  },
  {
   "cell_type": "markdown",
   "metadata": {},
   "source": [
    "5. (3 Points) Which diamond has the highest price per carat? What is its value?"
   ]
  },
  {
   "cell_type": "markdown",
   "metadata": {},
   "source": [
    "* Use the division of price and carat to calculate the price per carat. The whole result will be a new ndarray. Get the index of the maximum value with .idxmax() method and get the maximum value with .max() method."
   ]
  },
  {
   "cell_type": "code",
   "execution_count": 7,
   "metadata": {},
   "outputs": [
    {
     "name": "stdout",
     "output_type": "stream",
     "text": [
      "The diamond with index 27635 has the highest price per carat.\n",
      "The highest value is 17828.85.\n"
     ]
    }
   ],
   "source": [
    "# get the max value index of price per carat\n",
    "q5a=(diamonds_df['price']/diamonds_df['carat']).idxmax()\n",
    "\n",
    "# get the max value of price per carat\n",
    "q5b=round((diamonds_df['price']/diamonds_df['carat']).max(),2)\n",
    "\n",
    "print ('The diamond with index '+str(q5a)+' has the highest price per carat.\\n'+'The highest value is '+str(q5b)+'.' )"
   ]
  },
  {
   "cell_type": "markdown",
   "metadata": {},
   "source": [
    "6. (3 Points) Make a bar plot of the ‘cut’ data. What does it tell us about the frequencies of the individual cut\n",
    "values within the data set?"
   ]
  },
  {
   "cell_type": "markdown",
   "metadata": {},
   "source": [
    "* Simply apply .plot.bar() on the 'cut' column to present the numbers of each kind of cut."
   ]
  },
  {
   "cell_type": "code",
   "execution_count": 8,
   "metadata": {},
   "outputs": [
    {
     "data": {
      "image/png": "[encoded data removed]",
      "text/plain": [
       "<Figure size 432x288 with 1 Axes>"
      ]
     },
     "metadata": {
      "needs_background": "light"
     },
     "output_type": "display_data"
    }
   ],
   "source": [
    "# plot bar chart showing the cut data\n",
    "q6 = diamonds_df['cut'].value_counts().plot.bar(title='Frequency of Diamond of Each Cut')"
   ]
  },
  {
   "cell_type": "markdown",
   "metadata": {},
   "source": [
    "This chart shows the ideal cut diamonds have the highest frequency, while fair cut diamonds have the lowest frequency. The frequency of 5 individual cuts from hight to low is ideal>premium>very good>good>fair."
   ]
  },
  {
   "cell_type": "markdown",
   "metadata": {},
   "source": [
    "7. (4 Points) Make boxplots of the diamond price for each cut and discuss any conclusions you can draw from the\n",
    "appearance of the boxplots."
   ]
  },
  {
   "cell_type": "markdown",
   "metadata": {},
   "source": [
    "* Make boxplots of price by cut types using .boxplot()."
   ]
  },
  {
   "cell_type": "code",
   "execution_count": 9,
   "metadata": {},
   "outputs": [
    {
     "name": "stdout",
     "output_type": "stream",
     "text": [
      "AxesSubplot(0.1,0.15;0.8x0.75)\n"
     ]
    },
    {
     "data": {
      "image/png": "[encoded data removed]",
      "text/plain": [
       "<Figure size 576x396 with 1 Axes>"
      ]
     },
     "metadata": {
      "needs_background": "light"
     },
     "output_type": "display_data"
    }
   ],
   "source": [
    "# make price boxplot according to cut\n",
    "q7=diamonds_df.boxplot(column=['price'],by='cut',figsize=(8,5.5))\n",
    "print(q7)"
   ]
  },
  {
   "cell_type": "markdown",
   "metadata": {},
   "source": [
    "According to the 5 boxplots appearance above, the median price of ideal cut is a little bit lower than 2500, while the other four kinds of cuts have median price of slightly  2500. The first quartile price are all between 0 to 2500, and fair cut has the highest first quartile value. Ideal cut has the lowest third quartile value, premium cut has the highest third quartile value. The other three kinds of cuts have third quartile of approximately 5000. The price \"maximum\" of premium cut is between 12500 and 15000, the highest, while the fair cut has the lowest \"maximum\" value, which is slightly lower than 10000. The other four kinds of cut has \"maximum\" values between 10000 and 12500. All kinds of cuts have many outliers. It means all kinds of cuts have special hight prices."
   ]
  },
  {
   "cell_type": "markdown",
   "metadata": {},
   "source": [
    "8. (4 Points) Make histograms of the length, width, depth, and total depth attributes and discuss any conclusions\n",
    "you can draw from the shape of the resulting distributions."
   ]
  },
  {
   "cell_type": "markdown",
   "metadata": {},
   "source": [
    "* The length, width, depth, and total depth attributes are respectively correspondent to the x, y, z and dept coloumns. Make histograms of each columns by .plot.hist()."
   ]
  },
  {
   "cell_type": "code",
   "execution_count": 10,
   "metadata": {},
   "outputs": [
    {
     "data": {
      "text/plain": [
       "<matplotlib.axes._subplots.AxesSubplot at 0x1cc872141c8>"
      ]
     },
     "execution_count": 10,
     "metadata": {},
     "output_type": "execute_result"
    },
    {
     "data": {
      "image/png": "[encoded data removed]",
      "text/plain": [
       "<Figure size 432x288 with 1 Axes>"
      ]
     },
     "metadata": {
      "needs_background": "light"
     },
     "output_type": "display_data"
    }
   ],
   "source": [
    "# create histogram for x column indicating length demension\n",
    "diamonds_df['x'].plot.hist(title='Histgram of Length')"
   ]
  },
  {
   "cell_type": "code",
   "execution_count": 11,
   "metadata": {},
   "outputs": [
    {
     "data": {
      "text/plain": [
       "<matplotlib.axes._subplots.AxesSubplot at 0x1cc8729d908>"
      ]
     },
     "execution_count": 11,
     "metadata": {},
     "output_type": "execute_result"
    },
    {
     "data": {
      "image/png": "[encoded data removed]",
      "text/plain": [
       "<Figure size 432x288 with 1 Axes>"
      ]
     },
     "metadata": {
      "needs_background": "light"
     },
     "output_type": "display_data"
    }
   ],
   "source": [
    "# create histogram for y column indicating width demension\n",
    "diamonds_df['y'].plot.hist(title='Histgram of Width')"
   ]
  },
  {
   "cell_type": "code",
   "execution_count": 12,
   "metadata": {},
   "outputs": [
    {
     "data": {
      "text/plain": [
       "<matplotlib.axes._subplots.AxesSubplot at 0x1cc882f8348>"
      ]
     },
     "execution_count": 12,
     "metadata": {},
     "output_type": "execute_result"
    },
    {
     "data": {
      "image/png": "[encoded data removed]",
      "text/plain": [
       "<Figure size 432x288 with 1 Axes>"
      ]
     },
     "metadata": {
      "needs_background": "light"
     },
     "output_type": "display_data"
    }
   ],
   "source": [
    "# create histogram for y column indicating depth demension\n",
    "diamonds_df['z'].plot.hist(title='Histgram of Depth')"
   ]
  },
  {
   "cell_type": "code",
   "execution_count": 13,
   "metadata": {},
   "outputs": [
    {
     "data": {
      "text/plain": [
       "<matplotlib.axes._subplots.AxesSubplot at 0x1cc88377308>"
      ]
     },
     "execution_count": 13,
     "metadata": {},
     "output_type": "execute_result"
    },
    {
     "data": {
      "image/png": "[encoded data removed]",
      "text/plain": [
       "<Figure size 432x288 with 1 Axes>"
      ]
     },
     "metadata": {
      "needs_background": "light"
     },
     "output_type": "display_data"
    }
   ],
   "source": [
    "# create histogram for depth column indicating total depth \n",
    "diamonds_df['depth'].plot.hist(title='Histgram of Total Depth')"
   ]
  },
  {
   "cell_type": "markdown",
   "metadata": {},
   "source": [
    "According to the 4 charts above, the majority frequencies of diamonds are in the range of 4-8mm length, 0-11mm width, 0-6mm depth and total depth 55-68% approximately."
   ]
  },
  {
   "cell_type": "markdown",
   "metadata": {},
   "source": [
    "9. (4 Points) Make a scatter plot of price vs. carat. What can we say about the relationship between those two\n",
    "attributes?"
   ]
  },
  {
   "cell_type": "markdown",
   "metadata": {},
   "source": [
    "* Use x and y as two axis to make the scatter plot by .plot.scatter()."
   ]
  },
  {
   "cell_type": "code",
   "execution_count": 14,
   "metadata": {},
   "outputs": [
    {
     "data": {
      "image/png": "[encoded data removed]",
      "text/plain": [
       "<Figure size 432x288 with 1 Axes>"
      ]
     },
     "metadata": {
      "needs_background": "light"
     },
     "output_type": "display_data"
    }
   ],
   "source": [
    "# make scatter plot, carat as x axis and price as y axis\n",
    "q9 = diamonds_df.plot.scatter(x='carat', y ='price', title='Price vs. Carat')\n"
   ]
  },
  {
   "cell_type": "markdown",
   "metadata": {},
   "source": [
    "Generally, with the increase of carat value, the price of diamond is higher. But the relationship of the two atributes is not as clear as a simple linear relationship. Between 1 and 2 carats, the prices of diamonds vary."
   ]
  },
  {
   "cell_type": "code",
   "execution_count": null,
   "metadata": {},
   "outputs": [],
   "source": []
  }
 ],
 "metadata": {
  "kernelspec": {
   "display_name": "Python 3",
   "language": "python",
   "name": "python3"
  },
  "language_info": {
   "codemirror_mode": {
    "name": "ipython",
    "version": 3
   },
   "file_extension": ".py",
   "mimetype": "text/x-python",
   "name": "python",
   "nbconvert_exporter": "python",
   "pygments_lexer": "ipython3",
   "version": "3.7.6"
  }
 },
 "nbformat": 4,
 "nbformat_minor": 4
}
