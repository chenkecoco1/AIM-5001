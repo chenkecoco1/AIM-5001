{
 "cells": [
  {
   "cell_type": "markdown",
   "metadata": {},
   "source": [
    "# AIM 5001 Project 4 (Week 13)\n",
    "## Phase I: Data Acquisition, Data Preparation & Exploratory Data Analysis\n",
    "### Data Acquisition and Preparation\n",
    "According to the introduction of the dataset, the mushroom dataset contains 8124 observations and 22 attributes. Some general science education books for children said, the more beautiful the mushrooms are, the more poisonous they might be, while the more plain they look, the more likely they are not poisonous. Sometimes, the rings also matter. Therefore in this project, the mushroom cap surface, cap color, odor and ring numbers will be selected for further research."
   ]
  },
  {
   "cell_type": "code",
   "execution_count": 1,
   "metadata": {},
   "outputs": [
    {
     "data": {
      "text/html": [
       "<div>\n",
       "<style scoped>\n",
       "    .dataframe tbody tr th:only-of-type {\n",
       "        vertical-align: middle;\n",
       "    }\n",
       "\n",
       "    .dataframe tbody tr th {\n",
       "        vertical-align: top;\n",
       "    }\n",
       "\n",
       "    .dataframe thead th {\n",
       "        text-align: right;\n",
       "    }\n",
       "</style>\n",
       "<table border=\"1\" class=\"dataframe\">\n",
       "  <thead>\n",
       "    <tr style=\"text-align: right;\">\n",
       "      <th></th>\n",
       "      <th>0</th>\n",
       "      <th>1</th>\n",
       "      <th>2</th>\n",
       "      <th>3</th>\n",
       "      <th>4</th>\n",
       "      <th>5</th>\n",
       "      <th>6</th>\n",
       "      <th>7</th>\n",
       "      <th>8</th>\n",
       "      <th>9</th>\n",
       "      <th>...</th>\n",
       "      <th>13</th>\n",
       "      <th>14</th>\n",
       "      <th>15</th>\n",
       "      <th>16</th>\n",
       "      <th>17</th>\n",
       "      <th>18</th>\n",
       "      <th>19</th>\n",
       "      <th>20</th>\n",
       "      <th>21</th>\n",
       "      <th>22</th>\n",
       "    </tr>\n",
       "  </thead>\n",
       "  <tbody>\n",
       "    <tr>\n",
       "      <th>0</th>\n",
       "      <td>p</td>\n",
       "      <td>x</td>\n",
       "      <td>s</td>\n",
       "      <td>n</td>\n",
       "      <td>t</td>\n",
       "      <td>p</td>\n",
       "      <td>f</td>\n",
       "      <td>c</td>\n",
       "      <td>n</td>\n",
       "      <td>k</td>\n",
       "      <td>...</td>\n",
       "      <td>s</td>\n",
       "      <td>w</td>\n",
       "      <td>w</td>\n",
       "      <td>p</td>\n",
       "      <td>w</td>\n",
       "      <td>o</td>\n",
       "      <td>p</td>\n",
       "      <td>k</td>\n",
       "      <td>s</td>\n",
       "      <td>u</td>\n",
       "    </tr>\n",
       "    <tr>\n",
       "      <th>1</th>\n",
       "      <td>e</td>\n",
       "      <td>x</td>\n",
       "      <td>s</td>\n",
       "      <td>y</td>\n",
       "      <td>t</td>\n",
       "      <td>a</td>\n",
       "      <td>f</td>\n",
       "      <td>c</td>\n",
       "      <td>b</td>\n",
       "      <td>k</td>\n",
       "      <td>...</td>\n",
       "      <td>s</td>\n",
       "      <td>w</td>\n",
       "      <td>w</td>\n",
       "      <td>p</td>\n",
       "      <td>w</td>\n",
       "      <td>o</td>\n",
       "      <td>p</td>\n",
       "      <td>n</td>\n",
       "      <td>n</td>\n",
       "      <td>g</td>\n",
       "    </tr>\n",
       "    <tr>\n",
       "      <th>2</th>\n",
       "      <td>e</td>\n",
       "      <td>b</td>\n",
       "      <td>s</td>\n",
       "      <td>w</td>\n",
       "      <td>t</td>\n",
       "      <td>l</td>\n",
       "      <td>f</td>\n",
       "      <td>c</td>\n",
       "      <td>b</td>\n",
       "      <td>n</td>\n",
       "      <td>...</td>\n",
       "      <td>s</td>\n",
       "      <td>w</td>\n",
       "      <td>w</td>\n",
       "      <td>p</td>\n",
       "      <td>w</td>\n",
       "      <td>o</td>\n",
       "      <td>p</td>\n",
       "      <td>n</td>\n",
       "      <td>n</td>\n",
       "      <td>m</td>\n",
       "    </tr>\n",
       "  </tbody>\n",
       "</table>\n",
       "<p>3 rows × 23 columns</p>\n",
       "</div>"
      ],
      "text/plain": [
       "  0  1  2  3  4  5  6  7  8  9   ... 13 14 15 16 17 18 19 20 21 22\n",
       "0  p  x  s  n  t  p  f  c  n  k  ...  s  w  w  p  w  o  p  k  s  u\n",
       "1  e  x  s  y  t  a  f  c  b  k  ...  s  w  w  p  w  o  p  n  n  g\n",
       "2  e  b  s  w  t  l  f  c  b  n  ...  s  w  w  p  w  o  p  n  n  m\n",
       "\n",
       "[3 rows x 23 columns]"
      ]
     },
     "execution_count": 1,
     "metadata": {},
     "output_type": "execute_result"
    }
   ],
   "source": [
    "# import related libraries\n",
    "import pandas as pd\n",
    "import numpy as np\n",
    "import matplotlib as plt\n",
    "import seaborn as sns\n",
    "# read the original data as dataframe\n",
    "data=pd.read_csv('https://raw.githubusercontent.com/chenkecoco1/AIM-5001/master/agaricus-lepiota.data', header=None)\n",
    "# check if successfully done\n",
    "data.head(3)"
   ]
  },
  {
   "cell_type": "markdown",
   "metadata": {},
   "source": [
    "Select the columns cap surface, cap color, odor and ring numbers and if it is edible to create a data_sub dataframe for further use."
   ]
  },
  {
   "cell_type": "code",
   "execution_count": 2,
   "metadata": {},
   "outputs": [
    {
     "data": {
      "text/html": [
       "<div>\n",
       "<style scoped>\n",
       "    .dataframe tbody tr th:only-of-type {\n",
       "        vertical-align: middle;\n",
       "    }\n",
       "\n",
       "    .dataframe tbody tr th {\n",
       "        vertical-align: top;\n",
       "    }\n",
       "\n",
       "    .dataframe thead th {\n",
       "        text-align: right;\n",
       "    }\n",
       "</style>\n",
       "<table border=\"1\" class=\"dataframe\">\n",
       "  <thead>\n",
       "    <tr style=\"text-align: right;\">\n",
       "      <th></th>\n",
       "      <th>Edible</th>\n",
       "      <th>Cap_Surface</th>\n",
       "      <th>Cap_Color</th>\n",
       "      <th>Odor</th>\n",
       "      <th>Ring_Numbers</th>\n",
       "    </tr>\n",
       "  </thead>\n",
       "  <tbody>\n",
       "    <tr>\n",
       "      <th>0</th>\n",
       "      <td>p</td>\n",
       "      <td>s</td>\n",
       "      <td>n</td>\n",
       "      <td>p</td>\n",
       "      <td>o</td>\n",
       "    </tr>\n",
       "    <tr>\n",
       "      <th>1</th>\n",
       "      <td>e</td>\n",
       "      <td>s</td>\n",
       "      <td>y</td>\n",
       "      <td>a</td>\n",
       "      <td>o</td>\n",
       "    </tr>\n",
       "    <tr>\n",
       "      <th>2</th>\n",
       "      <td>e</td>\n",
       "      <td>s</td>\n",
       "      <td>w</td>\n",
       "      <td>l</td>\n",
       "      <td>o</td>\n",
       "    </tr>\n",
       "    <tr>\n",
       "      <th>3</th>\n",
       "      <td>p</td>\n",
       "      <td>y</td>\n",
       "      <td>w</td>\n",
       "      <td>p</td>\n",
       "      <td>o</td>\n",
       "    </tr>\n",
       "    <tr>\n",
       "      <th>4</th>\n",
       "      <td>e</td>\n",
       "      <td>s</td>\n",
       "      <td>g</td>\n",
       "      <td>n</td>\n",
       "      <td>o</td>\n",
       "    </tr>\n",
       "  </tbody>\n",
       "</table>\n",
       "</div>"
      ],
      "text/plain": [
       "  Edible Cap_Surface Cap_Color Odor Ring_Numbers\n",
       "0      p           s         n    p            o\n",
       "1      e           s         y    a            o\n",
       "2      e           s         w    l            o\n",
       "3      p           y         w    p            o\n",
       "4      e           s         g    n            o"
      ]
     },
     "execution_count": 2,
     "metadata": {},
     "output_type": "execute_result"
    }
   ],
   "source": [
    "# select  mushroom cap surface, cap color, odor and ring numbers as well as the first column \"edible or poisonous\" to the subset\n",
    "# the corresponding column numbers are 0,2,3,5,18\n",
    "data_sub = data.iloc[:, [0, 2, 3, 5, 18]].copy()\n",
    "# rename the column names\n",
    "data_sub.columns=['Edible', 'Cap_Surface', 'Cap_Color', 'Odor', 'Ring_Numbers']\n",
    "# check new subset\n",
    "data_sub.head()"
   ]
  },
  {
   "cell_type": "markdown",
   "metadata": {},
   "source": [
    "According to the original data introduction https://archive.ics.uci.edu/ml/datasets/mushroom, the letter meanings are \n",
    "* For cap-surface: fibrous=f, grooves=g, scaly=y, smooth=s\n",
    "* For cap-color: brown=n, buff=b, cinnamon=c, gray=g, green=r, pink=p, purple=u, red=e, white=w, yellow=y\n",
    "* For odor: almond=a, anise=l, creosote=c, fishy=y, foul=f, musty=m, none=n, pungent=p, spicy=s\n",
    "* For ring numbers: none=n, one=o, two=t"
   ]
  },
  {
   "cell_type": "markdown",
   "metadata": {},
   "source": [
    "Conversion will be made in the following way: \"e\" (edible) will be substitute by 0, and \"p\" (poisonous) will be converted to 1. Dummy variables will be created for other columns with get_dummies() method for further use. The binary indicators 0 and 1 means false and true respectively."
   ]
  },
  {
   "cell_type": "code",
   "execution_count": 3,
   "metadata": {},
   "outputs": [
    {
     "data": {
      "text/html": [
       "<div>\n",
       "<style scoped>\n",
       "    .dataframe tbody tr th:only-of-type {\n",
       "        vertical-align: middle;\n",
       "    }\n",
       "\n",
       "    .dataframe tbody tr th {\n",
       "        vertical-align: top;\n",
       "    }\n",
       "\n",
       "    .dataframe thead th {\n",
       "        text-align: right;\n",
       "    }\n",
       "</style>\n",
       "<table border=\"1\" class=\"dataframe\">\n",
       "  <thead>\n",
       "    <tr style=\"text-align: right;\">\n",
       "      <th></th>\n",
       "      <th>Edible</th>\n",
       "      <th>Cap_Surface_f</th>\n",
       "      <th>Cap_Surface_g</th>\n",
       "      <th>Cap_Surface_s</th>\n",
       "      <th>Cap_Surface_y</th>\n",
       "      <th>Cap_Color_b</th>\n",
       "      <th>Cap_Color_c</th>\n",
       "      <th>Cap_Color_e</th>\n",
       "      <th>Cap_Color_g</th>\n",
       "      <th>Cap_Color_n</th>\n",
       "      <th>...</th>\n",
       "      <th>Odor_f</th>\n",
       "      <th>Odor_l</th>\n",
       "      <th>Odor_m</th>\n",
       "      <th>Odor_n</th>\n",
       "      <th>Odor_p</th>\n",
       "      <th>Odor_s</th>\n",
       "      <th>Odor_y</th>\n",
       "      <th>Ring_Numbers_n</th>\n",
       "      <th>Ring_Numbers_o</th>\n",
       "      <th>Ring_Numbers_t</th>\n",
       "    </tr>\n",
       "  </thead>\n",
       "  <tbody>\n",
       "    <tr>\n",
       "      <th>0</th>\n",
       "      <td>1</td>\n",
       "      <td>0</td>\n",
       "      <td>0</td>\n",
       "      <td>1</td>\n",
       "      <td>0</td>\n",
       "      <td>0</td>\n",
       "      <td>0</td>\n",
       "      <td>0</td>\n",
       "      <td>0</td>\n",
       "      <td>1</td>\n",
       "      <td>...</td>\n",
       "      <td>0</td>\n",
       "      <td>0</td>\n",
       "      <td>0</td>\n",
       "      <td>0</td>\n",
       "      <td>1</td>\n",
       "      <td>0</td>\n",
       "      <td>0</td>\n",
       "      <td>0</td>\n",
       "      <td>1</td>\n",
       "      <td>0</td>\n",
       "    </tr>\n",
       "    <tr>\n",
       "      <th>1</th>\n",
       "      <td>0</td>\n",
       "      <td>0</td>\n",
       "      <td>0</td>\n",
       "      <td>1</td>\n",
       "      <td>0</td>\n",
       "      <td>0</td>\n",
       "      <td>0</td>\n",
       "      <td>0</td>\n",
       "      <td>0</td>\n",
       "      <td>0</td>\n",
       "      <td>...</td>\n",
       "      <td>0</td>\n",
       "      <td>0</td>\n",
       "      <td>0</td>\n",
       "      <td>0</td>\n",
       "      <td>0</td>\n",
       "      <td>0</td>\n",
       "      <td>0</td>\n",
       "      <td>0</td>\n",
       "      <td>1</td>\n",
       "      <td>0</td>\n",
       "    </tr>\n",
       "    <tr>\n",
       "      <th>2</th>\n",
       "      <td>0</td>\n",
       "      <td>0</td>\n",
       "      <td>0</td>\n",
       "      <td>1</td>\n",
       "      <td>0</td>\n",
       "      <td>0</td>\n",
       "      <td>0</td>\n",
       "      <td>0</td>\n",
       "      <td>0</td>\n",
       "      <td>0</td>\n",
       "      <td>...</td>\n",
       "      <td>0</td>\n",
       "      <td>1</td>\n",
       "      <td>0</td>\n",
       "      <td>0</td>\n",
       "      <td>0</td>\n",
       "      <td>0</td>\n",
       "      <td>0</td>\n",
       "      <td>0</td>\n",
       "      <td>1</td>\n",
       "      <td>0</td>\n",
       "    </tr>\n",
       "    <tr>\n",
       "      <th>3</th>\n",
       "      <td>1</td>\n",
       "      <td>0</td>\n",
       "      <td>0</td>\n",
       "      <td>0</td>\n",
       "      <td>1</td>\n",
       "      <td>0</td>\n",
       "      <td>0</td>\n",
       "      <td>0</td>\n",
       "      <td>0</td>\n",
       "      <td>0</td>\n",
       "      <td>...</td>\n",
       "      <td>0</td>\n",
       "      <td>0</td>\n",
       "      <td>0</td>\n",
       "      <td>0</td>\n",
       "      <td>1</td>\n",
       "      <td>0</td>\n",
       "      <td>0</td>\n",
       "      <td>0</td>\n",
       "      <td>1</td>\n",
       "      <td>0</td>\n",
       "    </tr>\n",
       "    <tr>\n",
       "      <th>4</th>\n",
       "      <td>0</td>\n",
       "      <td>0</td>\n",
       "      <td>0</td>\n",
       "      <td>1</td>\n",
       "      <td>0</td>\n",
       "      <td>0</td>\n",
       "      <td>0</td>\n",
       "      <td>0</td>\n",
       "      <td>1</td>\n",
       "      <td>0</td>\n",
       "      <td>...</td>\n",
       "      <td>0</td>\n",
       "      <td>0</td>\n",
       "      <td>0</td>\n",
       "      <td>1</td>\n",
       "      <td>0</td>\n",
       "      <td>0</td>\n",
       "      <td>0</td>\n",
       "      <td>0</td>\n",
       "      <td>1</td>\n",
       "      <td>0</td>\n",
       "    </tr>\n",
       "  </tbody>\n",
       "</table>\n",
       "<p>5 rows × 27 columns</p>\n",
       "</div>"
      ],
      "text/plain": [
       "   Edible  Cap_Surface_f  Cap_Surface_g  Cap_Surface_s  Cap_Surface_y  \\\n",
       "0       1              0              0              1              0   \n",
       "1       0              0              0              1              0   \n",
       "2       0              0              0              1              0   \n",
       "3       1              0              0              0              1   \n",
       "4       0              0              0              1              0   \n",
       "\n",
       "   Cap_Color_b  Cap_Color_c  Cap_Color_e  Cap_Color_g  Cap_Color_n  ...  \\\n",
       "0            0            0            0            0            1  ...   \n",
       "1            0            0            0            0            0  ...   \n",
       "2            0            0            0            0            0  ...   \n",
       "3            0            0            0            0            0  ...   \n",
       "4            0            0            0            1            0  ...   \n",
       "\n",
       "   Odor_f  Odor_l  Odor_m  Odor_n  Odor_p  Odor_s  Odor_y  Ring_Numbers_n  \\\n",
       "0       0       0       0       0       1       0       0               0   \n",
       "1       0       0       0       0       0       0       0               0   \n",
       "2       0       1       0       0       0       0       0               0   \n",
       "3       0       0       0       0       1       0       0               0   \n",
       "4       0       0       0       1       0       0       0               0   \n",
       "\n",
       "   Ring_Numbers_o  Ring_Numbers_t  \n",
       "0               1               0  \n",
       "1               1               0  \n",
       "2               1               0  \n",
       "3               1               0  \n",
       "4               1               0  \n",
       "\n",
       "[5 rows x 27 columns]"
      ]
     },
     "execution_count": 3,
     "metadata": {},
     "output_type": "execute_result"
    }
   ],
   "source": [
    "# convert edible and poisonous as 0 and 1\n",
    "data_sub['Edible'].replace('e',0, inplace = True)\n",
    "data_sub['Edible'].replace('p',1, inplace = True)\n",
    "# dummy the other columns and combine the tables\n",
    "data_sub_d = pd.get_dummies(data_sub,columns=['Cap_Surface','Cap_Color', 'Odor', 'Ring_Numbers'])\n",
    "data_sub_d.head()"
   ]
  },
  {
   "cell_type": "markdown",
   "metadata": {},
   "source": [
    "### Exploratory Data Analysis\n",
    "The null values will be checked for the selected columns as below:"
   ]
  },
  {
   "cell_type": "code",
   "execution_count": 4,
   "metadata": {},
   "outputs": [
    {
     "data": {
      "text/plain": [
       "Edible          0\n",
       "Cap_Surface     0\n",
       "Cap_Color       0\n",
       "Odor            0\n",
       "Ring_Numbers    0\n",
       "dtype: int64"
      ]
     },
     "execution_count": 4,
     "metadata": {},
     "output_type": "execute_result"
    }
   ],
   "source": [
    "# check if null values existing \n",
    "data_sub.isnull().sum()"
   ]
  },
  {
   "cell_type": "markdown",
   "metadata": {},
   "source": [
    "According to the result, there is no null values in the selected columns. Therefore, the dummied dataframe will be the same as the original data_sub dataframe, which is easier to manipulate later. <br>\n",
    "<br>\n",
    "A general view of the dataframe will be seen through .describe()"
   ]
  },
  {
   "cell_type": "code",
   "execution_count": 5,
   "metadata": {},
   "outputs": [
    {
     "name": "stdout",
     "output_type": "stream",
     "text": [
      "count    8124.000000\n",
      "mean        0.482029\n",
      "std         0.499708\n",
      "min         0.000000\n",
      "25%         0.000000\n",
      "50%         0.000000\n",
      "75%         1.000000\n",
      "max         1.000000\n",
      "Name: Edible, dtype: float64\n",
      "-----------\n",
      "count     8124\n",
      "unique       4\n",
      "top          y\n",
      "freq      3244\n",
      "Name: Cap_Surface, dtype: object\n",
      "-----------\n",
      "count     8124\n",
      "unique      10\n",
      "top          n\n",
      "freq      2284\n",
      "Name: Cap_Color, dtype: object\n",
      "-----------\n",
      "count     8124\n",
      "unique       9\n",
      "top          n\n",
      "freq      3528\n",
      "Name: Odor, dtype: object\n",
      "-----------\n",
      "count     8124\n",
      "unique       3\n",
      "top          o\n",
      "freq      7488\n",
      "Name: Ring_Numbers, dtype: object\n",
      "-----------\n"
     ]
    }
   ],
   "source": [
    "# set the list of column names for statistical data getting\n",
    "column_list=['Edible','Cap_Surface', 'Cap_Color', 'Odor', 'Ring_Numbers']\n",
    "for i in range(5):\n",
    "    a=data_sub[column_list[i]].describe()\n",
    "    print(a)\n",
    "    print('-----------')"
   ]
  },
  {
   "cell_type": "markdown",
   "metadata": {},
   "source": [
    "Bar plots will be created to examine the frequency of each category."
   ]
  },
  {
   "cell_type": "code",
   "execution_count": 6,
   "metadata": {},
   "outputs": [
    {
     "data": {
      "image/png": "[encoded data removed]",
      "text/plain": [
       "<Figure size 576x216 with 1 Axes>"
      ]
     },
     "metadata": {},
     "output_type": "display_data"
    },
    {
     "data": {
      "image/png": "[encoded data removed]",
      "text/plain": [
       "<Figure size 576x216 with 1 Axes>"
      ]
     },
     "metadata": {},
     "output_type": "display_data"
    },
    {
     "data": {
      "image/png": "[encoded data removed]",
      "text/plain": [
       "<Figure size 576x216 with 1 Axes>"
      ]
     },
     "metadata": {},
     "output_type": "display_data"
    },
    {
     "data": {
      "image/png": "[encoded data removed]",
      "text/plain": [
       "<Figure size 576x216 with 1 Axes>"
      ]
     },
     "metadata": {},
     "output_type": "display_data"
    },
    {
     "data": {
      "image/png": "[encoded data removed]",
      "text/plain": [
       "<Figure size 576x216 with 1 Axes>"
      ]
     },
     "metadata": {},
     "output_type": "display_data"
    }
   ],
   "source": [
    "# set the list of column names for ploting one by one\n",
    "color_list=['black','blue','purple','red','green']\n",
    "column_list=['Edible','Cap_Surface', 'Cap_Color', 'Odor', 'Ring_Numbers']\n",
    "# apply ggplot style\n",
    "plt.style.use('ggplot')\n",
    "# create the barplot one by one\n",
    "for i in range(5):\n",
    "    data_sub.groupby(column_list[i]).count().plot.bar(figsize=(8,3), color=color_list[i],legend=False)"
   ]
  },
  {
   "cell_type": "markdown",
   "metadata": {},
   "source": [
    "According to the bar plots above:\n",
    "* Edible mushrooms (with value 0) frequency is a little bit more than the poisonous mushrooms. \n",
    "* For the mushroom cap surface, smooth surface type has the most counts, fibrous and scaly surface types is a little bit less than smooth type, while grooves type has the least counts, which is even barely seen in the graph.\n",
    "* Mushroom with cap colors red, gray and brown have the top 3 observations, while green, purple and cinnamon are the bottom 3. \n",
    "* Mushrooms without odor has the most observations with around 3500 counts. Musty odor is the type most rarely.\n",
    "* More than 7000 observed mushrooms have 1 ring, and less than 1000 mushrooms have 2 rings. Very few mushrooms have no rings."
   ]
  },
  {
   "cell_type": "code",
   "execution_count": 7,
   "metadata": {},
   "outputs": [
    {
     "data": {
      "text/plain": [
       "[4, 36]"
      ]
     },
     "execution_count": 7,
     "metadata": {},
     "output_type": "execute_result"
    }
   ],
   "source": [
    "# investigate the hardly seen types with the dummied dataframe\n",
    "[data_sub_d.Cap_Surface_g.sum(),data_sub_d.Ring_Numbers_n.sum()]"
   ]
  },
  {
   "cell_type": "markdown",
   "metadata": {},
   "source": [
    "There is only 4 observations having cap grooves surface and 36 observations having no rings."
   ]
  },
  {
   "cell_type": "markdown",
   "metadata": {},
   "source": [
    "## Phase II: Build Predictive Models\n",
    "In this part, the table added dummy data in Phase I will be used for logistic regression. "
   ]
  },
  {
   "cell_type": "code",
   "execution_count": 8,
   "metadata": {},
   "outputs": [],
   "source": [
    "# import train_test_split for spliting the data into training and testing \n",
    "from sklearn.model_selection import train_test_split\n",
    "# import LogisticRegression \n",
    "from sklearn.linear_model import LogisticRegression"
   ]
  },
  {
   "cell_type": "markdown",
   "metadata": {},
   "source": [
    "To determine which of the predictor columns selected most accurately predicts whether a mushroom is poisonous, the data will be split based on the predictor to training and testing sets."
   ]
  },
  {
   "cell_type": "code",
   "execution_count": 11,
   "metadata": {},
   "outputs": [],
   "source": [
    "# X for explanatory variables, y for response variable,\n",
    "X_surface=data_sub_d.iloc[:,1:5] \n",
    "X_color=data_sub_d.iloc[:,5:15] \n",
    "X_odor=data_sub_d.iloc[:,15:24] \n",
    "X_rings=data_sub_d.iloc[:,24:] \n",
    "y = data_sub_d.iloc[:,0]\n",
    "\n",
    "# split data as training data and testing data of each \n",
    "X_surface_train, X_surface_test, y_train, y_test = train_test_split(X_surface, y, random_state=0)\n",
    "X_color_train, X_color_test, y_train, y_test = train_test_split(X_color, y, random_state=0)\n",
    "X_odor_train, X_odor_test, y_train, y_test = train_test_split(X_odor, y, random_state=0)\n",
    "X_rings_train, X_rings_test, y_train, y_test = train_test_split(X_rings, y, random_state=0)"
   ]
  },
  {
   "cell_type": "markdown",
   "metadata": {},
   "source": [
    "Check the poisonous percentage of training mushrooms by calculating how many records in the training data set and testing data set. The accuracy needs to exceed the null error rate. "
   ]
  },
  {
   "cell_type": "code",
   "execution_count": 13,
   "metadata": {},
   "outputs": [
    {
     "data": {
      "text/plain": [
       "0.516494337764648"
      ]
     },
     "execution_count": 13,
     "metadata": {},
     "output_type": "execute_result"
    }
   ],
   "source": [
    "# the percentage of poisonous mushrooms in the training set, take any training set as the row numbers are the same.\n",
    "poi_percent=y_train.values.sum()/X_surface_train.shape[0]\n",
    "# count the null error rate\n",
    "1-poi_percent"
   ]
  },
  {
   "cell_type": "markdown",
   "metadata": {},
   "source": [
    "Apply logistic regression on each training set."
   ]
  },
  {
   "cell_type": "code",
   "execution_count": 14,
   "metadata": {},
   "outputs": [
    {
     "data": {
      "text/plain": [
       "LogisticRegression(C=1.0, class_weight=None, dual=False, fit_intercept=True,\n",
       "                   intercept_scaling=1, l1_ratio=None, max_iter=100,\n",
       "                   multi_class='auto', n_jobs=None, penalty='l2',\n",
       "                   random_state=None, solver='lbfgs', tol=0.0001, verbose=0,\n",
       "                   warm_start=False)"
      ]
     },
     "execution_count": 14,
     "metadata": {},
     "output_type": "execute_result"
    }
   ],
   "source": [
    "# using LogisticRegression() for model_surface\n",
    "model_surface = LogisticRegression()\n",
    "# fit the logistic regression to the cap surface training set\n",
    "model_surface.fit(X_surface_train, y_train)\n",
    "\n",
    "# using LogisticRegression() for model_color\n",
    "model_color = LogisticRegression()\n",
    "# fit the logistic regression to the cap color training set\n",
    "model_color.fit(X_color_train, y_train)\n",
    "\n",
    "# using LogisticRegression() for model_odor\n",
    "model_odor = LogisticRegression()\n",
    "# fit the logistic regression to the odor training set\n",
    "model_odor.fit(X_odor_train, y_train)\n",
    "\n",
    "# using LogisticRegression() for model_rings\n",
    "model_rings = LogisticRegression()\n",
    "# fit the logistic regression to the number of rings training set\n",
    "model_rings.fit(X_rings_train, y_train)"
   ]
  },
  {
   "cell_type": "code",
   "execution_count": 15,
   "metadata": {},
   "outputs": [
    {
     "data": {
      "text/plain": [
       "[0.5824716888232397, 0.5918266863613983, 0.9847365829640571, 0.54045626128344]"
      ]
     },
     "execution_count": 15,
     "metadata": {},
     "output_type": "execute_result"
    }
   ],
   "source": [
    "# calculate the accuracy of each model relative to the training data set\n",
    "[model_surface.score(X_surface_train, y_train),model_color.score(X_color_train, y_train),\n",
    " model_odor.score(X_odor_train, y_train),model_rings.score(X_rings_train, y_train)]"
   ]
  },
  {
   "cell_type": "markdown",
   "metadata": {},
   "source": [
    "Comparing to the null error rate above, all the four models accuracy are higher than 0.516, which mean the models are all useful. Among the four models, odor model has the highest accuracy, 0.985, while number of rings has the lowest accuracy, 0.540. The model of cap surface and cap color has the similar accuracy, which are slightly less than 0.60."
   ]
  },
  {
   "cell_type": "code",
   "execution_count": 16,
   "metadata": {},
   "outputs": [
    {
     "data": {
      "text/plain": [
       "[0.5745937961595273,\n",
       " 0.6056129985228951,\n",
       " 0.9867060561299852,\n",
       " 0.5312653865091088]"
      ]
     },
     "execution_count": 16,
     "metadata": {},
     "output_type": "execute_result"
    }
   ],
   "source": [
    "# calculate the accuracy of each model relative to the test data set\n",
    "[model_surface.score(X_surface_test, y_test),model_color.score(X_color_test, y_test),\n",
    " model_odor.score(X_odor_test, y_test),model_rings.score(X_rings_test, y_test)]"
   ]
  },
  {
   "cell_type": "markdown",
   "metadata": {},
   "source": [
    "The accuracy of odor model is the same, while the number of rings model perform worse than the training set."
   ]
  },
  {
   "cell_type": "code",
   "execution_count": 17,
   "metadata": {},
   "outputs": [
    {
     "data": {
      "text/plain": [
       "[array([[-0.92704659,  0.95517361,  0.03469824, -0.06378418]]),\n",
       " array([[ 1.19812506, -0.57719202,  0.73503835,  0.16516418,  0.19211217,\n",
       "          0.77619684, -1.52493476, -1.52493476, -0.35850596,  0.91913754]]),\n",
       " array([[-5.67623859,  2.31258867,  4.15170232, -5.74837734,  1.25215044,\n",
       "         -5.07297676,  2.55357693,  3.10477045,  3.12242404]]),\n",
       " array([[ 2.25726632, -0.13455538, -2.12269649]])]"
      ]
     },
     "execution_count": 17,
     "metadata": {},
     "output_type": "execute_result"
    }
   ],
   "source": [
    "# check the coefficent of each model\n",
    "[model_surface.coef_,model_color.coef_,model_odor.coef_,model_rings.coef_]"
   ]
  },
  {
   "cell_type": "markdown",
   "metadata": {},
   "source": [
    "* Cap surface: The fibrous and scaly surface mushrooms are more likely to be edible, while grooves and smooth surface increase the possibility to be poisonous.\n",
    "* Cap color: More likely poisonous colors are buff, red, gray, brown and yellow. More likely edible colors are cinnamon, green, pink, purple and white.\n",
    "* Odor: Mushrooms with almond anise or no odor are likely to be edible, while creosote, fishy, foul, musty, pungent, or spicy odor are more likely to be poisonous.\n",
    "* Ring numbers: None ring mushrooms are more likely to be poisonous, while rings decrease the possibility to be poisonous of mushrooms."
   ]
  },
  {
   "cell_type": "markdown",
   "metadata": {},
   "source": [
    "### Conclusion\n",
    "I. Among all the four predictor columns, odor most accurately predicts if the mushroom is poisonous.<br>\n",
    "II. The accuracy of number of rings model has the worst performance for mushroom poisonous prediction, therefore it can be put on the waiting list of the predictor candidates, rather than determined.<br>\n",
    "III. For further analysis, more than 1 predictors can be taken into consideration together to train the model to fix the final model and improve the accuracy of the model.\n"
   ]
  },
  {
   "cell_type": "markdown",
   "metadata": {},
   "source": [
    "## References and Tutorials\n",
    "\n",
    "https://datascienceplus.com/building-a-logistic-regression-in-python-step-by-step/ <br>\n",
    "https://nbviewer.jupyter.org/gist/justmarkham/6d5c061ca5aee67c4316471f8c2ae976 <br>\n",
    "https://datascienceomar.wordpress.com/2016/07/19/3-examples-of-logistic-regression-sci-kit-learn/"
   ]
  },
  {
   "cell_type": "code",
   "execution_count": null,
   "metadata": {},
   "outputs": [],
   "source": []
  }
 ],
 "metadata": {
  "kernelspec": {
   "display_name": "Python 3",
   "language": "python",
   "name": "python3"
  }
 },
 "nbformat": 4,
 "nbformat_minor": 4
}
