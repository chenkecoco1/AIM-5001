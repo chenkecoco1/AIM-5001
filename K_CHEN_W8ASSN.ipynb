{
 "cells": [
  {
   "cell_type": "markdown",
   "metadata": {},
   "source": [
    "# AIM 5001 Week 8 Assignment"
   ]
  },
  {
   "cell_type": "markdown",
   "metadata": {},
   "source": [
    "In order to solve the 5 questions, the original string containing names and phone numbers of some residents of the town of\n",
    "Springfield will be assigned to variable named org."
   ]
  },
  {
   "cell_type": "code",
   "execution_count": 1,
   "metadata": {},
   "outputs": [
    {
     "name": "stdout",
     "output_type": "stream",
     "text": [
      "555-1239Moe Szyslak(636) 555-0113Burns, C. Montgomery555 -6542Rev. Timothy Lovejoy555 8904Ned Flanders636-555-3226Simpson, Homer5553642Dr. Julius Hibbert\n"
     ]
    }
   ],
   "source": [
    "# assign value\n",
    "org=\"555-1239Moe Szyslak(636) 555-0113Burns, C. Montgomery555 -6542Rev. Timothy Lovejoy555 8904Ned Flanders636-555-3226Simpson, Homer5553642Dr. Julius Hibbert\"\n",
    "\n",
    "print (org)"
   ]
  },
  {
   "cell_type": "markdown",
   "metadata": {},
   "source": [
    "1. (6 Points) Extract the names of each individual from the unformatted text string and store them in a vector of some\n",
    "sort. When complete, your vector should contain the following entries:\n",
    "\n",
    " * All names start with a letter, end with a letter. There is no digit between the letters. The regex can be written as '[A-Z,a-z]+\\D+[a-z]'. Use findall function to assign matched result into list A1."
   ]
  },
  {
   "cell_type": "code",
   "execution_count": 2,
   "metadata": {},
   "outputs": [
    {
     "name": "stdout",
     "output_type": "stream",
     "text": [
      "['Moe Szyslak', 'Burns, C. Montgomery', 'Rev. Timothy Lovejoy', 'Ned Flanders', 'Simpson, Homer', 'Dr. Julius Hibbert']\n"
     ]
    }
   ],
   "source": [
    "# import re library\n",
    "import re\n",
    "\n",
    "# apply the regex on the original string\n",
    "A1=re.findall('[A-Z,a-z]+\\D+[a-z]',org)\n",
    "print (A1)"
   ]
  },
  {
   "cell_type": "markdown",
   "metadata": {},
   "source": [
    "2. Using your new vector containing only the names of the six individuals, complete the following tasks:\n",
    "\n",
    "\n",
    "  a. (4 Points) Use your regex skills to rearrange the vector so that all elements conform to the standard “firstname lastname”, preserving any titles (e.g., “Rev.”, “Dr.”, etc) or middle/second names. "
   ]
  },
  {
   "cell_type": "markdown",
   "metadata": {},
   "source": [
    "* If the lastname appeared before the firstname, there must be a comma after the lastname. Therefore, loop each elements in the A1 list, split the front positioned lastname and firstname, and rearrange them."
   ]
  },
  {
   "cell_type": "code",
   "execution_count": 3,
   "metadata": {},
   "outputs": [
    {
     "name": "stdout",
     "output_type": "stream",
     "text": [
      "['Moe Szyslak', 'C. Montgomery Burns', 'Rev. Timothy Lovejoy', 'Ned Flanders', 'Homer Simpson', 'Dr. Julius Hibbert']\n"
     ]
    }
   ],
   "source": [
    "# new list for the rearranged names\n",
    "A2A=[]\n",
    "\n",
    "# loop A1 if the names matches the lastname first format\n",
    "for i in A1:\n",
    "    if bool(re.match('.+\\,\\s',i)):\n",
    "        switch=re.split('\\,',i)\n",
    "        # check if there is a title along with the lastname string\n",
    "        if bool(re.match('\\w+\\.\\s', switch[0])):\n",
    "            cut_title=re.split('\\.',switch[0])\n",
    "            # concat 3 string sections\n",
    "            A2A.append(cut_title[0]+'.'+switch[1]+cut_title[1])\n",
    "        # concat 2 string sections    \n",
    "        else:\n",
    "            A2A.append(switch[1][1:]+' '+switch[0])\n",
    "    # keep no change        \n",
    "    else:\n",
    "        A2A.append(i)\n",
    "print (A2A)\n"
   ]
  },
  {
   "cell_type": "markdown",
   "metadata": {},
   "source": [
    "b. (4 Points) Construct a logical vector indicating whether a character has a title (i.e., Rev. and Dr.).\n",
    " * The titles contains at least 2 letters following with a period mark. The are supposed to be with '\\w+\\\\.\\s' format."
   ]
  },
  {
   "cell_type": "code",
   "execution_count": 4,
   "metadata": {},
   "outputs": [
    {
     "name": "stdout",
     "output_type": "stream",
     "text": [
      "[False, False, True, False, False, True]\n"
     ]
    }
   ],
   "source": [
    "# use the A2A result to test the '\\w+{2,}\\.\\s'\n",
    "# A2B to show the vectors\n",
    "A2B=[bool(re.match('\\w{2,}\\.\\s',j)) for j in A2A]\n",
    "print (A2B)"
   ]
  },
  {
   "cell_type": "markdown",
   "metadata": {},
   "source": [
    "c. (4 Points) Construct a logical vector indicating whether a character has a middle/second name.\n",
    " * If the character has a middle/second name, the name format will be 3 words, which means 2 spaces. The first position might have a initial plus dot. Therefore, regex can be used as '((\\w{1}.)|\\w+)\\s\\w+\\s\\w+' to check if middle name is existing."
   ]
  },
  {
   "cell_type": "code",
   "execution_count": 5,
   "metadata": {},
   "outputs": [
    {
     "name": "stdout",
     "output_type": "stream",
     "text": [
      "[False, True, False, False, False, False]\n"
     ]
    }
   ],
   "source": [
    "# use the A2A result to test the '((\\w{1}.)|\\w+)\\s\\w+\\s\\w+'\n",
    "# A2C to show the vectors\n",
    "A2C=[bool(re.match('((\\w{1}.)|\\w+)\\s\\w+\\s\\w+',k)) for k in A2A]\n",
    "print (A2C)"
   ]
  },
  {
   "cell_type": "markdown",
   "metadata": {},
   "source": [
    "3. (6 Points) Consider the HTML string <title\\>+++BREAKING NEWS+++<title\\>. We would like to extract the first HTML tag (i.e., “<title\\>”). To do so we write the regular expression “<.+>”. Explain why this fails and correct the expression."
   ]
  },
  {
   "cell_type": "markdown",
   "metadata": {},
   "source": [
    "The regular expression “<.+>” indicates a string which starts with '<', ends with '>'. As period mark matches ANY SINGLE CHARACTER except new line mark (\\n), therefore, the string will be matched to the final '>' before '\\n'. The regular expression can be revised to '<\\w+>' to match the string before the '+', as \\w includes letters only. "
   ]
  },
  {
   "cell_type": "code",
   "execution_count": 6,
   "metadata": {},
   "outputs": [
    {
     "data": {
      "text/plain": [
       "<re.Match object; span=(0, 7), match='<title>'>"
      ]
     },
     "execution_count": 6,
     "metadata": {},
     "output_type": "execute_result"
    }
   ],
   "source": [
    "# use re.match to check if the testing string matches the regex\n",
    "testing3='<title>+++BREAKING NEWS+++<title>'\n",
    "matched3=re.match('<\\w+>',testing3)\n",
    "matched3"
   ]
  },
  {
   "cell_type": "markdown",
   "metadata": {},
   "source": [
    "4. (6 Points) Consider the string “(5-3)^2=5^2-2\\*5\\*3+3^2” conforms to the binomial theorem. We would like to extract\n",
    "the formula in the string. To do so we write the regular expression “[^0-9=+*()]+”. Explain why this fails and correct the\n",
    "expression.\n"
   ]
  },
  {
   "cell_type": "markdown",
   "metadata": {},
   "source": [
    "The original string contains mark '^' and '-'. In regular expressions, '^' is a modifyer indicating the following marks or letter/digit ranges will be excluded. '-' is a mark indicating the letter/digit ranges starting point and ending point. According to the given regular expression, it literally means a one or more characters string excludes number 0-9, and any characters in the following list ['=','+','\\*','(',')']. To fix it, simply add a back slash before '^', and add a '\\-' in the regular expression, as '[-\\\\^0-9=+*()]+'."
   ]
  },
  {
   "cell_type": "code",
   "execution_count": 7,
   "metadata": {},
   "outputs": [
    {
     "data": {
      "text/plain": [
       "<re.Match object; span=(0, 21), match='(5-3)^2=5^2-2*5*3+3^2'>"
      ]
     },
     "execution_count": 7,
     "metadata": {},
     "output_type": "execute_result"
    }
   ],
   "source": [
    "# use re.match to check if the testing string matches the regex\n",
    "testing4='(5-3)^2=5^2-2*5*3+3^2'\n",
    "matched4=re.match('[-\\^0-9=+*()]+',testing4)\n",
    "matched4"
   ]
  },
  {
   "cell_type": "code",
   "execution_count": null,
   "metadata": {},
   "outputs": [],
   "source": []
  }
 ],
 "metadata": {
  "kernelspec": {
   "display_name": "Python 3",
   "language": "python",
   "name": "python3"
  },
  "language_info": {
   "codemirror_mode": {
    "name": "ipython",
    "version": 3
   },
   "file_extension": ".py",
   "mimetype": "text/x-python",
   "name": "python",
   "nbconvert_exporter": "python",
   "pygments_lexer": "ipython3",
   "version": "3.7.6"
  }
 },
 "nbformat": 4,
 "nbformat_minor": 4
}
