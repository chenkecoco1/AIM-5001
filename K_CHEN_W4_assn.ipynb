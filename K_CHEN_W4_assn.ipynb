{
 "cells": [
  {
   "cell_type": "markdown",
   "metadata": {},
   "source": [
    "# AIM-5001 WEEK 4 Assignment"
   ]
  },
  {
   "cell_type": "markdown",
   "metadata": {},
   "source": [
    "1. (5 Points) Write a Python/NumPy code block that finds the distinct/unique common items between these two arrays:\n",
    "a = np.array([1, 2, 3, 2, 3, 4, 3, 4, 5, 6])\n",
    "b = np.array([7, 2, 10, 2, 7, 4, 9, 4, 9, 8])\n",
    "Your output should contain only the distinct overlapping values. For example, if a 2 is found in both array a and array b, your output should contain only one 2 even if array a contains more than one 2 within it."
   ]
  },
  {
   "cell_type": "markdown",
   "metadata": {},
   "source": [
    "* np has a function to get the intersection values of 2 arrays without overlapping, np.intersect1d()."
   ]
  },
  {
   "cell_type": "code",
   "execution_count": 1,
   "metadata": {},
   "outputs": [
    {
     "name": "stdout",
     "output_type": "stream",
     "text": [
      "[2 4]\n"
     ]
    }
   ],
   "source": [
    "import numpy as np\n",
    "a = np.array([1, 2, 3, 2, 3, 4, 3, 4, 5, 6]) \n",
    "b = np.array([7, 2, 10, 2, 7, 4, 9, 4, 9, 8])\n",
    "\n",
    "# get commom items from a and b\n",
    "q1=np.intersect1d(a,b)\n",
    "print(q1)"
   ]
  },
  {
   "cell_type": "markdown",
   "metadata": {},
   "source": [
    "2. (5 Points) Create the following 5x3 array using knowledge you have of Python’s / NumPy’s sequencing functionality so that you do not need to explicitly key in every integer value."
   ]
  },
  {
   "cell_type": "markdown",
   "metadata": {},
   "source": [
    "* Create an array with numbers from 1 to 15, then use reshape function to  shape it to 5x3, transpose it."
   ]
  },
  {
   "cell_type": "code",
   "execution_count": 2,
   "metadata": {},
   "outputs": [
    {
     "name": "stdout",
     "output_type": "stream",
     "text": [
      "[[ 1  6 11]\n",
      " [ 2  7 12]\n",
      " [ 3  8 13]\n",
      " [ 4  9 14]\n",
      " [ 5 10 15]]\n"
     ]
    }
   ],
   "source": [
    "import numpy as np\n",
    "\n",
    "# create the array from 1 to 15. reshape and transpose \n",
    "q2=np.arange(1,16).reshape(3,5).T\n",
    "print(q2)"
   ]
  },
  {
   "cell_type": "markdown",
   "metadata": {},
   "source": [
    "3. (5 Points) You are given the following two arrays:\n",
    "a = np.array([12, 5, 7, 15, 3, 1, 8])\n",
    "b = np.array([14, 6, 3, 11, 19, 12, 5])\n",
    "Write a Python/Numpy code block that removes from array a any items that are also present in array b."
   ]
  },
  {
   "cell_type": "markdown",
   "metadata": {},
   "source": [
    "* Use np.isin(a,b) to get the boolean values when elements in b also found in a, get the index by np.where(), then remove the common items with np.delete()."
   ]
  },
  {
   "cell_type": "code",
   "execution_count": 3,
   "metadata": {},
   "outputs": [
    {
     "name": "stdout",
     "output_type": "stream",
     "text": [
      "[ 7 15  1  8]\n"
     ]
    }
   ],
   "source": [
    "import numpy as np\n",
    "\n",
    "a = np.array([12, 5, 7, 15, 3, 1, 8]) \n",
    "b = np.array([14, 6, 3, 11, 19, 12, 5])\n",
    "\n",
    "# get index of elements in a also in b\n",
    "c=np.where(np.isin(a,b))\n",
    "# remove the common items from a\n",
    "q3=np.delete(a,c)\n",
    "print(q3)"
   ]
  },
  {
   "cell_type": "markdown",
   "metadata": {},
   "source": [
    "4. (7 Points) Suppose you have ridden a bicycle from New York City to Key West, Florida. Your bicycle odometer shows the total miles you have travelled thus far, which you make a note of each day with paper and pencil. Your first two entries might be ‘55’ and ‘120’, indicating that you rode your bike 55 miles on day 1 and 65 miles on day 2. Your task is to create a NumPy array wherein you can record the cumulative miles you recorded each day during your trip “by hand”. Then use your Python skills to show the total miles that you rode each day. Assume the trip took a total of 35 days and included at least 4 non-consecutive days where no cycling was possible due to either weather conditions or personal fatigue/soreness. For the remaining 31 days, you would have covered the entire distance between NYC and Key West. Complete your work within your Jupyter Notebook for this assignment and be sure to include a writeup explaining your approach to this problem, including the ways in which you decided to make use of NumPy."
   ]
  },
  {
   "cell_type": "markdown",
   "metadata": {},
   "source": [
    "* From day 0, I began to record the odometer and put the record in a list. Use the following value deduct the previous value will be the distance I rode and stored it in a numpy array. Using numpy array cane be easier to do the substraction if the values are at the correspondent position, which means if the array can apply substraction on values having the same index. It can be implement by 2 ways. The first is doing misplaced substraction. The second will be using following value substracting previous value."
   ]
  },
  {
   "cell_type": "code",
   "execution_count": 4,
   "metadata": {},
   "outputs": [
    {
     "name": "stdout",
     "output_type": "stream",
     "text": [
      "[55 65 55 51 54 37 47 38 58 43  0 39 45 48 45 42 65 37 35 42 51 39 41 31\n",
      "  0 64 55 43  0 60 71 59 54  0 51]\n"
     ]
    }
   ],
   "source": [
    "#store all odometer record in the list\n",
    "byhand=[0,55,120,175,226,280,317,364,402,460,503,503,542,587,635,680,722,787,824,859,901,952,991,1032,\n",
    "        1063,1063,1127,1182,1225,1225,1285,1356,1415,1469,1469,1520]\n",
    "\n",
    "import numpy as np\n",
    "# Way1: set 2 arrays from day0 to day34, and day1 to day35\n",
    "arr1=np.array(byhand[:-1])\n",
    "arr2=np.array(byhand[1:])\n",
    "\n",
    "# store each day distance in q4a\n",
    "q4a=np.array(arr2-arr1)\n",
    "print (q4a)"
   ]
  },
  {
   "cell_type": "code",
   "execution_count": 5,
   "metadata": {},
   "outputs": [
    {
     "name": "stdout",
     "output_type": "stream",
     "text": [
      "[55 65 55 51 54 37 47 38 58 43  0 39 45 48 45 42 65 37 35 42 51 39 41 31\n",
      "  0 64 55 43  0 60 71 59 54  0 51]\n"
     ]
    }
   ],
   "source": [
    "# Way2: simply use the following value minus previous value\n",
    "q4b=np.diff(byhand)\n",
    "print (q4b)"
   ]
  },
  {
   "cell_type": "markdown",
   "metadata": {},
   "source": [
    "5.Using the NumPy array that has been loaded for you in the Jupyter Notebook, answer the following questions using NumPy’s slicing, methods, and functions:\n",
    "\n",
    " What is the maximum yearly NYC consumption of water in millions of gallons per day? \n",
    "\n",
    " How many calendar years are represented within this data set? NumPy's shape command is one way to find out. \n",
    "\n",
    " What is the mean and the standard deviation of the per capita daily water consumption?  \n",
    "\n",
    " What is the increase or decrease in population from year to year? \n",
    "\n",
    "Use NumPy's `diff` function to create an array of differences and save that to a variable called \"pop_diff\", then print that variable to the screen."
   ]
  },
  {
   "cell_type": "markdown",
   "metadata": {},
   "source": [
    "* Import the csv file and use np.max() get the maximum value, use np.shape() to know the days of dataset, use np.mean() and np.std() to get the mean and standard deviation, use np.diff() to calculate the population increase."
   ]
  },
  {
   "cell_type": "code",
   "execution_count": 6,
   "metadata": {},
   "outputs": [
    {
     "data": {
      "text/plain": [
       "numpy.ndarray"
      ]
     },
     "execution_count": 6,
     "metadata": {},
     "output_type": "execute_result"
    }
   ],
   "source": [
    "import pandas\n",
    "import numpy as np\n",
    "\n",
    "# supress scientific notation\n",
    "np.set_printoptions(suppress = True)\n",
    "\n",
    "# read the data file from GitHub and convert to a NumPy ndarray object\n",
    "nyc_water = pandas.read_csv('https://raw.githubusercontent.com/jtopor/DAV-5400/master/Week4/Water_Consumption_In_The_New_York_City.csv').values\n",
    "\n",
    "\n",
    "# verify you have an ndarray object\n",
    "type(nyc_water)\n"
   ]
  },
  {
   "cell_type": "code",
   "execution_count": 7,
   "metadata": {},
   "outputs": [
    {
     "name": "stdout",
     "output_type": "stream",
     "text": [
      "The maximum yearly NYC consumption of water in millions of gallons per day is 1512.0.\n"
     ]
    }
   ],
   "source": [
    "# the maxinum of the 3rd column NYC Consumption(Million gallons per day).\n",
    "\n",
    "maximum=np.max(nyc_water[:,2])\n",
    "print(\"The maximum yearly NYC consumption of water in millions of gallons per day is \"+str(maximum)+\".\")"
   ]
  },
  {
   "cell_type": "code",
   "execution_count": 8,
   "metadata": {},
   "outputs": [
    {
     "name": "stdout",
     "output_type": "stream",
     "text": [
      "39 calendar years are represented within this data set.\n"
     ]
    }
   ],
   "source": [
    "# use shape to get how many rows means how many years, assign row value to a.\n",
    "\n",
    "a,b=nyc_water.shape\n",
    "print (str(a)+\" calendar years are represented within this data set.\")"
   ]
  },
  {
   "cell_type": "code",
   "execution_count": 9,
   "metadata": {},
   "outputs": [
    {
     "name": "stdout",
     "output_type": "stream",
     "text": [
      "The mean and the standard deviation of the per capita daily water consumption are 160.31 Gallons and 31.52.\n"
     ]
    }
   ],
   "source": [
    "# The per capita daily water consumption is the 4th column, Per Capita(Gallons per person per day).\n",
    "\n",
    "mean=round(np.mean(nyc_water[:,3]),2)\n",
    "std=round(np.std(nyc_water[:,3]),2)\n",
    "print(\"The mean and the standard deviation of the per capita daily water consumption are \"+str(mean)+\" Gallons and \"+str(std)+\".\")"
   ]
  },
  {
   "cell_type": "code",
   "execution_count": 10,
   "metadata": {
    "scrolled": true
   },
   "outputs": [
    {
     "name": "stdout",
     "output_type": "stream",
     "text": [
      "[-30461.   17602.   19864.   72119.   53290.   39540.   45192.   23230.\n",
      "  11243.   -9544.   -8525.   38851.   54443.   77222.   64292.   62582.\n",
      "  64772.   75631.   84816.   89401.   60618.   16685.5  16685.5  16685.5\n",
      "  16685.5  16685.5  16685.5  16685.5  16685.5  16685.5  16685.5 108965.\n",
      "  77081.   61281.   49530.   44512.   21171.   85025. ]\n"
     ]
    }
   ],
   "source": [
    "# Use np.differ() to apply on the 2nd column, New York City Population.\n",
    "\n",
    "pop_diff=np.diff(nyc_water[:,1])\n",
    "print(pop_diff)"
   ]
  },
  {
   "cell_type": "code",
   "execution_count": null,
   "metadata": {},
   "outputs": [],
   "source": []
  }
 ],
 "metadata": {
  "kernelspec": {
   "display_name": "Python 3",
   "language": "python",
   "name": "python3"
  },
  "language_info": {
   "codemirror_mode": {
    "name": "ipython",
    "version": 3
   },
   "file_extension": ".py",
   "mimetype": "text/x-python",
   "name": "python",
   "nbconvert_exporter": "python",
   "pygments_lexer": "ipython3",
   "version": "3.7.6"
  }
 },
 "nbformat": 4,
 "nbformat_minor": 4
}
