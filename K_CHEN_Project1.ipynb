{
 "cells": [
  {
   "cell_type": "markdown",
   "metadata": {},
   "source": [
    "# Project 1: Travel Insurance or Not in Houston?"
   ]
  },
  {
   "cell_type": "markdown",
   "metadata": {},
   "source": [
    "* Alejandra Zapata (Katz School of Yeshiva University)         \n",
    "* Ke Chen (Katz School of Yeshiva University)"
   ]
  },
  {
   "cell_type": "markdown",
   "metadata": {},
   "source": [
    "## 0. Introduction\n",
    "\n",
    "Trip insurance was popular a couple years ago. It can include lesser known elements including travel delay, lost, damaged and delayed baggage, medical and emergency evacuation coverage. Passangers are willing to pay a small amount of money to get the one-time coverage. Frequent plane takers even have special tricks for buying the insurance. However, in recent years, some insurance companies gradually abandoned the travel insurance services.\n",
    "\n",
    "In this project, the dataset of US commercial domestic airline flights that departed from two separate airports in Houston, TX (IAH and HOU) during the January and February of 2011 was analyzed. The analysis focuses on finding trends of cancellations and delays from both Houston airports (location parameter), airline carriers (operation parameter), and the day of week (time parameter). An experiment also take into discussion the delay rate along with the delay minutes. Ultimately, The result can be a simple reference for insurance’s company in Houston area to determine the policies and travel insurance product availability. It also can a reference for Houston passangers' decision on the travel insurance purchase.\n",
    "\n",
    "### Index\n",
    "\n",
    "1. Importing the Dataset\n",
    "2. Data Preparation\n",
    "3. Exploratory Data Analysis\n",
    "    \n",
    "    3.1. *General View of Dataset*\n",
    "\n",
    "    3.2. *Preliminary Cancellation Total per Origin Airports*\n",
    "    \n",
    "    3.3. *Preliminary Cancellation Total per Carrier*\n",
    "    \n",
    "    \n",
    "4. Research and Results: Cancellation & Delay Analysis\n",
    "   \n",
    "   4.1. *Cancellation*\n",
    "   \n",
    "       4.1.1. In which airport were the flights more likely to be cancelled?\n",
    "     \n",
    "       4.1.2. Which airport carrier had the least and most cancellations?\n",
    "   \n",
    "   4.2. *On-Time Performance*\n",
    "   \n",
    "       4.2.1. Which airport had a better performance of departure?\n",
    "     \n",
    "       4.2.2. What day of the week has the most and least delays?\n",
    "     \n",
    "       4.2.3. What is the trend of delay rates along with delay minutes? \n",
    "        \n",
    "5. Discussion and Conclusion"
   ]
  },
  {
   "cell_type": "markdown",
   "metadata": {},
   "source": [
    "## 1. Importing the Dataset"
   ]
  },
  {
   "cell_type": "code",
   "execution_count": 1,
   "metadata": {},
   "outputs": [
    {
     "data": {
      "text/html": [
       "<div>\n",
       "<style scoped>\n",
       "    .dataframe tbody tr th:only-of-type {\n",
       "        vertical-align: middle;\n",
       "    }\n",
       "\n",
       "    .dataframe tbody tr th {\n",
       "        vertical-align: top;\n",
       "    }\n",
       "\n",
       "    .dataframe thead th {\n",
       "        text-align: right;\n",
       "    }\n",
       "</style>\n",
       "<table border=\"1\" class=\"dataframe\">\n",
       "  <thead>\n",
       "    <tr style=\"text-align: right;\">\n",
       "      <th></th>\n",
       "      <th>Year</th>\n",
       "      <th>Month</th>\n",
       "      <th>DayofMonth</th>\n",
       "      <th>DayOfWeek</th>\n",
       "      <th>DepTime</th>\n",
       "      <th>ArrTime</th>\n",
       "      <th>UniqueCarrier</th>\n",
       "      <th>FlightNum</th>\n",
       "      <th>TailNum</th>\n",
       "      <th>ActualElapsedTime</th>\n",
       "      <th>...</th>\n",
       "      <th>ArrDelay</th>\n",
       "      <th>DepDelay</th>\n",
       "      <th>Origin</th>\n",
       "      <th>Dest</th>\n",
       "      <th>Distance</th>\n",
       "      <th>TaxiIn</th>\n",
       "      <th>TaxiOut</th>\n",
       "      <th>Cancelled</th>\n",
       "      <th>CancellationCode</th>\n",
       "      <th>Diverted</th>\n",
       "    </tr>\n",
       "  </thead>\n",
       "  <tbody>\n",
       "    <tr>\n",
       "      <th>0</th>\n",
       "      <td>2011</td>\n",
       "      <td>1</td>\n",
       "      <td>1</td>\n",
       "      <td>6</td>\n",
       "      <td>1400.0</td>\n",
       "      <td>1500.0</td>\n",
       "      <td>AA</td>\n",
       "      <td>428</td>\n",
       "      <td>N576AA</td>\n",
       "      <td>60.0</td>\n",
       "      <td>...</td>\n",
       "      <td>-10.0</td>\n",
       "      <td>0.0</td>\n",
       "      <td>IAH</td>\n",
       "      <td>DFW</td>\n",
       "      <td>224</td>\n",
       "      <td>7.0</td>\n",
       "      <td>13.0</td>\n",
       "      <td>0</td>\n",
       "      <td>NaN</td>\n",
       "      <td>0</td>\n",
       "    </tr>\n",
       "    <tr>\n",
       "      <th>1</th>\n",
       "      <td>2011</td>\n",
       "      <td>1</td>\n",
       "      <td>2</td>\n",
       "      <td>7</td>\n",
       "      <td>1401.0</td>\n",
       "      <td>1501.0</td>\n",
       "      <td>AA</td>\n",
       "      <td>428</td>\n",
       "      <td>N557AA</td>\n",
       "      <td>60.0</td>\n",
       "      <td>...</td>\n",
       "      <td>-9.0</td>\n",
       "      <td>1.0</td>\n",
       "      <td>IAH</td>\n",
       "      <td>DFW</td>\n",
       "      <td>224</td>\n",
       "      <td>6.0</td>\n",
       "      <td>9.0</td>\n",
       "      <td>0</td>\n",
       "      <td>NaN</td>\n",
       "      <td>0</td>\n",
       "    </tr>\n",
       "    <tr>\n",
       "      <th>2</th>\n",
       "      <td>2011</td>\n",
       "      <td>1</td>\n",
       "      <td>3</td>\n",
       "      <td>1</td>\n",
       "      <td>1352.0</td>\n",
       "      <td>1502.0</td>\n",
       "      <td>AA</td>\n",
       "      <td>428</td>\n",
       "      <td>N541AA</td>\n",
       "      <td>70.0</td>\n",
       "      <td>...</td>\n",
       "      <td>-8.0</td>\n",
       "      <td>-8.0</td>\n",
       "      <td>IAH</td>\n",
       "      <td>DFW</td>\n",
       "      <td>224</td>\n",
       "      <td>5.0</td>\n",
       "      <td>17.0</td>\n",
       "      <td>0</td>\n",
       "      <td>NaN</td>\n",
       "      <td>0</td>\n",
       "    </tr>\n",
       "    <tr>\n",
       "      <th>3</th>\n",
       "      <td>2011</td>\n",
       "      <td>1</td>\n",
       "      <td>4</td>\n",
       "      <td>2</td>\n",
       "      <td>1403.0</td>\n",
       "      <td>1513.0</td>\n",
       "      <td>AA</td>\n",
       "      <td>428</td>\n",
       "      <td>N403AA</td>\n",
       "      <td>70.0</td>\n",
       "      <td>...</td>\n",
       "      <td>3.0</td>\n",
       "      <td>3.0</td>\n",
       "      <td>IAH</td>\n",
       "      <td>DFW</td>\n",
       "      <td>224</td>\n",
       "      <td>9.0</td>\n",
       "      <td>22.0</td>\n",
       "      <td>0</td>\n",
       "      <td>NaN</td>\n",
       "      <td>0</td>\n",
       "    </tr>\n",
       "    <tr>\n",
       "      <th>4</th>\n",
       "      <td>2011</td>\n",
       "      <td>1</td>\n",
       "      <td>5</td>\n",
       "      <td>3</td>\n",
       "      <td>1405.0</td>\n",
       "      <td>1507.0</td>\n",
       "      <td>AA</td>\n",
       "      <td>428</td>\n",
       "      <td>N492AA</td>\n",
       "      <td>62.0</td>\n",
       "      <td>...</td>\n",
       "      <td>-3.0</td>\n",
       "      <td>5.0</td>\n",
       "      <td>IAH</td>\n",
       "      <td>DFW</td>\n",
       "      <td>224</td>\n",
       "      <td>9.0</td>\n",
       "      <td>9.0</td>\n",
       "      <td>0</td>\n",
       "      <td>NaN</td>\n",
       "      <td>0</td>\n",
       "    </tr>\n",
       "  </tbody>\n",
       "</table>\n",
       "<p>5 rows × 21 columns</p>\n",
       "</div>"
      ],
      "text/plain": [
       "   Year  Month  DayofMonth  DayOfWeek  DepTime  ArrTime UniqueCarrier  \\\n",
       "0  2011      1           1          6   1400.0   1500.0            AA   \n",
       "1  2011      1           2          7   1401.0   1501.0            AA   \n",
       "2  2011      1           3          1   1352.0   1502.0            AA   \n",
       "3  2011      1           4          2   1403.0   1513.0            AA   \n",
       "4  2011      1           5          3   1405.0   1507.0            AA   \n",
       "\n",
       "   FlightNum TailNum  ActualElapsedTime  ...  ArrDelay  DepDelay  Origin Dest  \\\n",
       "0        428  N576AA               60.0  ...     -10.0       0.0     IAH  DFW   \n",
       "1        428  N557AA               60.0  ...      -9.0       1.0     IAH  DFW   \n",
       "2        428  N541AA               70.0  ...      -8.0      -8.0     IAH  DFW   \n",
       "3        428  N403AA               70.0  ...       3.0       3.0     IAH  DFW   \n",
       "4        428  N492AA               62.0  ...      -3.0       5.0     IAH  DFW   \n",
       "\n",
       "  Distance  TaxiIn  TaxiOut  Cancelled  CancellationCode Diverted  \n",
       "0      224     7.0     13.0          0               NaN        0  \n",
       "1      224     6.0      9.0          0               NaN        0  \n",
       "2      224     5.0     17.0          0               NaN        0  \n",
       "3      224     9.0     22.0          0               NaN        0  \n",
       "4      224     9.0      9.0          0               NaN        0  \n",
       "\n",
       "[5 rows x 21 columns]"
      ]
     },
     "execution_count": 1,
     "metadata": {},
     "output_type": "execute_result"
    }
   ],
   "source": [
    "import pandas as pd\n",
    "\n",
    "hflights_orgfile = 'https://raw.githubusercontent.com/jtopor/DAV-5400/master/Project1/hflights.csv'\n",
    "hflights_df= pd.read_csv(hflights_orgfile)\n",
    "\n",
    "hflights_df.head()"
   ]
  },
  {
   "cell_type": "markdown",
   "metadata": {},
   "source": [
    "The whole dataset is a 20000 rows and 21 columns dataframe with evidence shown below."
   ]
  },
  {
   "cell_type": "code",
   "execution_count": 2,
   "metadata": {},
   "outputs": [
    {
     "data": {
      "text/plain": [
       "pandas.core.frame.DataFrame"
      ]
     },
     "execution_count": 2,
     "metadata": {},
     "output_type": "execute_result"
    }
   ],
   "source": [
    "type(hflights_df)"
   ]
  },
  {
   "cell_type": "code",
   "execution_count": 3,
   "metadata": {},
   "outputs": [
    {
     "name": "stdout",
     "output_type": "stream",
     "text": [
      "The dataset has 20000 rows and 21 columns.\n"
     ]
    }
   ],
   "source": [
    "# Use df.shape() to know the row and columns of the dataset\n",
    "print ('The dataset has '+str(hflights_df.shape[0])+' rows and '+str(hflights_df.shape[1])+' columns.')"
   ]
  },
  {
   "cell_type": "markdown",
   "metadata": {},
   "source": [
    "## 2. Data Preparation\n",
    "\n",
    "* In order to evaluate only cancellations, columns of UniqueCarrier, FlightNum, Origin, Destination, Distance and if Cancelled were taken out as a new dataframe: cancelrate."
   ]
  },
  {
   "cell_type": "code",
   "execution_count": 4,
   "metadata": {},
   "outputs": [
    {
     "data": {
      "text/html": [
       "<div>\n",
       "<style scoped>\n",
       "    .dataframe tbody tr th:only-of-type {\n",
       "        vertical-align: middle;\n",
       "    }\n",
       "\n",
       "    .dataframe tbody tr th {\n",
       "        vertical-align: top;\n",
       "    }\n",
       "\n",
       "    .dataframe thead th {\n",
       "        text-align: right;\n",
       "    }\n",
       "</style>\n",
       "<table border=\"1\" class=\"dataframe\">\n",
       "  <thead>\n",
       "    <tr style=\"text-align: right;\">\n",
       "      <th></th>\n",
       "      <th>DayOfWeek</th>\n",
       "      <th>UniqueCarrier</th>\n",
       "      <th>FlightNum</th>\n",
       "      <th>Origin</th>\n",
       "      <th>Dest</th>\n",
       "      <th>Distance</th>\n",
       "      <th>Cancelled</th>\n",
       "    </tr>\n",
       "  </thead>\n",
       "  <tbody>\n",
       "    <tr>\n",
       "      <th>0</th>\n",
       "      <td>6</td>\n",
       "      <td>AA</td>\n",
       "      <td>428</td>\n",
       "      <td>IAH</td>\n",
       "      <td>DFW</td>\n",
       "      <td>224</td>\n",
       "      <td>0</td>\n",
       "    </tr>\n",
       "    <tr>\n",
       "      <th>1</th>\n",
       "      <td>7</td>\n",
       "      <td>AA</td>\n",
       "      <td>428</td>\n",
       "      <td>IAH</td>\n",
       "      <td>DFW</td>\n",
       "      <td>224</td>\n",
       "      <td>0</td>\n",
       "    </tr>\n",
       "    <tr>\n",
       "      <th>2</th>\n",
       "      <td>1</td>\n",
       "      <td>AA</td>\n",
       "      <td>428</td>\n",
       "      <td>IAH</td>\n",
       "      <td>DFW</td>\n",
       "      <td>224</td>\n",
       "      <td>0</td>\n",
       "    </tr>\n",
       "    <tr>\n",
       "      <th>3</th>\n",
       "      <td>2</td>\n",
       "      <td>AA</td>\n",
       "      <td>428</td>\n",
       "      <td>IAH</td>\n",
       "      <td>DFW</td>\n",
       "      <td>224</td>\n",
       "      <td>0</td>\n",
       "    </tr>\n",
       "    <tr>\n",
       "      <th>4</th>\n",
       "      <td>3</td>\n",
       "      <td>AA</td>\n",
       "      <td>428</td>\n",
       "      <td>IAH</td>\n",
       "      <td>DFW</td>\n",
       "      <td>224</td>\n",
       "      <td>0</td>\n",
       "    </tr>\n",
       "  </tbody>\n",
       "</table>\n",
       "</div>"
      ],
      "text/plain": [
       "   DayOfWeek UniqueCarrier  FlightNum Origin Dest  Distance  Cancelled\n",
       "0          6            AA        428    IAH  DFW       224          0\n",
       "1          7            AA        428    IAH  DFW       224          0\n",
       "2          1            AA        428    IAH  DFW       224          0\n",
       "3          2            AA        428    IAH  DFW       224          0\n",
       "4          3            AA        428    IAH  DFW       224          0"
      ]
     },
     "execution_count": 4,
     "metadata": {},
     "output_type": "execute_result"
    }
   ],
   "source": [
    "# Use double brakets to select the columns and form a new dataframe\n",
    "cancelrate=hflights_df[['DayOfWeek','UniqueCarrier','FlightNum','Origin','Dest','Distance','Cancelled']]\n",
    "cancelrate.head()"
   ]
  },
  {
   "cell_type": "markdown",
   "metadata": {},
   "source": [
    "* In order to evaluate flights performance we have taken out those flights that were cancelled to have more accurate results in terms of those flights that did operate. Rows with Cancelled value 1 were taken out as a new dataframe: hflights_regular, to evaluate the on-time performance of the flights."
   ]
  },
  {
   "cell_type": "code",
   "execution_count": 5,
   "metadata": {},
   "outputs": [
    {
     "data": {
      "text/html": [
       "<div>\n",
       "<style scoped>\n",
       "    .dataframe tbody tr th:only-of-type {\n",
       "        vertical-align: middle;\n",
       "    }\n",
       "\n",
       "    .dataframe tbody tr th {\n",
       "        vertical-align: top;\n",
       "    }\n",
       "\n",
       "    .dataframe thead th {\n",
       "        text-align: right;\n",
       "    }\n",
       "</style>\n",
       "<table border=\"1\" class=\"dataframe\">\n",
       "  <thead>\n",
       "    <tr style=\"text-align: right;\">\n",
       "      <th></th>\n",
       "      <th>index</th>\n",
       "      <th>Year</th>\n",
       "      <th>Month</th>\n",
       "      <th>DayofMonth</th>\n",
       "      <th>DayOfWeek</th>\n",
       "      <th>DepTime</th>\n",
       "      <th>ArrTime</th>\n",
       "      <th>UniqueCarrier</th>\n",
       "      <th>FlightNum</th>\n",
       "      <th>TailNum</th>\n",
       "      <th>...</th>\n",
       "      <th>ArrDelay</th>\n",
       "      <th>DepDelay</th>\n",
       "      <th>Origin</th>\n",
       "      <th>Dest</th>\n",
       "      <th>Distance</th>\n",
       "      <th>TaxiIn</th>\n",
       "      <th>TaxiOut</th>\n",
       "      <th>Cancelled</th>\n",
       "      <th>CancellationCode</th>\n",
       "      <th>Diverted</th>\n",
       "    </tr>\n",
       "  </thead>\n",
       "  <tbody>\n",
       "    <tr>\n",
       "      <th>19771</th>\n",
       "      <td>19995</td>\n",
       "      <td>2011</td>\n",
       "      <td>2</td>\n",
       "      <td>25</td>\n",
       "      <td>5</td>\n",
       "      <td>1126.0</td>\n",
       "      <td>1333.0</td>\n",
       "      <td>CO</td>\n",
       "      <td>1719</td>\n",
       "      <td>N19621</td>\n",
       "      <td>...</td>\n",
       "      <td>8.0</td>\n",
       "      <td>-4.0</td>\n",
       "      <td>IAH</td>\n",
       "      <td>MTJ</td>\n",
       "      <td>926</td>\n",
       "      <td>5.0</td>\n",
       "      <td>30.0</td>\n",
       "      <td>0</td>\n",
       "      <td>NaN</td>\n",
       "      <td>0</td>\n",
       "    </tr>\n",
       "    <tr>\n",
       "      <th>19772</th>\n",
       "      <td>19996</td>\n",
       "      <td>2011</td>\n",
       "      <td>2</td>\n",
       "      <td>25</td>\n",
       "      <td>5</td>\n",
       "      <td>941.0</td>\n",
       "      <td>1111.0</td>\n",
       "      <td>CO</td>\n",
       "      <td>1723</td>\n",
       "      <td>N37298</td>\n",
       "      <td>...</td>\n",
       "      <td>0.0</td>\n",
       "      <td>11.0</td>\n",
       "      <td>IAH</td>\n",
       "      <td>ONT</td>\n",
       "      <td>1334</td>\n",
       "      <td>5.0</td>\n",
       "      <td>12.0</td>\n",
       "      <td>0</td>\n",
       "      <td>NaN</td>\n",
       "      <td>0</td>\n",
       "    </tr>\n",
       "    <tr>\n",
       "      <th>19773</th>\n",
       "      <td>19997</td>\n",
       "      <td>2011</td>\n",
       "      <td>2</td>\n",
       "      <td>25</td>\n",
       "      <td>5</td>\n",
       "      <td>722.0</td>\n",
       "      <td>948.0</td>\n",
       "      <td>CO</td>\n",
       "      <td>1746</td>\n",
       "      <td>N37408</td>\n",
       "      <td>...</td>\n",
       "      <td>-17.0</td>\n",
       "      <td>-3.0</td>\n",
       "      <td>IAH</td>\n",
       "      <td>ORD</td>\n",
       "      <td>925</td>\n",
       "      <td>17.0</td>\n",
       "      <td>14.0</td>\n",
       "      <td>0</td>\n",
       "      <td>NaN</td>\n",
       "      <td>0</td>\n",
       "    </tr>\n",
       "    <tr>\n",
       "      <th>19774</th>\n",
       "      <td>19998</td>\n",
       "      <td>2011</td>\n",
       "      <td>2</td>\n",
       "      <td>25</td>\n",
       "      <td>5</td>\n",
       "      <td>1909.0</td>\n",
       "      <td>2216.0</td>\n",
       "      <td>CO</td>\n",
       "      <td>1748</td>\n",
       "      <td>N27239</td>\n",
       "      <td>...</td>\n",
       "      <td>-10.0</td>\n",
       "      <td>12.0</td>\n",
       "      <td>IAH</td>\n",
       "      <td>FLL</td>\n",
       "      <td>965</td>\n",
       "      <td>6.0</td>\n",
       "      <td>15.0</td>\n",
       "      <td>0</td>\n",
       "      <td>NaN</td>\n",
       "      <td>0</td>\n",
       "    </tr>\n",
       "    <tr>\n",
       "      <th>19775</th>\n",
       "      <td>19999</td>\n",
       "      <td>2011</td>\n",
       "      <td>2</td>\n",
       "      <td>25</td>\n",
       "      <td>5</td>\n",
       "      <td>1255.0</td>\n",
       "      <td>1553.0</td>\n",
       "      <td>CO</td>\n",
       "      <td>1757</td>\n",
       "      <td>N14604</td>\n",
       "      <td>...</td>\n",
       "      <td>-3.0</td>\n",
       "      <td>5.0</td>\n",
       "      <td>IAH</td>\n",
       "      <td>ATL</td>\n",
       "      <td>689</td>\n",
       "      <td>13.0</td>\n",
       "      <td>22.0</td>\n",
       "      <td>0</td>\n",
       "      <td>NaN</td>\n",
       "      <td>0</td>\n",
       "    </tr>\n",
       "  </tbody>\n",
       "</table>\n",
       "<p>5 rows × 22 columns</p>\n",
       "</div>"
      ],
      "text/plain": [
       "       index  Year  Month  DayofMonth  DayOfWeek  DepTime  ArrTime  \\\n",
       "19771  19995  2011      2          25          5   1126.0   1333.0   \n",
       "19772  19996  2011      2          25          5    941.0   1111.0   \n",
       "19773  19997  2011      2          25          5    722.0    948.0   \n",
       "19774  19998  2011      2          25          5   1909.0   2216.0   \n",
       "19775  19999  2011      2          25          5   1255.0   1553.0   \n",
       "\n",
       "      UniqueCarrier  FlightNum TailNum  ...  ArrDelay  DepDelay  Origin  Dest  \\\n",
       "19771            CO       1719  N19621  ...       8.0      -4.0     IAH   MTJ   \n",
       "19772            CO       1723  N37298  ...       0.0      11.0     IAH   ONT   \n",
       "19773            CO       1746  N37408  ...     -17.0      -3.0     IAH   ORD   \n",
       "19774            CO       1748  N27239  ...     -10.0      12.0     IAH   FLL   \n",
       "19775            CO       1757  N14604  ...      -3.0       5.0     IAH   ATL   \n",
       "\n",
       "      Distance TaxiIn  TaxiOut  Cancelled  CancellationCode  Diverted  \n",
       "19771      926    5.0     30.0          0               NaN         0  \n",
       "19772     1334    5.0     12.0          0               NaN         0  \n",
       "19773      925   17.0     14.0          0               NaN         0  \n",
       "19774      965    6.0     15.0          0               NaN         0  \n",
       "19775      689   13.0     22.0          0               NaN         0  \n",
       "\n",
       "[5 rows x 22 columns]"
      ]
     },
     "execution_count": 5,
     "metadata": {},
     "output_type": "execute_result"
    }
   ],
   "source": [
    "hflights_regular=hflights_df[hflights_df['Cancelled']==0].reset_index()\n",
    "hflights_regular.tail()"
   ]
  },
  {
   "cell_type": "markdown",
   "metadata": {},
   "source": [
    "## 3. Exploratory Data Analysis"
   ]
  },
  {
   "cell_type": "markdown",
   "metadata": {},
   "source": [
    "### 3.1 General View of Dataset"
   ]
  },
  {
   "cell_type": "markdown",
   "metadata": {},
   "source": [
    "IAH stands for George Bush International Airport. It has 5 terminals (A,B,C,D,E). We see with the following information during 2011 there were over 15k flights that departed from here. This information will be important when we further analyze and compare the performance of both airports."
   ]
  },
  {
   "cell_type": "code",
   "execution_count": 6,
   "metadata": {},
   "outputs": [
    {
     "name": "stdout",
     "output_type": "stream",
     "text": [
      "The number of flights departed from IAH on Jan and Feb on 2011 is 15681\n"
     ]
    }
   ],
   "source": [
    "IAHflights=hflights_df[hflights_df.Origin == 'IAH'].shape[0]\n",
    "print('The number of flights departed from IAH on Jan and Feb on 2011 is', IAHflights)"
   ]
  },
  {
   "cell_type": "markdown",
   "metadata": {},
   "source": [
    "HOU is the William P. Hobby International Airport. Different from IAH, it only had one terminal. The number of flights that departed from HOU during the data frame period of time is over 4k."
   ]
  },
  {
   "cell_type": "code",
   "execution_count": 7,
   "metadata": {},
   "outputs": [
    {
     "name": "stdout",
     "output_type": "stream",
     "text": [
      "The number of flights departed from HOU on Jan and Feb on 2011 is 4319\n"
     ]
    }
   ],
   "source": [
    "HOUflights=hflights_df[hflights_df.Origin == 'HOU'].shape[0]\n",
    "print('The number of flights departed from HOU on Jan and Feb on 2011 is', HOUflights)"
   ]
  },
  {
   "cell_type": "markdown",
   "metadata": {},
   "source": [
    "As the destination of the two Houston area aiports vary, from the furthest destination airport, which is Honululu (HNL) with index number 355, to the nearest airport, Lake Charles Regional Airport (LCH) with index number 12208 as shown below."
   ]
  },
  {
   "cell_type": "markdown",
   "metadata": {},
   "source": [
    "* Using .idxmax() and .idxmin() to reach the maximum and minimun value index, apply the index number to the destination column."
   ]
  },
  {
   "cell_type": "code",
   "execution_count": 8,
   "metadata": {},
   "outputs": [
    {
     "data": {
      "text/html": [
       "<div>\n",
       "<style scoped>\n",
       "    .dataframe tbody tr th:only-of-type {\n",
       "        vertical-align: middle;\n",
       "    }\n",
       "\n",
       "    .dataframe tbody tr th {\n",
       "        vertical-align: top;\n",
       "    }\n",
       "\n",
       "    .dataframe thead th {\n",
       "        text-align: right;\n",
       "    }\n",
       "</style>\n",
       "<table border=\"1\" class=\"dataframe\">\n",
       "  <thead>\n",
       "    <tr style=\"text-align: right;\">\n",
       "      <th></th>\n",
       "      <th>Dest</th>\n",
       "    </tr>\n",
       "  </thead>\n",
       "  <tbody>\n",
       "    <tr>\n",
       "      <th>355</th>\n",
       "      <td>HNL</td>\n",
       "    </tr>\n",
       "  </tbody>\n",
       "</table>\n",
       "</div>"
      ],
      "text/plain": [
       "    Dest\n",
       "355  HNL"
      ]
     },
     "execution_count": 8,
     "metadata": {},
     "output_type": "execute_result"
    }
   ],
   "source": [
    "# Use .idxmax() to reach the index of the maximum value\n",
    "idxmax=hflights_df['Distance'].idxmax()\n",
    "hflights_df.loc[[idxmax],['Dest']]"
   ]
  },
  {
   "cell_type": "code",
   "execution_count": 9,
   "metadata": {},
   "outputs": [
    {
     "data": {
      "text/html": [
       "<div>\n",
       "<style scoped>\n",
       "    .dataframe tbody tr th:only-of-type {\n",
       "        vertical-align: middle;\n",
       "    }\n",
       "\n",
       "    .dataframe tbody tr th {\n",
       "        vertical-align: top;\n",
       "    }\n",
       "\n",
       "    .dataframe thead th {\n",
       "        text-align: right;\n",
       "    }\n",
       "</style>\n",
       "<table border=\"1\" class=\"dataframe\">\n",
       "  <thead>\n",
       "    <tr style=\"text-align: right;\">\n",
       "      <th></th>\n",
       "      <th>Dest</th>\n",
       "    </tr>\n",
       "  </thead>\n",
       "  <tbody>\n",
       "    <tr>\n",
       "      <th>12208</th>\n",
       "      <td>LCH</td>\n",
       "    </tr>\n",
       "  </tbody>\n",
       "</table>\n",
       "</div>"
      ],
      "text/plain": [
       "      Dest\n",
       "12208  LCH"
      ]
     },
     "execution_count": 9,
     "metadata": {},
     "output_type": "execute_result"
    }
   ],
   "source": [
    "# Use .idxmin() to reach the index of the minimum value\n",
    "idxmin=hflights_df['Distance'].idxmin()\n",
    "hflights_df.loc[[idxmin],['Dest']]"
   ]
  },
  {
   "cell_type": "markdown",
   "metadata": {},
   "source": [
    "14 airlines are based on Houston area in the 2 airports. The code of the carriers are show in the below numpy array."
   ]
  },
  {
   "cell_type": "markdown",
   "metadata": {},
   "source": [
    "* Using .unique() to reach the unique values of UniqueCarrier columns"
   ]
  },
  {
   "cell_type": "code",
   "execution_count": 10,
   "metadata": {},
   "outputs": [
    {
     "data": {
      "text/plain": [
       "array(['AA', 'AS', 'B6', 'CO', 'DL', 'OO', 'UA', 'US', 'WN', 'EV', 'F9',\n",
       "       'FL', 'MQ', 'XE'], dtype=object)"
      ]
     },
     "execution_count": 10,
     "metadata": {},
     "output_type": "execute_result"
    }
   ],
   "source": [
    "hflights_df['UniqueCarrier'].unique()"
   ]
  },
  {
   "cell_type": "markdown",
   "metadata": {},
   "source": [
    "* Using .nunique() to reach the number of unique values."
   ]
  },
  {
   "cell_type": "code",
   "execution_count": 11,
   "metadata": {},
   "outputs": [
    {
     "data": {
      "text/plain": [
       "14"
      ]
     },
     "execution_count": 11,
     "metadata": {},
     "output_type": "execute_result"
    }
   ],
   "source": [
    "hflights_df['UniqueCarrier'].nunique()"
   ]
  },
  {
   "cell_type": "markdown",
   "metadata": {},
   "source": [
    "### 3.2 Preliminary Cancellation Total per Origin Airports\n",
    "\n",
    "To hypothesize questions about cancellations and their relationship to the Houston Airports, some preliminary visualizations that would inform us on the average performance of each were run below."
   ]
  },
  {
   "cell_type": "code",
   "execution_count": 12,
   "metadata": {},
   "outputs": [
    {
     "data": {
      "text/plain": [
       "Text(0, 0.5, 'Number of Cancelled Flights')"
      ]
     },
     "execution_count": 12,
     "metadata": {},
     "output_type": "execute_result"
    },
    {
     "data": {
      "image/png": "[encoded data removed]",
      "text/plain": [
       "<Figure size 432x288 with 1 Axes>"
      ]
     },
     "metadata": {
      "needs_background": "light"
     },
     "output_type": "display_data"
    }
   ],
   "source": [
    "#groupby separates the column per origin\n",
    "viz=cancelrate.groupby('Origin')['Cancelled'].sum().plot.bar(title='Cancelled Flights Per Origin Airport', color='blue')\n",
    "viz.set_ylabel('Number of Cancelled Flights')"
   ]
  },
  {
   "cell_type": "markdown",
   "metadata": {},
   "source": [
    "This bar graph showed IAH had a larger number of cancellations. On our research questions we will look into the cancellation rates and compare our results."
   ]
  },
  {
   "cell_type": "markdown",
   "metadata": {},
   "source": [
    "### 3.3 Preliminary Cancellation Total per Carrier\n",
    "\n",
    "On the following graph, the initial trends per airlines need to be understand to inform our reserach analysis. The research analysis will look at the total cancellation flights amount of each carrier. This graph gives us an initial look into the relationship of carriers and the cancellations."
   ]
  },
  {
   "cell_type": "code",
   "execution_count": 13,
   "metadata": {},
   "outputs": [
    {
     "data": {
      "text/plain": [
       "Text(0, 0.5, 'Number of Cancelled Flights')"
      ]
     },
     "execution_count": 13,
     "metadata": {},
     "output_type": "execute_result"
    },
    {
     "data": {
      "image/png": "[encoded data removed]",
      "text/plain": [
       "<Figure size 720x360 with 1 Axes>"
      ]
     },
     "metadata": {
      "needs_background": "light"
     },
     "output_type": "display_data"
    }
   ],
   "source": [
    "viz2=cancelrate.groupby('UniqueCarrier')['Cancelled'].sum().plot.bar(title='Cancellation Total per Carrier',figsize=(10,5), color='red')\n",
    "viz2.set_ylabel('Number of Cancelled Flights')"
   ]
  },
  {
   "cell_type": "markdown",
   "metadata": {},
   "source": [
    "This bar graph showed overall cancellations of all carriers of Houston area. It shows CO had the most cancellation and F9, AS, FL, UA and US had the lowest total. On our research analysis, the rate of cancellations will be compared with this results."
   ]
  },
  {
   "cell_type": "markdown",
   "metadata": {},
   "source": [
    "## 4. Research and Results: Cancellation and Delay Analysis\n",
    "The information drawn from the analysis would be helpful to passengers who often fly from Houston to compare 2 airports and airlines flying from them. The result could indicate the risk to select airport and airlines when traveling."
   ]
  },
  {
   "cell_type": "markdown",
   "metadata": {},
   "source": [
    "### 4.1 Cancellation"
   ]
  },
  {
   "cell_type": "markdown",
   "metadata": {},
   "source": [
    "#### 4.1.1 In which airport, the flights were more likely to be cancelled?"
   ]
  },
  {
   "cell_type": "markdown",
   "metadata": {},
   "source": [
    "* In the cancelled column, 1 indicates cancelled. Therefore, two conditions were used to filter out both flight supposed to be taken off from IAH but cancelled, and from HOU but cancelled, respectively, to calculate the cancellation rate of the 2 airports. "
   ]
  },
  {
   "cell_type": "code",
   "execution_count": 14,
   "metadata": {},
   "outputs": [
    {
     "name": "stdout",
     "output_type": "stream",
     "text": [
      "IAH had the cancellation rate of 0.99%.\n"
     ]
    }
   ],
   "source": [
    "#Use dataFrame.shape to get the number of rows\n",
    "cancel_IAH_count=cancelrate[(cancelrate['Origin']=='IAH') & (cancelrate['Cancelled']==1)].shape[0]\n",
    "total_IAH_count=cancelrate[cancelrate['Origin']=='IAH'].shape[0]\n",
    "\n",
    "#IAH cancellation rate\n",
    "print ('IAH had the cancellation rate of '+ str(round(cancel_IAH_count/total_IAH_count*100,2))+'%.')"
   ]
  },
  {
   "cell_type": "code",
   "execution_count": 15,
   "metadata": {},
   "outputs": [
    {
     "name": "stdout",
     "output_type": "stream",
     "text": [
      "HOU had the cancellation rate of 1.57%.\n"
     ]
    }
   ],
   "source": [
    "#Use dataFrame.shape to get the number of rows\n",
    "cancel_HOU_count=cancelrate[(cancelrate['Origin']=='HOU') & (cancelrate['Cancelled']==1)].shape[0]\n",
    "total_HOU_count=cancelrate[cancelrate['Origin']=='HOU'].shape[0]\n",
    "\n",
    "#IAH cancellation rate\n",
    "print ('HOU had the cancellation rate of '+ str(round(cancel_HOU_count/total_HOU_count*100,2))+'%.')"
   ]
  },
  {
   "cell_type": "markdown",
   "metadata": {},
   "source": [
    "As the result showing, HOU had a slightly higher cancellation rate. "
   ]
  },
  {
   "cell_type": "markdown",
   "metadata": {},
   "source": [
    "#### 4.1.2 Which airline carriers had the least and the most cancellations?"
   ]
  },
  {
   "cell_type": "markdown",
   "metadata": {},
   "source": [
    "* As the carriers are more than the origin airports, it is wise to create a function to loop the different carriers."
   ]
  },
  {
   "cell_type": "code",
   "execution_count": 16,
   "metadata": {},
   "outputs": [
    {
     "data": {
      "text/plain": [
       "0      XE\n",
       "1    8.49\n",
       "dtype: object"
      ]
     },
     "execution_count": 16,
     "metadata": {},
     "output_type": "execute_result"
    }
   ],
   "source": [
    "# This function is available to check all the columns, x is the column being checked.\n",
    "def cancel_rate (x):\n",
    "    a={}\n",
    "    # loop the unique values in column x\n",
    "    for i in cancelrate[x].unique():\n",
    "        # calculate the cancellation rate under the unique value \n",
    "        rate=round(cancelrate[(cancelrate[x]==i) & (cancelrate['Cancelled']==1)].shape[0]/cancelrate[cancelrate[x]==i].shape[0]*100,2)\n",
    "        # store all result to a dictionary\n",
    "        a[i]=rate\n",
    "    # convert dictionary to dataframe\n",
    "    return pd.DataFrame.from_dict(a.items())\n",
    "\n",
    "# Apply it to UniqueCarrier column\n",
    "cancel_rate('UniqueCarrier').max()\n"
   ]
  },
  {
   "cell_type": "code",
   "execution_count": 17,
   "metadata": {},
   "outputs": [
    {
     "data": {
      "text/plain": [
       "0    AA\n",
       "1     0\n",
       "dtype: object"
      ]
     },
     "execution_count": 17,
     "metadata": {},
     "output_type": "execute_result"
    }
   ],
   "source": [
    "cancel_rate('UniqueCarrier').min()"
   ]
  },
  {
   "cell_type": "markdown",
   "metadata": {},
   "source": [
    "As the above result shown, XE had the highest cancellation rate 8.49%, and AA had the lowest cancellation rate 0.00%. This analysis is for both airports in Houston. The airlines with max and min cancellation rate are different from those with max and min total. The analysis further our knowledge and showed more information to determine reliability per carriers."
   ]
  },
  {
   "cell_type": "code",
   "execution_count": 18,
   "metadata": {
    "scrolled": false
   },
   "outputs": [
    {
     "data": {
      "text/plain": [
       "Text(0, 0.5, 'Total Cancelled Flights')"
      ]
     },
     "execution_count": 18,
     "metadata": {},
     "output_type": "execute_result"
    },
    {
     "data": {
      "image/png": "[encoded data removed]",
      "text/plain": [
       "<Figure size 432x288 with 1 Axes>"
      ]
     },
     "metadata": {
      "needs_background": "light"
     },
     "output_type": "display_data"
    }
   ],
   "source": [
    "IAH1=cancelrate[cancelrate['Origin']=='IAH']\n",
    "viz3=IAH1.groupby('UniqueCarrier')['Cancelled'].sum().plot.bar(title='Cancellation Total per Carrier in IAH', color='blue')\n",
    "viz3.set_ylabel('Total Cancelled Flights')"
   ]
  },
  {
   "cell_type": "markdown",
   "metadata": {},
   "source": [
    "For IAH, CO had the highest number of cancelled flights (50+) whereas AS had the lowest (0)."
   ]
  },
  {
   "cell_type": "code",
   "execution_count": 19,
   "metadata": {},
   "outputs": [
    {
     "data": {
      "text/plain": [
       "Text(0, 0.5, 'Total Cancelled Flights')"
      ]
     },
     "execution_count": 19,
     "metadata": {},
     "output_type": "execute_result"
    },
    {
     "data": {
      "image/png": "[encoded data removed]",
      "text/plain": [
       "<Figure size 432x288 with 1 Axes>"
      ]
     },
     "metadata": {
      "needs_background": "light"
     },
     "output_type": "display_data"
    }
   ],
   "source": [
    "HOU1=cancelrate[cancelrate['Origin']=='HOU'] #Extracts only flights with HOU origin\n",
    "viz4=HOU1.groupby('UniqueCarrier')['Cancelled'].sum().plot.bar(title='Cancellation Total per Carrier in HOU', color='purple')\n",
    "viz4.set_ylabel('Total Cancelled Flights')"
   ]
  },
  {
   "cell_type": "markdown",
   "metadata": {},
   "source": [
    "For HOU, WN had the highest total of cancellations(35+) whereas both EV and F9 had the lowest (0)."
   ]
  },
  {
   "cell_type": "markdown",
   "metadata": {},
   "source": [
    "### 4.2 On-Time Performance"
   ]
  },
  {
   "cell_type": "markdown",
   "metadata": {},
   "source": [
    "#### 4.2.1 Which airport had a better performance of departure?"
   ]
  },
  {
   "cell_type": "markdown",
   "metadata": {},
   "source": [
    "* Based on the non-cancellation dataframe, all rows with departure delay time over 0 will be count as not on-time departure. Therefore, use IAH['DepDelay']>0 to filter out not departed on-time flights for calculation. "
   ]
  },
  {
   "cell_type": "code",
   "execution_count": 20,
   "metadata": {},
   "outputs": [
    {
     "name": "stdout",
     "output_type": "stream",
     "text": [
      "The on-time departure rate of IAH is 53.54%.\n"
     ]
    }
   ],
   "source": [
    "#Calculate the on-time departure rate of IAH\n",
    "\n",
    "IAH=hflights_regular[hflights_regular['Origin']=='IAH']\n",
    "\n",
    "result_IAH=100-round((len(IAH[IAH['DepDelay']>0])/len(IAH))*100.0,2)\n",
    "print ('The on-time departure rate of IAH is '+str(result_IAH)+'%.')"
   ]
  },
  {
   "cell_type": "code",
   "execution_count": 21,
   "metadata": {},
   "outputs": [
    {
     "name": "stdout",
     "output_type": "stream",
     "text": [
      "The on-time departure rate of HOU is 33.8%.\n"
     ]
    }
   ],
   "source": [
    "#Calculate the on-time departure rate of HOU\n",
    "\n",
    "HOU=hflights_regular[hflights_regular['Origin']=='HOU']\n",
    "result_HOU=100-round((len(HOU[HOU['DepDelay']>0])/len(HOU))*100.0,2)\n",
    "print ('The on-time departure rate of HOU is '+str(result_HOU)+'%.')"
   ]
  },
  {
   "cell_type": "markdown",
   "metadata": {},
   "source": [
    "IAH had a better on-time depature performance, which is 53.54%, higher than HOU, which is 33.80%."
   ]
  },
  {
   "cell_type": "markdown",
   "metadata": {},
   "source": [
    "#### 4.2.2 What day of the week has the most and least delays?\n",
    "* On which day per airport had a better performance will be examined below. The average departure delayed flights amount on each day of the week will be helpful in providing passengers and insurance company's what day may have more risk."
   ]
  },
  {
   "cell_type": "code",
   "execution_count": 22,
   "metadata": {},
   "outputs": [
    {
     "name": "stdout",
     "output_type": "stream",
     "text": [
      "DayOfWeek\n",
      "1    9.202722\n",
      "2    6.836009\n",
      "3    2.685876\n",
      "4    7.417425\n",
      "5    6.177739\n",
      "6    4.913024\n",
      "7    9.070508\n",
      "Name: DepDelay, dtype: float64\n"
     ]
    }
   ],
   "source": [
    "IAHmeandelay_perweekday = IAH.groupby('DayOfWeek')['DepDelay'].mean()\n",
    "print(IAHmeandelay_perweekday)"
   ]
  },
  {
   "cell_type": "code",
   "execution_count": 23,
   "metadata": {},
   "outputs": [
    {
     "data": {
      "image/png": "[encoded data removed]",
      "text/plain": [
       "<Figure size 432x288 with 1 Axes>"
      ]
     },
     "metadata": {
      "needs_background": "light"
     },
     "output_type": "display_data"
    }
   ],
   "source": [
    "viz5 = IAH.plot.scatter(title='Average Delayed Flights Amount per Week Day at IAH',x='DayOfWeek',\n",
    "                      y='DepDelay',\n",
    "                      c='DarkBlue')"
   ]
  },
  {
   "cell_type": "markdown",
   "metadata": {},
   "source": [
    "IAH has a higher average of departure delayed flights on Mondays and Sundays. The lowest day is Wednesday. According to Simple Flying (https://simpleflying.com/best-days-to-fly/), Tuesdays and Wednesdays tend to be less busy due to people having to take more days of work. We see that this information slightly varies for this specific airport, being that Tuesday is in the Top 3 busiest days."
   ]
  },
  {
   "cell_type": "code",
   "execution_count": 24,
   "metadata": {},
   "outputs": [
    {
     "name": "stdout",
     "output_type": "stream",
     "text": [
      "DayOfWeek\n",
      "1    16.079561\n",
      "2    15.103565\n",
      "3    10.307167\n",
      "4    12.876481\n",
      "5    12.560201\n",
      "6    10.423459\n",
      "7    15.541985\n",
      "Name: DepDelay, dtype: float64\n"
     ]
    }
   ],
   "source": [
    "HOUmeandelay_perweekday = HOU.groupby('DayOfWeek')['DepDelay'].mean()\n",
    "print(HOUmeandelay_perweekday)"
   ]
  },
  {
   "cell_type": "code",
   "execution_count": 25,
   "metadata": {},
   "outputs": [
    {
     "data": {
      "image/png": "[encoded data removed]",
      "text/plain": [
       "<Figure size 432x288 with 1 Axes>"
      ]
     },
     "metadata": {
      "needs_background": "light"
     },
     "output_type": "display_data"
    }
   ],
   "source": [
    "viz6 = HOU.plot.scatter(title='Average departure delayed flights per week day at HOU',x='DayOfWeek',\n",
    "                      y='DepDelay',\n",
    "                      c='DarkRed')"
   ]
  },
  {
   "cell_type": "markdown",
   "metadata": {},
   "source": [
    "Similarly, for HOU, Monday and Sunday are the busiest, while Wednesday and Saturday are the least busy."
   ]
  },
  {
   "cell_type": "markdown",
   "metadata": {},
   "source": [
    "#### 4.2.3 What is the trend of delay rate along with delay minutes? "
   ]
  },
  {
   "cell_type": "markdown",
   "metadata": {},
   "source": [
    "* In this part, an interesting experiment was done for plotting the delay minutes and departure delay rates relationship. The delay minutes list was created by 5 minutes step. Use a function to loop designated delay minutes and plot the relationship between delay minutes and delay rates. It could be a prediction for how long passengers need to be expected for the delay."
   ]
  },
  {
   "cell_type": "code",
   "execution_count": 26,
   "metadata": {},
   "outputs": [
    {
     "name": "stdout",
     "output_type": "stream",
     "text": [
      "AxesSubplot(0.125,0.125;0.775x0.755)\n"
     ]
    },
    {
     "data": {
      "image/png": "[encoded data removed]",
      "text/plain": [
       "<Figure size 432x288 with 1 Axes>"
      ]
     },
     "metadata": {
      "needs_background": "light"
     },
     "output_type": "display_data"
    }
   ],
   "source": [
    "# create a list from 0-300 minutes, 5 minutes step.\n",
    "delaylevel=range(0,301,5)\n",
    "delayratelist=[]\n",
    "\n",
    "# define a function to calcuate the delay rate under the designated minutes level\n",
    "def delay_(x):\n",
    "    #take the rows delay more than x minutes and calculate the percentage.\n",
    "    delay=hflights_regular[hflights_regular['DepDelay']>=x]\n",
    "    delay_rate=round(len(delay)/len(hflights_regular)*100,2)\n",
    "    return delay_rate\n",
    "\n",
    "# Loop the designated minutes and create a new list with the delay_ function \n",
    "for i in delaylevel:\n",
    "    delayratelist.append(delay_(i))\n",
    "\n",
    "# create a dataframe with pandas using delayratelist \n",
    "delayratelist_df=pd.DataFrame(delayratelist,index=delaylevel, columns=['Delay Rate'])\n",
    "\n",
    "# create a line plot\n",
    "viz7 = delayratelist_df.plot(title ='The Delay Percentage with Delay Minutes', legend=False)\n",
    "# set labels for x and y axis\n",
    "viz7.set(xlabel='Delay Minutes (min)', ylabel='Delay Rate (%)')\n",
    "print(viz7)"
   ]
  },
  {
   "cell_type": "markdown",
   "metadata": {},
   "source": [
    "The chart shows, delay rate is high within 0-50 minutes. This indicates that it is more possible to have a delay of 0-50 minutes. There is a lower possibility of having more than 50 min delay. "
   ]
  },
  {
   "cell_type": "markdown",
   "metadata": {},
   "source": [
    "## 5. Discussion and Conclusion"
   ]
  },
  {
   "cell_type": "markdown",
   "metadata": {},
   "source": [
    "#### Cancellation\n",
    "\n",
    "##### Airport Comparison\n",
    "\n",
    "* The analysis determined that HOU had a higher rate of cancellation. However, after looking back at our preliminary analysis we noticed HOU had a significant smaller number of flights that departed from which there was a higher rate. By pooling the information from IAH, we ask ourselves if IAH had a smaller rate because having more experience it may operate better or looking further the number of flights might affect the result and show that it has a high performance.\n",
    "\n",
    "* Climatic conditions were not taken into consideration as a reason for the cancellations because both airports are very close to each other and would have very similar, if not same, weather conditions. Concluding that the cancellations were due to operational reasons.\n",
    "\n",
    "##### Airline Comparison\n",
    "\n",
    "* It can be quickly determined that XE for both airports has the highest rate of cancellation whereas it had one of the lowest average for IAH. \n",
    "* AA had a 0.0% rate cancellation on both airports whereas the graph determined it had similar cancellation average to other airlines in IAH.\n",
    "* We can determine that those airlines with less than 5 cancellations are fairly reliable.\n",
    "\n",
    "#### Departure Delay\n",
    "\n",
    "##### Airport Comparison\n",
    "\n",
    "* Similar to the cancellation comparison between airports, for the on time performance IAH performed better. We might need more information in order to do a fair comparison due to the large difference between the number of flights.\n",
    "\n",
    "##### Week Day Performance\n",
    "\n",
    "* For both airports Monday and Sunday had the highest average of delay. By doing further research we determined that those are often some of the busiest days. Whereas Wednesday, which had lowest average for both airports, is ranked as one of the quietest days on airport. \n",
    "\n",
    "* One surprusing result was that Tuesdays rated as one of the days with a higher delay average and it's often now to be on the less busy list. Both airports showed a similar behavior.\n",
    "\n",
    "##### Trend of Delay Possibility\n",
    "\n",
    "* Lastly, we determined that there is a smaller possibility of having a delay of over 50 minutes on both airports. This information is important in determining whether the delay is substantial or not and the complete report could inform passengers which days, from which airport, flying with a certain airline, it may be worth it to buy insurance or not.\n",
    "\n"
   ]
  },
  {
   "cell_type": "code",
   "execution_count": null,
   "metadata": {},
   "outputs": [],
   "source": []
  }
 ],
 "metadata": {
  "kernelspec": {
   "display_name": "Python 3",
   "language": "python",
   "name": "python3"
  },
  "language_info": {
   "codemirror_mode": {
    "name": "ipython",
    "version": 3
   },
   "file_extension": ".py",
   "mimetype": "text/x-python",
   "name": "python",
   "nbconvert_exporter": "python",
   "pygments_lexer": "ipython3",
   "version": "3.7.6"
  }
 },
 "nbformat": 4,
 "nbformat_minor": 4
}
