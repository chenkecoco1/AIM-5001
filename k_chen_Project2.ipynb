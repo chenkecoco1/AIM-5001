{
 "cells": [
  {
   "cell_type": "markdown",
   "metadata": {},
   "source": [
    "# AIM 5001 Project 2"
   ]
  },
  {
   "cell_type": "markdown",
   "metadata": {},
   "source": [
    "## I. Introduction"
   ]
  },
  {
   "cell_type": "markdown",
   "metadata": {},
   "source": [
    "In this project, the data of Taiwan Taipei City Real Estate Transaction Records till 2020 will be used for the following research. Four numeric data and two categorical data will be applied to explore which district had the highest average premised (land + building), with or without parking space, real estate unit price in Taipei city during the year 2019 and the average monthly unit price changes in this district. The result could reflect the real estates price situation, and provide buying suggestions for regular residential purpose real estates seekers in Taipei."
   ]
  },
  {
   "cell_type": "markdown",
   "metadata": {},
   "source": [
    "## II. Data Summary"
   ]
  },
  {
   "cell_type": "markdown",
   "metadata": {},
   "source": [
    "The dataset of Taiwan Taipei City Real Estate Transaction Records was acquired from Kaggle (https://www.kaggle.com/chrischien17/taiwan-taipei-city-real-estate-transaction-records), originally from Taiwan Open Data Platform. The original data source is https://plvr.land.moi.gov.tw/DownloadOpenData."
   ]
  },
  {
   "cell_type": "markdown",
   "metadata": {},
   "source": [
    "* The dataset and relative libraries will be imported below. The dataset will be converted to dataframe with name taipei_df."
   ]
  },
  {
   "cell_type": "code",
   "execution_count": 1,
   "metadata": {
    "scrolled": true
   },
   "outputs": [
    {
     "data": {
      "text/html": [
       "<div>\n",
       "<style scoped>\n",
       "    .dataframe tbody tr th:only-of-type {\n",
       "        vertical-align: middle;\n",
       "    }\n",
       "\n",
       "    .dataframe tbody tr th {\n",
       "        vertical-align: top;\n",
       "    }\n",
       "\n",
       "    .dataframe thead th {\n",
       "        text-align: right;\n",
       "    }\n",
       "</style>\n",
       "<table border=\"1\" class=\"dataframe\">\n",
       "  <thead>\n",
       "    <tr style=\"text-align: right;\">\n",
       "      <th></th>\n",
       "      <th>district</th>\n",
       "      <th>transaction_type</th>\n",
       "      <th>land_shift_area</th>\n",
       "      <th>urban_land_use</th>\n",
       "      <th>main_use</th>\n",
       "      <th>main_building_material</th>\n",
       "      <th>complete_year</th>\n",
       "      <th>building_shift_total_area</th>\n",
       "      <th>num_room</th>\n",
       "      <th>num_hall</th>\n",
       "      <th>...</th>\n",
       "      <th>unit_ntd</th>\n",
       "      <th>carpark_category</th>\n",
       "      <th>carpark_shift_area</th>\n",
       "      <th>carpark_ntd</th>\n",
       "      <th>transaction_year</th>\n",
       "      <th>transaction_month</th>\n",
       "      <th>building_age</th>\n",
       "      <th>number_of_land</th>\n",
       "      <th>number_of_building</th>\n",
       "      <th>number_of_carpark</th>\n",
       "    </tr>\n",
       "  </thead>\n",
       "  <tbody>\n",
       "    <tr>\n",
       "      <th>0</th>\n",
       "      <td>Zhongzheng District</td>\n",
       "      <td>Land</td>\n",
       "      <td>4.00</td>\n",
       "      <td>Quotient</td>\n",
       "      <td>See other registration items</td>\n",
       "      <td>Not Applicable</td>\n",
       "      <td>0.0000</td>\n",
       "      <td>0.00</td>\n",
       "      <td>0</td>\n",
       "      <td>0</td>\n",
       "      <td>...</td>\n",
       "      <td>400000.000000</td>\n",
       "      <td>Not Applicable</td>\n",
       "      <td>0.0</td>\n",
       "      <td>0</td>\n",
       "      <td>2019</td>\n",
       "      <td>10</td>\n",
       "      <td>2019.0000</td>\n",
       "      <td>1</td>\n",
       "      <td>0</td>\n",
       "      <td>0</td>\n",
       "    </tr>\n",
       "    <tr>\n",
       "      <th>1</th>\n",
       "      <td>Wenshan District</td>\n",
       "      <td>Premises (land + building)</td>\n",
       "      <td>40.75</td>\n",
       "      <td>Address</td>\n",
       "      <td>See other registration items</td>\n",
       "      <td>Reinforced concrete construction</td>\n",
       "      <td>62.0625</td>\n",
       "      <td>109.36</td>\n",
       "      <td>4</td>\n",
       "      <td>0</td>\n",
       "      <td>...</td>\n",
       "      <td>108357.717630</td>\n",
       "      <td>Not Applicable</td>\n",
       "      <td>0.0</td>\n",
       "      <td>0</td>\n",
       "      <td>2019</td>\n",
       "      <td>10</td>\n",
       "      <td>1956.9375</td>\n",
       "      <td>1</td>\n",
       "      <td>1</td>\n",
       "      <td>0</td>\n",
       "    </tr>\n",
       "    <tr>\n",
       "      <th>2</th>\n",
       "      <td>Wenshan District</td>\n",
       "      <td>Premises (land + building)</td>\n",
       "      <td>33.81</td>\n",
       "      <td>Address</td>\n",
       "      <td>Resident</td>\n",
       "      <td>Reinforced concrete construction</td>\n",
       "      <td>69.0000</td>\n",
       "      <td>109.42</td>\n",
       "      <td>3</td>\n",
       "      <td>2</td>\n",
       "      <td>...</td>\n",
       "      <td>91390.970572</td>\n",
       "      <td>Not Applicable</td>\n",
       "      <td>0.0</td>\n",
       "      <td>0</td>\n",
       "      <td>2019</td>\n",
       "      <td>10</td>\n",
       "      <td>1950.0000</td>\n",
       "      <td>2</td>\n",
       "      <td>1</td>\n",
       "      <td>0</td>\n",
       "    </tr>\n",
       "    <tr>\n",
       "      <th>3</th>\n",
       "      <td>Wenshan District</td>\n",
       "      <td>Premises (land + building) + parking space</td>\n",
       "      <td>32.19</td>\n",
       "      <td>Address</td>\n",
       "      <td>Resident</td>\n",
       "      <td>Reinforced concrete construction</td>\n",
       "      <td>84.0000</td>\n",
       "      <td>163.53</td>\n",
       "      <td>3</td>\n",
       "      <td>2</td>\n",
       "      <td>...</td>\n",
       "      <td>128416.804256</td>\n",
       "      <td>Ramp plane</td>\n",
       "      <td>0.0</td>\n",
       "      <td>0</td>\n",
       "      <td>2019</td>\n",
       "      <td>4</td>\n",
       "      <td>1935.0000</td>\n",
       "      <td>1</td>\n",
       "      <td>1</td>\n",
       "      <td>1</td>\n",
       "    </tr>\n",
       "    <tr>\n",
       "      <th>4</th>\n",
       "      <td>Wenshan District</td>\n",
       "      <td>Premises (land + building)</td>\n",
       "      <td>60.25</td>\n",
       "      <td>Address</td>\n",
       "      <td>See other registration items</td>\n",
       "      <td>Reinforced concrete construction</td>\n",
       "      <td>108.0000</td>\n",
       "      <td>204.79</td>\n",
       "      <td>3</td>\n",
       "      <td>2</td>\n",
       "      <td>...</td>\n",
       "      <td>328157.624884</td>\n",
       "      <td>Not Applicable</td>\n",
       "      <td>0.0</td>\n",
       "      <td>0</td>\n",
       "      <td>2019</td>\n",
       "      <td>10</td>\n",
       "      <td>1911.0000</td>\n",
       "      <td>1</td>\n",
       "      <td>1</td>\n",
       "      <td>0</td>\n",
       "    </tr>\n",
       "  </tbody>\n",
       "</table>\n",
       "<p>5 rows × 24 columns</p>\n",
       "</div>"
      ],
      "text/plain": [
       "              district                            transaction_type  \\\n",
       "0  Zhongzheng District                                        Land   \n",
       "1     Wenshan District                  Premises (land + building)   \n",
       "2     Wenshan District                  Premises (land + building)   \n",
       "3     Wenshan District  Premises (land + building) + parking space   \n",
       "4     Wenshan District                  Premises (land + building)   \n",
       "\n",
       "   land_shift_area urban_land_use                      main_use  \\\n",
       "0             4.00       Quotient  See other registration items   \n",
       "1            40.75        Address  See other registration items   \n",
       "2            33.81        Address                      Resident   \n",
       "3            32.19        Address                      Resident   \n",
       "4            60.25        Address  See other registration items   \n",
       "\n",
       "             main_building_material  complete_year  building_shift_total_area  \\\n",
       "0                    Not Applicable         0.0000                       0.00   \n",
       "1  Reinforced concrete construction        62.0625                     109.36   \n",
       "2  Reinforced concrete construction        69.0000                     109.42   \n",
       "3  Reinforced concrete construction        84.0000                     163.53   \n",
       "4  Reinforced concrete construction       108.0000                     204.79   \n",
       "\n",
       "   num_room  num_hall  ...       unit_ntd carpark_category carpark_shift_area  \\\n",
       "0         0         0  ...  400000.000000   Not Applicable                0.0   \n",
       "1         4         0  ...  108357.717630   Not Applicable                0.0   \n",
       "2         3         2  ...   91390.970572   Not Applicable                0.0   \n",
       "3         3         2  ...  128416.804256       Ramp plane                0.0   \n",
       "4         3         2  ...  328157.624884   Not Applicable                0.0   \n",
       "\n",
       "   carpark_ntd  transaction_year transaction_month  building_age  \\\n",
       "0            0              2019                10     2019.0000   \n",
       "1            0              2019                10     1956.9375   \n",
       "2            0              2019                10     1950.0000   \n",
       "3            0              2019                 4     1935.0000   \n",
       "4            0              2019                10     1911.0000   \n",
       "\n",
       "   number_of_land  number_of_building  number_of_carpark  \n",
       "0               1                   0                  0  \n",
       "1               1                   1                  0  \n",
       "2               2                   1                  0  \n",
       "3               1                   1                  1  \n",
       "4               1                   1                  0  \n",
       "\n",
       "[5 rows x 24 columns]"
      ]
     },
     "execution_count": 1,
     "metadata": {},
     "output_type": "execute_result"
    }
   ],
   "source": [
    "#import relative libraries\n",
    "import pandas as pd\n",
    "import numpy as np\n",
    "import matplotlib.pyplot as plt\n",
    "import seaborn as sns\n",
    "\n",
    "#load the csv file\n",
    "taipei = \"https://raw.githubusercontent.com/chenkecoco1/AIM-5001/38ecc347bb0f5a64c4b69144495501900227da96/taipei_city_real_estate_transaction_v2.csv\"\n",
    "taipei_df = pd.read_csv(taipei)\n",
    "\n",
    "#test if file loaded successfully\n",
    "taipei_df.head()\n"
   ]
  },
  {
   "cell_type": "markdown",
   "metadata": {},
   "source": [
    "* Use .dtypes to examine the statistical summary of each attributes of the dataset."
   ]
  },
  {
   "cell_type": "code",
   "execution_count": 2,
   "metadata": {},
   "outputs": [
    {
     "data": {
      "text/plain": [
       "district                      object\n",
       "transaction_type              object\n",
       "land_shift_area              float64\n",
       "urban_land_use                object\n",
       "main_use                      object\n",
       "main_building_material        object\n",
       "complete_year                float64\n",
       "building_shift_total_area    float64\n",
       "num_room                       int64\n",
       "num_hall                       int64\n",
       "num_toilet                     int64\n",
       "num_partition                 object\n",
       "management_org                object\n",
       "total_ntd                    float64\n",
       "unit_ntd                     float64\n",
       "carpark_category              object\n",
       "carpark_shift_area           float64\n",
       "carpark_ntd                    int64\n",
       "transaction_year               int64\n",
       "transaction_month              int64\n",
       "building_age                 float64\n",
       "number_of_land                 int64\n",
       "number_of_building             int64\n",
       "number_of_carpark              int64\n",
       "dtype: object"
      ]
     },
     "execution_count": 2,
     "metadata": {},
     "output_type": "execute_result"
    }
   ],
   "source": [
    "# apply dtypes on the dataframe\n",
    "taipei_df.dtypes"
   ]
  },
  {
   "cell_type": "markdown",
   "metadata": {},
   "source": [
    "* Use .shape to investigate the number of rows and columns of the dataset."
   ]
  },
  {
   "cell_type": "code",
   "execution_count": 3,
   "metadata": {},
   "outputs": [
    {
     "data": {
      "text/plain": [
       "(5910, 24)"
      ]
     },
     "execution_count": 3,
     "metadata": {},
     "output_type": "execute_result"
    }
   ],
   "source": [
    "# apply .shape on the dataframe\n",
    "taipei_df.shape"
   ]
  },
  {
   "cell_type": "markdown",
   "metadata": {},
   "source": [
    "* Missing values need to be checked to determine if any actions need to be taken before analysis."
   ]
  },
  {
   "cell_type": "code",
   "execution_count": 4,
   "metadata": {},
   "outputs": [
    {
     "data": {
      "text/plain": [
       "district                     0\n",
       "transaction_type             0\n",
       "land_shift_area              0\n",
       "urban_land_use               0\n",
       "main_use                     0\n",
       "main_building_material       0\n",
       "complete_year                0\n",
       "building_shift_total_area    0\n",
       "num_room                     0\n",
       "num_hall                     0\n",
       "num_toilet                   0\n",
       "num_partition                0\n",
       "management_org               0\n",
       "total_ntd                    0\n",
       "unit_ntd                     0\n",
       "carpark_category             0\n",
       "carpark_shift_area           0\n",
       "carpark_ntd                  0\n",
       "transaction_year             0\n",
       "transaction_month            0\n",
       "building_age                 0\n",
       "number_of_land               0\n",
       "number_of_building           0\n",
       "number_of_carpark            0\n",
       "dtype: int64"
      ]
     },
     "execution_count": 4,
     "metadata": {},
     "output_type": "execute_result"
    }
   ],
   "source": [
    "# apply .isnull.sum() on the dataframe to check the missing values\n",
    "taipei_df.isnull().sum()"
   ]
  },
  {
   "cell_type": "markdown",
   "metadata": {},
   "source": [
    "According to the results above, the dataset has 5910 observations and 24 attributes. The attributes data types can be classified as 3 types.\n",
    "* The attributes with the following column names are nominal categorical data as the data type is object: district, transaction_type, urban_land_use, main_use, main_building_material, num_partition, management_org, carpark_category.\n",
    "* The attributes with the following column names are numeric data as the data type is float: land_shift_area, building_shift_total_area, total_ntd, unit_ntd, carpark_shift_area, complete_year, building_age.\n",
    "* The attributes with the following column names are ordinal categorical data as the data type is integer: num_room, num_hall, num_toilet, carpark_ntd, transaction_year, transaction_month, number_of_land, number_of_building, number_of_carpark\n",
    "\n",
    "There were no missing values found."
   ]
  },
  {
   "cell_type": "markdown",
   "metadata": {},
   "source": [
    "# III. Exploratory Data Analysis (EDA)"
   ]
  },
  {
   "cell_type": "markdown",
   "metadata": {},
   "source": [
    "Based on the question:\n",
    "* *Which district had the highest average premised (land + building), with or without parking space, real estate unit price in Taipei city during the year 2019 and what was the average monthly unit price changes in this district?*\n",
    "\n",
    "The selected columns include district, transaction_year, transaction_month, transaction_type, building_shift_total_area and unit_ntd. The targeting area, time, and price information are all covered in these columns. Ntd is the short form of New Taiwan Dollar, the last column unit_ntd indicates the unit price of the shift area of the current real estate transaction observed. "
   ]
  },
  {
   "cell_type": "markdown",
   "metadata": {},
   "source": [
    "* Use double brackets to select columns and form a new dataframe new_taipei_df."
   ]
  },
  {
   "cell_type": "code",
   "execution_count": 5,
   "metadata": {},
   "outputs": [
    {
     "data": {
      "text/html": [
       "<div>\n",
       "<style scoped>\n",
       "    .dataframe tbody tr th:only-of-type {\n",
       "        vertical-align: middle;\n",
       "    }\n",
       "\n",
       "    .dataframe tbody tr th {\n",
       "        vertical-align: top;\n",
       "    }\n",
       "\n",
       "    .dataframe thead th {\n",
       "        text-align: right;\n",
       "    }\n",
       "</style>\n",
       "<table border=\"1\" class=\"dataframe\">\n",
       "  <thead>\n",
       "    <tr style=\"text-align: right;\">\n",
       "      <th></th>\n",
       "      <th>district</th>\n",
       "      <th>transaction_year</th>\n",
       "      <th>transaction_month</th>\n",
       "      <th>transaction_type</th>\n",
       "      <th>building_shift_total_area</th>\n",
       "      <th>unit_ntd</th>\n",
       "    </tr>\n",
       "  </thead>\n",
       "  <tbody>\n",
       "    <tr>\n",
       "      <th>0</th>\n",
       "      <td>Zhongzheng District</td>\n",
       "      <td>2019</td>\n",
       "      <td>10</td>\n",
       "      <td>Land</td>\n",
       "      <td>0.00</td>\n",
       "      <td>400000.000000</td>\n",
       "    </tr>\n",
       "    <tr>\n",
       "      <th>1</th>\n",
       "      <td>Wenshan District</td>\n",
       "      <td>2019</td>\n",
       "      <td>10</td>\n",
       "      <td>Premises (land + building)</td>\n",
       "      <td>109.36</td>\n",
       "      <td>108357.717630</td>\n",
       "    </tr>\n",
       "    <tr>\n",
       "      <th>2</th>\n",
       "      <td>Wenshan District</td>\n",
       "      <td>2019</td>\n",
       "      <td>10</td>\n",
       "      <td>Premises (land + building)</td>\n",
       "      <td>109.42</td>\n",
       "      <td>91390.970572</td>\n",
       "    </tr>\n",
       "    <tr>\n",
       "      <th>3</th>\n",
       "      <td>Wenshan District</td>\n",
       "      <td>2019</td>\n",
       "      <td>4</td>\n",
       "      <td>Premises (land + building) + parking space</td>\n",
       "      <td>163.53</td>\n",
       "      <td>128416.804256</td>\n",
       "    </tr>\n",
       "    <tr>\n",
       "      <th>4</th>\n",
       "      <td>Wenshan District</td>\n",
       "      <td>2019</td>\n",
       "      <td>10</td>\n",
       "      <td>Premises (land + building)</td>\n",
       "      <td>204.79</td>\n",
       "      <td>328157.624884</td>\n",
       "    </tr>\n",
       "  </tbody>\n",
       "</table>\n",
       "</div>"
      ],
      "text/plain": [
       "              district  transaction_year  transaction_month  \\\n",
       "0  Zhongzheng District              2019                 10   \n",
       "1     Wenshan District              2019                 10   \n",
       "2     Wenshan District              2019                 10   \n",
       "3     Wenshan District              2019                  4   \n",
       "4     Wenshan District              2019                 10   \n",
       "\n",
       "                             transaction_type  building_shift_total_area  \\\n",
       "0                                        Land                       0.00   \n",
       "1                  Premises (land + building)                     109.36   \n",
       "2                  Premises (land + building)                     109.42   \n",
       "3  Premises (land + building) + parking space                     163.53   \n",
       "4                  Premises (land + building)                     204.79   \n",
       "\n",
       "        unit_ntd  \n",
       "0  400000.000000  \n",
       "1  108357.717630  \n",
       "2   91390.970572  \n",
       "3  128416.804256  \n",
       "4  328157.624884  "
      ]
     },
     "execution_count": 5,
     "metadata": {},
     "output_type": "execute_result"
    }
   ],
   "source": [
    "# select the related columns\n",
    "new_taipei_df=taipei_df[['district', 'transaction_year', 'transaction_month', 'transaction_type',\n",
    "                         'building_shift_total_area', 'unit_ntd']]\n",
    "\n",
    "# test if new dataframe constructed successfully\n",
    "new_taipei_df.head()"
   ]
  },
  {
   "cell_type": "markdown",
   "metadata": {},
   "source": [
    "### 1. Categorical Data EDA"
   ]
  },
  {
   "cell_type": "markdown",
   "metadata": {},
   "source": [
    "The first four selected columns, which are district, transaction_year, transaction_month and transaction_type are categorical data. Therefore, bar plots will be executed to explore the transaction record frequencies of each category. Each plot will be generated in two methods, using Seaborn and Matplotlib."
   ]
  },
  {
   "cell_type": "markdown",
   "metadata": {},
   "source": [
    "#### 1.1 Seaborn Plotting"
   ]
  },
  {
   "cell_type": "markdown",
   "metadata": {},
   "source": [
    "* Use Seaborn to create 4 plots of the district, transaction year, transaction month, and transaction type columns. Due to long category names, district and transaction type columns will be plotted horizontally."
   ]
  },
  {
   "cell_type": "code",
   "execution_count": 6,
   "metadata": {},
   "outputs": [
    {
     "data": {
      "image/png": "[encoded data removed]",
      "text/plain": [
       "<Figure size 432x288 with 1 Axes>"
      ]
     },
     "metadata": {
      "needs_background": "light"
     },
     "output_type": "display_data"
    }
   ],
   "source": [
    "# Use Seaborn to plot the transaction record frequencies of each district. Set the title and label.\n",
    "fig1=sns.countplot(y='district',data=new_taipei_df).set_title('Count by Districts')\n",
    "plt.ylabel('District')\n",
    "plt.show()"
   ]
  },
  {
   "cell_type": "code",
   "execution_count": 7,
   "metadata": {},
   "outputs": [
    {
     "data": {
      "image/png": "[encoded data removed]",
      "text/plain": [
       "<Figure size 432x288 with 1 Axes>"
      ]
     },
     "metadata": {
      "needs_background": "light"
     },
     "output_type": "display_data"
    }
   ],
   "source": [
    "# Use Seaborn to plot the transaction record frequencies of each recorded year. Set the title and label.\n",
    "sns.countplot(x='transaction_year',data=new_taipei_df).set_title('Count by Year')\n",
    "plt.xlabel('Transaction Year')\n",
    "plt.show()"
   ]
  },
  {
   "cell_type": "code",
   "execution_count": 8,
   "metadata": {},
   "outputs": [
    {
     "data": {
      "image/png": "[encoded data removed]",
      "text/plain": [
       "<Figure size 432x288 with 1 Axes>"
      ]
     },
     "metadata": {
      "needs_background": "light"
     },
     "output_type": "display_data"
    }
   ],
   "source": [
    "# Use Seaborn to plot the transaction record frequencies of each month. Set the title and label.\n",
    "sns.countplot(x='transaction_month',data=new_taipei_df).set_title('Count by Month')\n",
    "plt.xlabel('Transaction Month')\n",
    "plt.show()"
   ]
  },
  {
   "cell_type": "code",
   "execution_count": 9,
   "metadata": {},
   "outputs": [
    {
     "data": {
      "image/png": "[encoded data removed]",
      "text/plain": [
       "<Figure size 432x288 with 1 Axes>"
      ]
     },
     "metadata": {
      "needs_background": "light"
     },
     "output_type": "display_data"
    }
   ],
   "source": [
    "# Use Seaborn to plot the transaction record frequencies of each month.Set the title and label.\n",
    "sns.countplot(y='transaction_type',data=new_taipei_df).set_title('Count by Transaction Type')\n",
    "plt.ylabel('Transaction Type')\n",
    "plt.show()"
   ]
  },
  {
   "cell_type": "markdown",
   "metadata": {},
   "source": [
    "#### 1.2 Matplotlib Plotting"
   ]
  },
  {
   "cell_type": "markdown",
   "metadata": {},
   "source": [
    "* Matplotlib will be used for showing the transaction record counted frequencies of each category. It presents the same information as 1.1. The district and transaction_type will be plotted horizontally."
   ]
  },
  {
   "cell_type": "code",
   "execution_count": 10,
   "metadata": {},
   "outputs": [
    {
     "data": {
      "image/png": "[encoded data removed]",
      "text/plain": [
       "<Figure size 432x288 with 1 Axes>"
      ]
     },
     "metadata": {
      "needs_background": "light"
     },
     "output_type": "display_data"
    }
   ],
   "source": [
    "# Use pandas to convert the counted value of district to a dataframe.\n",
    "dis=pd.DataFrame(new_taipei_df['district'].value_counts(sort=False))\n",
    "\n",
    "# Use Matplotlib to plot the new dataframe. Set the title and labels.\n",
    "dis.plot.barh(color='gray',legend=False)\n",
    "plt.title('Count by District')\n",
    "plt.xlabel('Count')\n",
    "plt.ylabel('District')\n",
    "plt.show()"
   ]
  },
  {
   "cell_type": "code",
   "execution_count": 11,
   "metadata": {},
   "outputs": [
    {
     "data": {
      "image/png": "[encoded data removed]",
      "text/plain": [
       "<Figure size 432x288 with 1 Axes>"
      ]
     },
     "metadata": {
      "needs_background": "light"
     },
     "output_type": "display_data"
    }
   ],
   "source": [
    "# Use pandas to convert the counted value of transaction year to a dataframe.\n",
    "year=pd.DataFrame(new_taipei_df['transaction_year'].value_counts(ascending=False))\n",
    "\n",
    "# Use Matplotlib to plot the new dataframe. Set the title and labels.\n",
    "year.plot.bar(color='purple',legend=False)\n",
    "plt.title('Count by Year')\n",
    "plt.xlabel('Transaction Year')\n",
    "plt.ylabel('Count')\n",
    "plt.show()"
   ]
  },
  {
   "cell_type": "code",
   "execution_count": 12,
   "metadata": {},
   "outputs": [
    {
     "data": {
      "image/png": "[encoded data removed]",
      "text/plain": [
       "<Figure size 432x288 with 1 Axes>"
      ]
     },
     "metadata": {
      "needs_background": "light"
     },
     "output_type": "display_data"
    }
   ],
   "source": [
    "# Use pandas to convert the counted value of transaction month to a dataframe.\n",
    "mon=pd.DataFrame(new_taipei_df['transaction_month'].value_counts(ascending=False))\n",
    "\n",
    "# Use Matplotlib to plot the new dataframe. Set the title and labels.\n",
    "mon.plot.bar(legend=False)\n",
    "plt.title('Count by Month')\n",
    "plt.xlabel('Transaction Month')\n",
    "plt.ylabel('Count')\n",
    "plt.show()"
   ]
  },
  {
   "cell_type": "code",
   "execution_count": 13,
   "metadata": {},
   "outputs": [
    {
     "data": {
      "image/png": "[encoded data removed]",
      "text/plain": [
       "<Figure size 432x288 with 1 Axes>"
      ]
     },
     "metadata": {
      "needs_background": "light"
     },
     "output_type": "display_data"
    }
   ],
   "source": [
    "# Use pandas to convert the counted value of district to a dataframe.\n",
    "typ=pd.DataFrame(new_taipei_df['transaction_type'].value_counts())\n",
    "\n",
    "# Use Matplotlib to plot the new dataframe. Set the title and labels.\n",
    "typ.plot.barh(color='brown',legend=False)\n",
    "plt.title('Count by Transaction Type')\n",
    "plt.xlabel('Count')\n",
    "plt.ylabel('Transaction Type')\n",
    "plt.show()"
   ]
  },
  {
   "cell_type": "markdown",
   "metadata": {},
   "source": [
    "According to the district plot, 12 districts were observed in the dataset. Zhongshan area had the most transaction frequencies till 2020, following by Neihu district, which were also over 700 transactions. While Nangang had the least transactions, which was lower than 300. The dataset contains real estate transaction information of 10 different years, including the consecutive years from 2012 to 2020, and 1986 separately. The year 2019 has the most real estate transaction records. November, December, and October were the top 3 months with more than 1250 real estate transactions each. May had the least transaction records. As to the real estates’ type, premised (land + building) is the most common type among all the transactions, while buildings were the least popular."
   ]
  },
  {
   "cell_type": "markdown",
   "metadata": {},
   "source": [
    "### 2. Numeric Data EDA"
   ]
  },
  {
   "cell_type": "markdown",
   "metadata": {},
   "source": [
    "The last two selected columns, building_shift_total_area and unit_ntd, are numeric data. General distribution will be examined below. As the different real estates’ types may reflect the unit prices, the unit prices may vary a lot. To check if there are outliers, box plots will be applied in the following EDA. Each plot will be generated in two methods, Seaborn and Matplotlib."
   ]
  },
  {
   "cell_type": "markdown",
   "metadata": {},
   "source": [
    "#### 2.1 Seaborn Plotting"
   ]
  },
  {
   "cell_type": "markdown",
   "metadata": {},
   "source": [
    "* Use Seaborn to create 2 box plots of the building shift total area and unit price."
   ]
  },
  {
   "cell_type": "code",
   "execution_count": 14,
   "metadata": {
    "scrolled": true
   },
   "outputs": [
    {
     "data": {
      "image/png": "[encoded data removed]",
      "text/plain": [
       "<Figure size 2160x360 with 1 Axes>"
      ]
     },
     "metadata": {
      "needs_background": "light"
     },
     "output_type": "display_data"
    }
   ],
   "source": [
    "# After testing plot, adjust the figure size to fit the plot\n",
    "plt.figure(figsize=(30, 5))\n",
    "\n",
    "# Use Seaborn to create box plot for building shift total area, add title and labels.\n",
    "sns.boxplot(x='building_shift_total_area',data=new_taipei_df)\n",
    "plt.xlabel('Building Shift Total Area')\n",
    "plt.title('Distribution of Building Shift Total Area')\n",
    "plt.show()"
   ]
  },
  {
   "cell_type": "code",
   "execution_count": 15,
   "metadata": {},
   "outputs": [
    {
     "data": {
      "image/png": "[encoded data removed]",
      "text/plain": [
       "<Figure size 2160x360 with 1 Axes>"
      ]
     },
     "metadata": {
      "needs_background": "light"
     },
     "output_type": "display_data"
    }
   ],
   "source": [
    "# After testing plot, adjust the figure size to fit the plot\n",
    "plt.figure(figsize=(30, 5))\n",
    "\n",
    "# Use Seaborn to create box plot for building shift total area, add title and labels.\n",
    "sns.boxplot(x='unit_ntd',data=new_taipei_df)\n",
    "plt.xlabel('Unit Price')\n",
    "plt.title('Distribution of Unit Price')\n",
    "plt.show()"
   ]
  },
  {
   "cell_type": "markdown",
   "metadata": {},
   "source": [
    "#### 2.2 Matplotlib Plotting"
   ]
  },
  {
   "cell_type": "markdown",
   "metadata": {},
   "source": [
    "* Use Matplotlib to create 2 box plots of the same building shift total area and unit price columns. It presents the same information as 2.1."
   ]
  },
  {
   "cell_type": "code",
   "execution_count": 16,
   "metadata": {},
   "outputs": [
    {
     "data": {
      "image/png": "[encoded data removed]",
      "text/plain": [
       "<Figure size 2160x360 with 1 Axes>"
      ]
     },
     "metadata": {
      "needs_background": "light"
     },
     "output_type": "display_data"
    }
   ],
   "source": [
    "# Set a figure size for showing plot clearer\n",
    "plt.figure(figsize=(30,5))\n",
    "\n",
    "# Use pandas to extract the building_shift_total_area column values and plot the distribution\n",
    "plt.boxplot(new_taipei_df['building_shift_total_area'],vert=False)\n",
    "plt.xlabel('Building Shift Total Area')\n",
    "plt.title('Distribution of Building Shift Total Area')\n",
    "plt.show()"
   ]
  },
  {
   "cell_type": "code",
   "execution_count": 17,
   "metadata": {},
   "outputs": [
    {
     "data": {
      "image/png": "[encoded data removed]",
      "text/plain": [
       "<Figure size 2160x360 with 1 Axes>"
      ]
     },
     "metadata": {
      "needs_background": "light"
     },
     "output_type": "display_data"
    }
   ],
   "source": [
    "# Set a figure size for showing plot clearer\n",
    "plt.figure(figsize=(30,5))\n",
    "\n",
    "# Use pandas to extract the unit_ntd column values and plot the distribution\n",
    "plt.boxplot(new_taipei_df['unit_ntd'],vert=False)\n",
    "plt.xlabel('Unit Price')\n",
    "plt.title('Distribution of Unit Price')\n",
    "plt.show()"
   ]
  },
  {
   "cell_type": "markdown",
   "metadata": {},
   "source": [
    "As shown in the 2 pairs of plots, generally, the building shift total area were below 500 square meters. The unit prices were mostly less than 2,000,000 NTD. Due to the extraordinary outliers on the plots, it is not easy to read the medium values of the attributes. The general information could be estimated only. To check what the outliers are, further testing will be tried as below."
   ]
  },
  {
   "cell_type": "markdown",
   "metadata": {},
   "source": [
    "* Apply max() function to reach the extreme outlier and investigate the observation."
   ]
  },
  {
   "cell_type": "code",
   "execution_count": 18,
   "metadata": {},
   "outputs": [
    {
     "data": {
      "text/html": [
       "<div>\n",
       "<style scoped>\n",
       "    .dataframe tbody tr th:only-of-type {\n",
       "        vertical-align: middle;\n",
       "    }\n",
       "\n",
       "    .dataframe tbody tr th {\n",
       "        vertical-align: top;\n",
       "    }\n",
       "\n",
       "    .dataframe thead th {\n",
       "        text-align: right;\n",
       "    }\n",
       "</style>\n",
       "<table border=\"1\" class=\"dataframe\">\n",
       "  <thead>\n",
       "    <tr style=\"text-align: right;\">\n",
       "      <th></th>\n",
       "      <th>district</th>\n",
       "      <th>transaction_year</th>\n",
       "      <th>transaction_month</th>\n",
       "      <th>transaction_type</th>\n",
       "      <th>building_shift_total_area</th>\n",
       "      <th>unit_ntd</th>\n",
       "    </tr>\n",
       "  </thead>\n",
       "  <tbody>\n",
       "    <tr>\n",
       "      <th>2305</th>\n",
       "      <td>Zhongshan Area</td>\n",
       "      <td>2019</td>\n",
       "      <td>10</td>\n",
       "      <td>Garage</td>\n",
       "      <td>0.09</td>\n",
       "      <td>2.555556e+07</td>\n",
       "    </tr>\n",
       "  </tbody>\n",
       "</table>\n",
       "</div>"
      ],
      "text/plain": [
       "            district  transaction_year  transaction_month transaction_type  \\\n",
       "2305  Zhongshan Area              2019                 10           Garage   \n",
       "\n",
       "      building_shift_total_area      unit_ntd  \n",
       "2305                       0.09  2.555556e+07  "
      ]
     },
     "execution_count": 18,
     "metadata": {},
     "output_type": "execute_result"
    }
   ],
   "source": [
    "#check the maximum value of unit_ntd column\n",
    "outlier_a=max(new_taipei_df['unit_ntd'])\n",
    "\n",
    "# reach the specific row\n",
    "new_taipei_df[new_taipei_df['unit_ntd']==outlier_a]"
   ]
  },
  {
   "cell_type": "code",
   "execution_count": 19,
   "metadata": {},
   "outputs": [
    {
     "data": {
      "text/html": [
       "<div>\n",
       "<style scoped>\n",
       "    .dataframe tbody tr th:only-of-type {\n",
       "        vertical-align: middle;\n",
       "    }\n",
       "\n",
       "    .dataframe tbody tr th {\n",
       "        vertical-align: top;\n",
       "    }\n",
       "\n",
       "    .dataframe thead th {\n",
       "        text-align: right;\n",
       "    }\n",
       "</style>\n",
       "<table border=\"1\" class=\"dataframe\">\n",
       "  <thead>\n",
       "    <tr style=\"text-align: right;\">\n",
       "      <th></th>\n",
       "      <th>district</th>\n",
       "      <th>transaction_year</th>\n",
       "      <th>transaction_month</th>\n",
       "      <th>transaction_type</th>\n",
       "      <th>building_shift_total_area</th>\n",
       "      <th>unit_ntd</th>\n",
       "    </tr>\n",
       "  </thead>\n",
       "  <tbody>\n",
       "    <tr>\n",
       "      <th>2935</th>\n",
       "      <td>Neihu District</td>\n",
       "      <td>2019</td>\n",
       "      <td>11</td>\n",
       "      <td>Premises (land + building) + parking space</td>\n",
       "      <td>6191.16</td>\n",
       "      <td>103373.196622</td>\n",
       "    </tr>\n",
       "  </tbody>\n",
       "</table>\n",
       "</div>"
      ],
      "text/plain": [
       "            district  transaction_year  transaction_month  \\\n",
       "2935  Neihu District              2019                 11   \n",
       "\n",
       "                                transaction_type  building_shift_total_area  \\\n",
       "2935  Premises (land + building) + parking space                    6191.16   \n",
       "\n",
       "           unit_ntd  \n",
       "2935  103373.196622  "
      ]
     },
     "execution_count": 19,
     "metadata": {},
     "output_type": "execute_result"
    }
   ],
   "source": [
    "#check the maximum value of building_shift_total_area column\n",
    "outlier_b=max(new_taipei_df['building_shift_total_area'])\n",
    "\n",
    "# reach the specific row\n",
    "new_taipei_df[new_taipei_df['building_shift_total_area']==outlier_b]"
   ]
  },
  {
   "cell_type": "markdown",
   "metadata": {},
   "source": [
    "The outliers had extreme large or tiny building shift total area value. It might be caused by recording mistake or special cases. For universality, the extreme values will be dropped in the following inference."
   ]
  },
  {
   "cell_type": "markdown",
   "metadata": {},
   "source": [
    "## IV. Inference"
   ]
  },
  {
   "cell_type": "markdown",
   "metadata": {},
   "source": [
    "To get a better research dataframe, the new_taipei_df needs to be filtered more to reach the final question answer. \n",
    "* The question required the year of 2019, transaction type with Premises (land + building) or Premises (land + building) + parking space. For extracting the outliers, two artificial boundaries are set based on the box plots in III.2.1 to ensure the records to be concentrated."
   ]
  },
  {
   "cell_type": "code",
   "execution_count": 20,
   "metadata": {},
   "outputs": [
    {
     "data": {
      "text/html": [
       "<div>\n",
       "<style scoped>\n",
       "    .dataframe tbody tr th:only-of-type {\n",
       "        vertical-align: middle;\n",
       "    }\n",
       "\n",
       "    .dataframe tbody tr th {\n",
       "        vertical-align: top;\n",
       "    }\n",
       "\n",
       "    .dataframe thead th {\n",
       "        text-align: right;\n",
       "    }\n",
       "</style>\n",
       "<table border=\"1\" class=\"dataframe\">\n",
       "  <thead>\n",
       "    <tr style=\"text-align: right;\">\n",
       "      <th></th>\n",
       "      <th>index</th>\n",
       "      <th>district</th>\n",
       "      <th>transaction_year</th>\n",
       "      <th>transaction_month</th>\n",
       "      <th>transaction_type</th>\n",
       "      <th>building_shift_total_area</th>\n",
       "      <th>unit_ntd</th>\n",
       "    </tr>\n",
       "  </thead>\n",
       "  <tbody>\n",
       "    <tr>\n",
       "      <th>0</th>\n",
       "      <td>1</td>\n",
       "      <td>Wenshan District</td>\n",
       "      <td>2019</td>\n",
       "      <td>10</td>\n",
       "      <td>Premises (land + building)</td>\n",
       "      <td>109.36</td>\n",
       "      <td>108357.717630</td>\n",
       "    </tr>\n",
       "    <tr>\n",
       "      <th>1</th>\n",
       "      <td>2</td>\n",
       "      <td>Wenshan District</td>\n",
       "      <td>2019</td>\n",
       "      <td>10</td>\n",
       "      <td>Premises (land + building)</td>\n",
       "      <td>109.42</td>\n",
       "      <td>91390.970572</td>\n",
       "    </tr>\n",
       "    <tr>\n",
       "      <th>2</th>\n",
       "      <td>3</td>\n",
       "      <td>Wenshan District</td>\n",
       "      <td>2019</td>\n",
       "      <td>4</td>\n",
       "      <td>Premises (land + building) + parking space</td>\n",
       "      <td>163.53</td>\n",
       "      <td>128416.804256</td>\n",
       "    </tr>\n",
       "    <tr>\n",
       "      <th>3</th>\n",
       "      <td>4</td>\n",
       "      <td>Wenshan District</td>\n",
       "      <td>2019</td>\n",
       "      <td>10</td>\n",
       "      <td>Premises (land + building)</td>\n",
       "      <td>204.79</td>\n",
       "      <td>328157.624884</td>\n",
       "    </tr>\n",
       "    <tr>\n",
       "      <th>4</th>\n",
       "      <td>5</td>\n",
       "      <td>Zhongzheng District</td>\n",
       "      <td>2019</td>\n",
       "      <td>9</td>\n",
       "      <td>Premises (land + building)</td>\n",
       "      <td>88.70</td>\n",
       "      <td>205749.718151</td>\n",
       "    </tr>\n",
       "  </tbody>\n",
       "</table>\n",
       "</div>"
      ],
      "text/plain": [
       "   index             district  transaction_year  transaction_month  \\\n",
       "0      1     Wenshan District              2019                 10   \n",
       "1      2     Wenshan District              2019                 10   \n",
       "2      3     Wenshan District              2019                  4   \n",
       "3      4     Wenshan District              2019                 10   \n",
       "4      5  Zhongzheng District              2019                  9   \n",
       "\n",
       "                             transaction_type  building_shift_total_area  \\\n",
       "0                  Premises (land + building)                     109.36   \n",
       "1                  Premises (land + building)                     109.42   \n",
       "2  Premises (land + building) + parking space                     163.53   \n",
       "3                  Premises (land + building)                     204.79   \n",
       "4                  Premises (land + building)                      88.70   \n",
       "\n",
       "        unit_ntd  \n",
       "0  108357.717630  \n",
       "1   91390.970572  \n",
       "2  128416.804256  \n",
       "3  328157.624884  \n",
       "4  205749.718151  "
      ]
     },
     "execution_count": 20,
     "metadata": {},
     "output_type": "execute_result"
    }
   ],
   "source": [
    "# filter out new dataframe for the research with 4 conditions, name it inference_df. \n",
    "inference_df=new_taipei_df[(new_taipei_df['transaction_year']==2019) &\n",
    "                          (new_taipei_df['building_shift_total_area']<=500) &\n",
    "                          (new_taipei_df['building_shift_total_area']<=2000000) & \n",
    "                          ((new_taipei_df['transaction_type']=='Premises (land + building)')|\n",
    "                          (new_taipei_df['transaction_type']=='Premises (land + building) + parking space'))].reset_index()\n",
    "\n",
    "# test if inference_df is available\n",
    "inference_df.head()"
   ]
  },
  {
   "cell_type": "markdown",
   "metadata": {},
   "source": [
    "The average unit price is simply the average of unit_ntd. It is supposed to be calculated based on the sum of product of building shift total area and unit price of each observation, then divided by the total area. Therefore. a total price of each observation needs to be added to the dataframe."
   ]
  },
  {
   "cell_type": "markdown",
   "metadata": {},
   "source": [
    "* Artificially create a column 'total_price' and assign the value of building_shift_total_area`*`unit_ntd to the new column."
   ]
  },
  {
   "cell_type": "code",
   "execution_count": 21,
   "metadata": {},
   "outputs": [
    {
     "data": {
      "text/html": [
       "<div>\n",
       "<style scoped>\n",
       "    .dataframe tbody tr th:only-of-type {\n",
       "        vertical-align: middle;\n",
       "    }\n",
       "\n",
       "    .dataframe tbody tr th {\n",
       "        vertical-align: top;\n",
       "    }\n",
       "\n",
       "    .dataframe thead th {\n",
       "        text-align: right;\n",
       "    }\n",
       "</style>\n",
       "<table border=\"1\" class=\"dataframe\">\n",
       "  <thead>\n",
       "    <tr style=\"text-align: right;\">\n",
       "      <th></th>\n",
       "      <th>index</th>\n",
       "      <th>district</th>\n",
       "      <th>transaction_year</th>\n",
       "      <th>transaction_month</th>\n",
       "      <th>transaction_type</th>\n",
       "      <th>building_shift_total_area</th>\n",
       "      <th>unit_ntd</th>\n",
       "      <th>total_price</th>\n",
       "    </tr>\n",
       "  </thead>\n",
       "  <tbody>\n",
       "    <tr>\n",
       "      <th>0</th>\n",
       "      <td>1</td>\n",
       "      <td>Wenshan District</td>\n",
       "      <td>2019</td>\n",
       "      <td>10</td>\n",
       "      <td>Premises (land + building)</td>\n",
       "      <td>109.36</td>\n",
       "      <td>108357.717630</td>\n",
       "      <td>11850000.0</td>\n",
       "    </tr>\n",
       "    <tr>\n",
       "      <th>1</th>\n",
       "      <td>2</td>\n",
       "      <td>Wenshan District</td>\n",
       "      <td>2019</td>\n",
       "      <td>10</td>\n",
       "      <td>Premises (land + building)</td>\n",
       "      <td>109.42</td>\n",
       "      <td>91390.970572</td>\n",
       "      <td>10000000.0</td>\n",
       "    </tr>\n",
       "    <tr>\n",
       "      <th>2</th>\n",
       "      <td>3</td>\n",
       "      <td>Wenshan District</td>\n",
       "      <td>2019</td>\n",
       "      <td>4</td>\n",
       "      <td>Premises (land + building) + parking space</td>\n",
       "      <td>163.53</td>\n",
       "      <td>128416.804256</td>\n",
       "      <td>21000000.0</td>\n",
       "    </tr>\n",
       "    <tr>\n",
       "      <th>3</th>\n",
       "      <td>4</td>\n",
       "      <td>Wenshan District</td>\n",
       "      <td>2019</td>\n",
       "      <td>10</td>\n",
       "      <td>Premises (land + building)</td>\n",
       "      <td>204.79</td>\n",
       "      <td>328157.624884</td>\n",
       "      <td>67203400.0</td>\n",
       "    </tr>\n",
       "    <tr>\n",
       "      <th>4</th>\n",
       "      <td>5</td>\n",
       "      <td>Zhongzheng District</td>\n",
       "      <td>2019</td>\n",
       "      <td>9</td>\n",
       "      <td>Premises (land + building)</td>\n",
       "      <td>88.70</td>\n",
       "      <td>205749.718151</td>\n",
       "      <td>18250000.0</td>\n",
       "    </tr>\n",
       "  </tbody>\n",
       "</table>\n",
       "</div>"
      ],
      "text/plain": [
       "   index             district  transaction_year  transaction_month  \\\n",
       "0      1     Wenshan District              2019                 10   \n",
       "1      2     Wenshan District              2019                 10   \n",
       "2      3     Wenshan District              2019                  4   \n",
       "3      4     Wenshan District              2019                 10   \n",
       "4      5  Zhongzheng District              2019                  9   \n",
       "\n",
       "                             transaction_type  building_shift_total_area  \\\n",
       "0                  Premises (land + building)                     109.36   \n",
       "1                  Premises (land + building)                     109.42   \n",
       "2  Premises (land + building) + parking space                     163.53   \n",
       "3                  Premises (land + building)                     204.79   \n",
       "4                  Premises (land + building)                      88.70   \n",
       "\n",
       "        unit_ntd  total_price  \n",
       "0  108357.717630   11850000.0  \n",
       "1   91390.970572   10000000.0  \n",
       "2  128416.804256   21000000.0  \n",
       "3  328157.624884   67203400.0  \n",
       "4  205749.718151   18250000.0  "
      ]
     },
     "execution_count": 21,
     "metadata": {},
     "output_type": "execute_result"
    }
   ],
   "source": [
    "#new=inference_df['building_shift_total_area']*inference_df['unit_ntd']\n",
    "inference_df['total_price']=inference_df['building_shift_total_area']*inference_df['unit_ntd']\n",
    "\n",
    "\n",
    "# test new dataframe\n",
    "inference_df.head()"
   ]
  },
  {
   "cell_type": "markdown",
   "metadata": {},
   "source": [
    "* Group the inference_df dataframe by district, and sum the value of each district. Convert the sum result as a dataframe for further average unit price calculation and plotting."
   ]
  },
  {
   "cell_type": "code",
   "execution_count": 22,
   "metadata": {},
   "outputs": [
    {
     "data": {
      "image/png": "[encoded data removed]",
      "text/plain": [
       "<Figure size 432x288 with 1 Axes>"
      ]
     },
     "metadata": {
      "needs_background": "light"
     },
     "output_type": "display_data"
    }
   ],
   "source": [
    "# get the sum result of inference_df group by district, convert it to sum_result dataframe\n",
    "sum_result=pd.DataFrame(inference_df.groupby(['district']).sum())\n",
    "\n",
    "# Using sum_result to calculate the average unit price of each district. Converting result to avg_df ready for plotting\n",
    "avg_df=pd.DataFrame(sum_result['total_price']/sum_result['building_shift_total_area']).reset_index()\n",
    "\n",
    "# Change column names for clarification\n",
    "avg_df.columns = ['District','Average unit price']\n",
    "\n",
    "# Use matplotlib to show the result\n",
    "avg_df.plot.barh(x='District',legend=False)\n",
    "plt.xlabel('Average unit price (NTD)')\n",
    "plt.title('Average Unit Price of Each District')\n",
    "plt.show()"
   ]
  },
  {
   "cell_type": "code",
   "execution_count": 23,
   "metadata": {},
   "outputs": [
    {
     "data": {
      "image/png": "[encoded data removed]",
      "text/plain": [
       "<Figure size 432x288 with 1 Axes>"
      ]
     },
     "metadata": {
      "needs_background": "light"
     },
     "output_type": "display_data"
    }
   ],
   "source": [
    "# Use Seaborn to show the result\n",
    "sns.barplot(x='Average unit price',y='District',data=avg_df).set_title('Average Unit Price of Each District')\n",
    "plt.xlabel('Average unit price (NTD)')\n",
    "plt.show()"
   ]
  },
  {
   "cell_type": "markdown",
   "metadata": {},
   "source": [
    "As shown in the plot, Daan district had the highest average unit price, which is reaching 250,000 NTD per square meter.\n",
    "Take a closer look at Daan district, which month has the hight average unit price according to the record?"
   ]
  },
  {
   "cell_type": "markdown",
   "metadata": {},
   "source": [
    "* Pick out observations for Daan district in inference_df and sum the total price by transaction_month and calculate the average. Convert the result as dataframe for plotting."
   ]
  },
  {
   "cell_type": "code",
   "execution_count": 24,
   "metadata": {},
   "outputs": [
    {
     "data": {
      "image/png": "[encoded data removed]",
      "text/plain": [
       "<Figure size 432x288 with 1 Axes>"
      ]
     },
     "metadata": {
      "needs_background": "light"
     },
     "output_type": "display_data"
    }
   ],
   "source": [
    "# pick out observation of Daan district and sum the total price by month.  \n",
    "daan_df=pd.DataFrame(inference_df[inference_df['district']=='Daan District'].groupby(['transaction_month']).sum())\n",
    "\n",
    "# convert the average unit price of each month to a dataframe mon_avg_df\n",
    "mon_avg_df=pd.DataFrame(daan_df['total_price']/daan_df['building_shift_total_area']).reset_index()\n",
    "\n",
    "# Change column names for clarification\n",
    "mon_avg_df.columns = ['Month','Monthly average unit price']\n",
    "\n",
    "# Use matplotlib to show the result\n",
    "mon_avg_df.plot(x='Month',y='Monthly average unit price',legend=False)\n",
    "plt.ylabel('Monthly average unit price (NTD)')\n",
    "plt.title('Average Unit Price of Each Month in Daan')\n",
    "plt.show()"
   ]
  },
  {
   "cell_type": "code",
   "execution_count": 25,
   "metadata": {},
   "outputs": [
    {
     "data": {
      "image/png": "[encoded data removed]",
      "text/plain": [
       "<Figure size 432x288 with 1 Axes>"
      ]
     },
     "metadata": {
      "needs_background": "light"
     },
     "output_type": "display_data"
    }
   ],
   "source": [
    "# Use Seaborn to show the result\n",
    "sns.lineplot(x='Month',y='Monthly average unit price',data=mon_avg_df, color='green').set_title('Average Unit Price of Each Month in Daan')\n",
    "plt.ylabel('Monthly average unit price (NTD)')\n",
    "plt.show()"
   ]
  },
  {
   "cell_type": "markdown",
   "metadata": {},
   "source": [
    "As the line chart showed the trend of the average unit price of Daan district, the average unit prices were high in July and August, reaching 270,000 NTD per square meter. After August, the average unit price dropped around 30,000 NTD per square meter till October in 2019. The average unit price raised 26,000 NTD and reached around 260,000 NTD again in December, 2019."
   ]
  },
  {
   "cell_type": "markdown",
   "metadata": {},
   "source": [
    "## V. Conclusion"
   ]
  },
  {
   "cell_type": "markdown",
   "metadata": {},
   "source": [
    "According to the former news, Daan district had been having the top 1 expensive real estate price in Taipei for years. In 2019, the situation was still the same. In this research, Daan district, Xinyi district, and Zhongzheng district had high average unit prices, over 22,500 NTD per square meter. These districts are located in the downtown area of Taipei with rich education, finance and public health resources. While Wanhua district, Beitou, and Wenshan district had relatively low prices, which were just reaching or less than 15,000 NTD. These districts are suburb areas. \n",
    "\n",
    "The monthly average prices varied according to the research of Daan district. The difference could be over 35,000 NTD per square meter. Therefore, the real estate’s location and trading time are important to home seekers. For residents of Taipei, fall might be the right time to bargain a good price if considering downtown Taipei."
   ]
  },
  {
   "cell_type": "markdown",
   "metadata": {},
   "source": [
    "## References"
   ]
  },
  {
   "cell_type": "markdown",
   "metadata": {},
   "source": [
    "1. https://www.kaggle.com/chrischien17/taiwan-taipei-city-real-estate-transaction-records\n",
    "\n",
    "2. https://plvr.land.moi.gov.tw/DownloadOpenData\n",
    "\n",
    "3. https://stackoverflow.com/questions/31029560/plotting-categorical-data-with-pandas-and-matplotlib\n",
    "\n",
    "4. https://stackoverflow.com/questions/10373660/converting-a-pandas-groupby-output-from-series-to-dataframe\n",
    "\n",
    "5. http://fang.qutaiwan.com/taibei/2014/25.html"
   ]
  },
  {
   "cell_type": "code",
   "execution_count": null,
   "metadata": {},
   "outputs": [],
   "source": []
  }
 ],
 "metadata": {
  "kernelspec": {
   "display_name": "Python 3",
   "language": "python",
   "name": "python3"
  },
  "language_info": {
   "codemirror_mode": {
    "name": "ipython",
    "version": 3
   },
   "file_extension": ".py",
   "mimetype": "text/x-python",
   "name": "python",
   "nbconvert_exporter": "python",
   "pygments_lexer": "ipython3",
   "version": "3.7.6"
  }
 },
 "nbformat": 4,
 "nbformat_minor": 4
}
